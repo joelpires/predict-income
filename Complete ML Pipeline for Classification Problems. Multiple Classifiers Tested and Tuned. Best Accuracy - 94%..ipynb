{
 "cells": [
  {
   "cell_type": "code",
   "execution_count": 124,
   "metadata": {
    "_cell_guid": "b1076dfc-b9ad-4769-8c92-a6c4dae69d19",
    "_uuid": "8f2839f25d086af736a60e9eeb907d3b93b6e0e5"
   },
   "outputs": [],
   "source": [
    "import pandas as pd\n",
    "import numpy as np\n",
    "import time\n",
    "import seaborn as sns\n",
    "import math\n",
    "import matplotlib.pyplot as plt\n",
    "import missingno\n",
    "import scipy.stats as st\n",
    "import scikitplot as skplt\n",
    "import warnings\n",
    "import statsmodels.api as sm\n",
    "\n",
    "from collections import Counter\n",
    "from sklearn.utils import shuffle\n",
    "from sklearn.preprocessing import StandardScaler, OneHotEncoder, LabelEncoder\n",
    "from sklearn.metrics import *\n",
    "from sklearn.decomposition import PCA\n",
    "from sklearn.ensemble import IsolationForest\n",
    "\n",
    "#classifiers\n",
    "from catboost import CatBoostClassifier\n",
    "from xgboost import XGBClassifier\n",
    "from sklearn.linear_model import LogisticRegression\n",
    "from sklearn.ensemble import AdaBoostClassifier\n",
    "from sklearn.ensemble import GradientBoostingClassifier\n",
    "from sklearn.ensemble import RandomForestClassifier\n",
    "from sklearn.linear_model import SGDClassifier\n",
    "from sklearn.neighbors import KNeighborsClassifier\n",
    "from sklearn.neural_network import MLPClassifier\n",
    "from sklearn.tree import DecisionTreeClassifier\n",
    "from sklearn.naive_bayes import GaussianNB\n",
    "from sklearn.discriminant_analysis import LinearDiscriminantAnalysis\n",
    "from sklearn.svm import SVC\n",
    "\n",
    "from sklearn.model_selection import KFold\n",
    "from sklearn.model_selection import train_test_split\n",
    "from sklearn.model_selection import cross_val_score\n",
    "from sklearn.model_selection import StratifiedKFold\n",
    "from sklearn.model_selection import RandomizedSearchCV\n",
    "from sklearn.model_selection import GridSearchCV\n",
    "\n",
    "from imblearn.over_sampling import RandomOverSampler\n",
    "from imblearn.under_sampling import RandomUnderSampler\n",
    "from imblearn.under_sampling import NearMiss\n",
    "from imblearn.combine import SMOTETomek\n",
    "\n",
    "from sklearn.linear_model import LinearRegression\n",
    "from sklearn.linear_model import RidgeCV, LassoCV, Ridge, Lasso\n",
    "\n",
    "from sklearn.feature_selection import RFE\n",
    "from mlxtend.feature_selection import SequentialFeatureSelector as sfs\n",
    "from mlxtend.plotting import plot_sequential_feature_selection as plot_sfs\n",
    "\n",
    "%matplotlib inline\n",
    "warnings.filterwarnings('ignore')"
   ]
  },
  {
   "cell_type": "code",
   "execution_count": 42,
   "metadata": {
    "_cell_guid": "79c7e3d0-c299-4dcb-8224-4455121ee9b0",
    "_uuid": "d629ff2d2480ee46fbb7e2d37f6b5fab8052498a"
   },
   "outputs": [
    {
     "data": {
      "text/plain": [
       "(32561, 15)"
      ]
     },
     "metadata": {},
     "output_type": "display_data"
    },
    {
     "data": {
      "text/html": [
       "<div>\n",
       "<style scoped>\n",
       "    .dataframe tbody tr th:only-of-type {\n",
       "        vertical-align: middle;\n",
       "    }\n",
       "\n",
       "    .dataframe tbody tr th {\n",
       "        vertical-align: top;\n",
       "    }\n",
       "\n",
       "    .dataframe thead th {\n",
       "        text-align: right;\n",
       "    }\n",
       "</style>\n",
       "<table border=\"1\" class=\"dataframe\">\n",
       "  <thead>\n",
       "    <tr style=\"text-align: right;\">\n",
       "      <th></th>\n",
       "      <th>age</th>\n",
       "      <th>workclass</th>\n",
       "      <th>fnlwgt</th>\n",
       "      <th>education</th>\n",
       "      <th>education.num</th>\n",
       "      <th>marital.status</th>\n",
       "      <th>occupation</th>\n",
       "      <th>relationship</th>\n",
       "      <th>race</th>\n",
       "      <th>sex</th>\n",
       "      <th>capital.gain</th>\n",
       "      <th>capital.loss</th>\n",
       "      <th>hours.per.week</th>\n",
       "      <th>native.country</th>\n",
       "      <th>income</th>\n",
       "    </tr>\n",
       "  </thead>\n",
       "  <tbody>\n",
       "    <tr>\n",
       "      <th>0</th>\n",
       "      <td>90</td>\n",
       "      <td>?</td>\n",
       "      <td>77053</td>\n",
       "      <td>HS-grad</td>\n",
       "      <td>9</td>\n",
       "      <td>Widowed</td>\n",
       "      <td>?</td>\n",
       "      <td>Not-in-family</td>\n",
       "      <td>White</td>\n",
       "      <td>Female</td>\n",
       "      <td>0</td>\n",
       "      <td>4356</td>\n",
       "      <td>40</td>\n",
       "      <td>United-States</td>\n",
       "      <td>&lt;=50K</td>\n",
       "    </tr>\n",
       "    <tr>\n",
       "      <th>1</th>\n",
       "      <td>82</td>\n",
       "      <td>Private</td>\n",
       "      <td>132870</td>\n",
       "      <td>HS-grad</td>\n",
       "      <td>9</td>\n",
       "      <td>Widowed</td>\n",
       "      <td>Exec-managerial</td>\n",
       "      <td>Not-in-family</td>\n",
       "      <td>White</td>\n",
       "      <td>Female</td>\n",
       "      <td>0</td>\n",
       "      <td>4356</td>\n",
       "      <td>18</td>\n",
       "      <td>United-States</td>\n",
       "      <td>&lt;=50K</td>\n",
       "    </tr>\n",
       "    <tr>\n",
       "      <th>2</th>\n",
       "      <td>66</td>\n",
       "      <td>?</td>\n",
       "      <td>186061</td>\n",
       "      <td>Some-college</td>\n",
       "      <td>10</td>\n",
       "      <td>Widowed</td>\n",
       "      <td>?</td>\n",
       "      <td>Unmarried</td>\n",
       "      <td>Black</td>\n",
       "      <td>Female</td>\n",
       "      <td>0</td>\n",
       "      <td>4356</td>\n",
       "      <td>40</td>\n",
       "      <td>United-States</td>\n",
       "      <td>&lt;=50K</td>\n",
       "    </tr>\n",
       "    <tr>\n",
       "      <th>3</th>\n",
       "      <td>54</td>\n",
       "      <td>Private</td>\n",
       "      <td>140359</td>\n",
       "      <td>7th-8th</td>\n",
       "      <td>4</td>\n",
       "      <td>Divorced</td>\n",
       "      <td>Machine-op-inspct</td>\n",
       "      <td>Unmarried</td>\n",
       "      <td>White</td>\n",
       "      <td>Female</td>\n",
       "      <td>0</td>\n",
       "      <td>3900</td>\n",
       "      <td>40</td>\n",
       "      <td>United-States</td>\n",
       "      <td>&lt;=50K</td>\n",
       "    </tr>\n",
       "    <tr>\n",
       "      <th>4</th>\n",
       "      <td>41</td>\n",
       "      <td>Private</td>\n",
       "      <td>264663</td>\n",
       "      <td>Some-college</td>\n",
       "      <td>10</td>\n",
       "      <td>Separated</td>\n",
       "      <td>Prof-specialty</td>\n",
       "      <td>Own-child</td>\n",
       "      <td>White</td>\n",
       "      <td>Female</td>\n",
       "      <td>0</td>\n",
       "      <td>3900</td>\n",
       "      <td>40</td>\n",
       "      <td>United-States</td>\n",
       "      <td>&lt;=50K</td>\n",
       "    </tr>\n",
       "  </tbody>\n",
       "</table>\n",
       "</div>"
      ],
      "text/plain": [
       "   age workclass  fnlwgt     education  education.num marital.status  \\\n",
       "0   90         ?   77053       HS-grad              9        Widowed   \n",
       "1   82   Private  132870       HS-grad              9        Widowed   \n",
       "2   66         ?  186061  Some-college             10        Widowed   \n",
       "3   54   Private  140359       7th-8th              4       Divorced   \n",
       "4   41   Private  264663  Some-college             10      Separated   \n",
       "\n",
       "          occupation   relationship   race     sex  capital.gain  \\\n",
       "0                  ?  Not-in-family  White  Female             0   \n",
       "1    Exec-managerial  Not-in-family  White  Female             0   \n",
       "2                  ?      Unmarried  Black  Female             0   \n",
       "3  Machine-op-inspct      Unmarried  White  Female             0   \n",
       "4     Prof-specialty      Own-child  White  Female             0   \n",
       "\n",
       "   capital.loss  hours.per.week native.country income  \n",
       "0          4356              40  United-States  <=50K  \n",
       "1          4356              18  United-States  <=50K  \n",
       "2          4356              40  United-States  <=50K  \n",
       "3          3900              40  United-States  <=50K  \n",
       "4          3900              40  United-States  <=50K  "
      ]
     },
     "metadata": {},
     "output_type": "display_data"
    },
    {
     "data": {
      "text/html": [
       "<div>\n",
       "<style scoped>\n",
       "    .dataframe tbody tr th:only-of-type {\n",
       "        vertical-align: middle;\n",
       "    }\n",
       "\n",
       "    .dataframe tbody tr th {\n",
       "        vertical-align: top;\n",
       "    }\n",
       "\n",
       "    .dataframe thead th {\n",
       "        text-align: right;\n",
       "    }\n",
       "</style>\n",
       "<table border=\"1\" class=\"dataframe\">\n",
       "  <thead>\n",
       "    <tr style=\"text-align: right;\">\n",
       "      <th></th>\n",
       "      <th>age</th>\n",
       "      <th>workclass</th>\n",
       "      <th>fnlwgt</th>\n",
       "      <th>education</th>\n",
       "      <th>education.num</th>\n",
       "      <th>marital.status</th>\n",
       "      <th>occupation</th>\n",
       "      <th>relationship</th>\n",
       "      <th>race</th>\n",
       "      <th>sex</th>\n",
       "      <th>capital.gain</th>\n",
       "      <th>capital.loss</th>\n",
       "      <th>hours.per.week</th>\n",
       "      <th>native.country</th>\n",
       "      <th>income</th>\n",
       "    </tr>\n",
       "  </thead>\n",
       "  <tbody>\n",
       "    <tr>\n",
       "      <th>32556</th>\n",
       "      <td>22</td>\n",
       "      <td>Private</td>\n",
       "      <td>310152</td>\n",
       "      <td>Some-college</td>\n",
       "      <td>10</td>\n",
       "      <td>Never-married</td>\n",
       "      <td>Protective-serv</td>\n",
       "      <td>Not-in-family</td>\n",
       "      <td>White</td>\n",
       "      <td>Male</td>\n",
       "      <td>0</td>\n",
       "      <td>0</td>\n",
       "      <td>40</td>\n",
       "      <td>United-States</td>\n",
       "      <td>&lt;=50K</td>\n",
       "    </tr>\n",
       "    <tr>\n",
       "      <th>32557</th>\n",
       "      <td>27</td>\n",
       "      <td>Private</td>\n",
       "      <td>257302</td>\n",
       "      <td>Assoc-acdm</td>\n",
       "      <td>12</td>\n",
       "      <td>Married-civ-spouse</td>\n",
       "      <td>Tech-support</td>\n",
       "      <td>Wife</td>\n",
       "      <td>White</td>\n",
       "      <td>Female</td>\n",
       "      <td>0</td>\n",
       "      <td>0</td>\n",
       "      <td>38</td>\n",
       "      <td>United-States</td>\n",
       "      <td>&lt;=50K</td>\n",
       "    </tr>\n",
       "    <tr>\n",
       "      <th>32558</th>\n",
       "      <td>40</td>\n",
       "      <td>Private</td>\n",
       "      <td>154374</td>\n",
       "      <td>HS-grad</td>\n",
       "      <td>9</td>\n",
       "      <td>Married-civ-spouse</td>\n",
       "      <td>Machine-op-inspct</td>\n",
       "      <td>Husband</td>\n",
       "      <td>White</td>\n",
       "      <td>Male</td>\n",
       "      <td>0</td>\n",
       "      <td>0</td>\n",
       "      <td>40</td>\n",
       "      <td>United-States</td>\n",
       "      <td>&gt;50K</td>\n",
       "    </tr>\n",
       "    <tr>\n",
       "      <th>32559</th>\n",
       "      <td>58</td>\n",
       "      <td>Private</td>\n",
       "      <td>151910</td>\n",
       "      <td>HS-grad</td>\n",
       "      <td>9</td>\n",
       "      <td>Widowed</td>\n",
       "      <td>Adm-clerical</td>\n",
       "      <td>Unmarried</td>\n",
       "      <td>White</td>\n",
       "      <td>Female</td>\n",
       "      <td>0</td>\n",
       "      <td>0</td>\n",
       "      <td>40</td>\n",
       "      <td>United-States</td>\n",
       "      <td>&lt;=50K</td>\n",
       "    </tr>\n",
       "    <tr>\n",
       "      <th>32560</th>\n",
       "      <td>22</td>\n",
       "      <td>Private</td>\n",
       "      <td>201490</td>\n",
       "      <td>HS-grad</td>\n",
       "      <td>9</td>\n",
       "      <td>Never-married</td>\n",
       "      <td>Adm-clerical</td>\n",
       "      <td>Own-child</td>\n",
       "      <td>White</td>\n",
       "      <td>Male</td>\n",
       "      <td>0</td>\n",
       "      <td>0</td>\n",
       "      <td>20</td>\n",
       "      <td>United-States</td>\n",
       "      <td>&lt;=50K</td>\n",
       "    </tr>\n",
       "  </tbody>\n",
       "</table>\n",
       "</div>"
      ],
      "text/plain": [
       "       age workclass  fnlwgt     education  education.num      marital.status  \\\n",
       "32556   22   Private  310152  Some-college             10       Never-married   \n",
       "32557   27   Private  257302    Assoc-acdm             12  Married-civ-spouse   \n",
       "32558   40   Private  154374       HS-grad              9  Married-civ-spouse   \n",
       "32559   58   Private  151910       HS-grad              9             Widowed   \n",
       "32560   22   Private  201490       HS-grad              9       Never-married   \n",
       "\n",
       "              occupation   relationship   race     sex  capital.gain  \\\n",
       "32556    Protective-serv  Not-in-family  White    Male             0   \n",
       "32557       Tech-support           Wife  White  Female             0   \n",
       "32558  Machine-op-inspct        Husband  White    Male             0   \n",
       "32559       Adm-clerical      Unmarried  White  Female             0   \n",
       "32560       Adm-clerical      Own-child  White    Male             0   \n",
       "\n",
       "       capital.loss  hours.per.week native.country income  \n",
       "32556             0              40  United-States  <=50K  \n",
       "32557             0              38  United-States  <=50K  \n",
       "32558             0              40  United-States   >50K  \n",
       "32559             0              40  United-States  <=50K  \n",
       "32560             0              20  United-States  <=50K  "
      ]
     },
     "metadata": {},
     "output_type": "display_data"
    },
    {
     "name": "stdout",
     "output_type": "stream",
     "text": [
      "<class 'pandas.core.frame.DataFrame'>\n",
      "RangeIndex: 32561 entries, 0 to 32560\n",
      "Data columns (total 15 columns):\n",
      "age               32561 non-null int64\n",
      "workclass         32561 non-null object\n",
      "fnlwgt            32561 non-null int64\n",
      "education         32561 non-null object\n",
      "education.num     32561 non-null int64\n",
      "marital.status    32561 non-null object\n",
      "occupation        32561 non-null object\n",
      "relationship      32561 non-null object\n",
      "race              32561 non-null object\n",
      "sex               32561 non-null object\n",
      "capital.gain      32561 non-null int64\n",
      "capital.loss      32561 non-null int64\n",
      "hours.per.week    32561 non-null int64\n",
      "native.country    32561 non-null object\n",
      "income            32561 non-null object\n",
      "dtypes: int64(6), object(9)\n",
      "memory usage: 3.7+ MB\n"
     ]
    },
    {
     "data": {
      "text/plain": [
       "None"
      ]
     },
     "metadata": {},
     "output_type": "display_data"
    }
   ],
   "source": [
    "#Load and Preview\n",
    "df = pd.read_csv('adult.csv')\n",
    "display(df.shape)\n",
    "display(df.head())\n",
    "display(df.tail())\n",
    "display(df.info())"
   ]
  },
  {
   "cell_type": "markdown",
   "metadata": {},
   "source": [
    "# **EXPLORATORY ANALYSIS**"
   ]
  },
  {
   "cell_type": "code",
   "execution_count": 43,
   "metadata": {},
   "outputs": [
    {
     "data": {
      "text/plain": [
       "36    898\n",
       "31    888\n",
       "34    886\n",
       "23    877\n",
       "35    876\n",
       "     ... \n",
       "83      6\n",
       "85      3\n",
       "88      3\n",
       "87      1\n",
       "86      1\n",
       "Name: age, Length: 73, dtype: int64"
      ]
     },
     "metadata": {},
     "output_type": "display_data"
    },
    {
     "data": {
      "text/plain": [
       "Private             22696\n",
       "Self-emp-not-inc     2541\n",
       "Local-gov            2093\n",
       "?                    1836\n",
       "State-gov            1298\n",
       "Self-emp-inc         1116\n",
       "Federal-gov           960\n",
       "Without-pay            14\n",
       "Never-worked            7\n",
       "Name: workclass, dtype: int64"
      ]
     },
     "metadata": {},
     "output_type": "display_data"
    },
    {
     "data": {
      "text/plain": [
       "123011    13\n",
       "203488    13\n",
       "164190    13\n",
       "126675    12\n",
       "121124    12\n",
       "          ..\n",
       "36376      1\n",
       "78567      1\n",
       "180407     1\n",
       "210869     1\n",
       "125489     1\n",
       "Name: fnlwgt, Length: 21648, dtype: int64"
      ]
     },
     "metadata": {},
     "output_type": "display_data"
    },
    {
     "data": {
      "text/plain": [
       "HS-grad         10501\n",
       "Some-college     7291\n",
       "Bachelors        5355\n",
       "Masters          1723\n",
       "Assoc-voc        1382\n",
       "11th             1175\n",
       "Assoc-acdm       1067\n",
       "10th              933\n",
       "7th-8th           646\n",
       "Prof-school       576\n",
       "9th               514\n",
       "12th              433\n",
       "Doctorate         413\n",
       "5th-6th           333\n",
       "1st-4th           168\n",
       "Preschool          51\n",
       "Name: education, dtype: int64"
      ]
     },
     "metadata": {},
     "output_type": "display_data"
    },
    {
     "data": {
      "text/plain": [
       "9     10501\n",
       "10     7291\n",
       "13     5355\n",
       "14     1723\n",
       "11     1382\n",
       "7      1175\n",
       "12     1067\n",
       "6       933\n",
       "4       646\n",
       "15      576\n",
       "5       514\n",
       "8       433\n",
       "16      413\n",
       "3       333\n",
       "2       168\n",
       "1        51\n",
       "Name: education.num, dtype: int64"
      ]
     },
     "metadata": {},
     "output_type": "display_data"
    },
    {
     "data": {
      "text/plain": [
       "Married-civ-spouse       14976\n",
       "Never-married            10683\n",
       "Divorced                  4443\n",
       "Separated                 1025\n",
       "Widowed                    993\n",
       "Married-spouse-absent      418\n",
       "Married-AF-spouse           23\n",
       "Name: marital.status, dtype: int64"
      ]
     },
     "metadata": {},
     "output_type": "display_data"
    },
    {
     "data": {
      "text/plain": [
       "Prof-specialty       4140\n",
       "Craft-repair         4099\n",
       "Exec-managerial      4066\n",
       "Adm-clerical         3770\n",
       "Sales                3650\n",
       "Other-service        3295\n",
       "Machine-op-inspct    2002\n",
       "?                    1843\n",
       "Transport-moving     1597\n",
       "Handlers-cleaners    1370\n",
       "Farming-fishing       994\n",
       "Tech-support          928\n",
       "Protective-serv       649\n",
       "Priv-house-serv       149\n",
       "Armed-Forces            9\n",
       "Name: occupation, dtype: int64"
      ]
     },
     "metadata": {},
     "output_type": "display_data"
    },
    {
     "data": {
      "text/plain": [
       "Husband           13193\n",
       "Not-in-family      8305\n",
       "Own-child          5068\n",
       "Unmarried          3446\n",
       "Wife               1568\n",
       "Other-relative      981\n",
       "Name: relationship, dtype: int64"
      ]
     },
     "metadata": {},
     "output_type": "display_data"
    },
    {
     "data": {
      "text/plain": [
       "White                 27816\n",
       "Black                  3124\n",
       "Asian-Pac-Islander     1039\n",
       "Amer-Indian-Eskimo      311\n",
       "Other                   271\n",
       "Name: race, dtype: int64"
      ]
     },
     "metadata": {},
     "output_type": "display_data"
    },
    {
     "data": {
      "text/plain": [
       "Male      21790\n",
       "Female    10771\n",
       "Name: sex, dtype: int64"
      ]
     },
     "metadata": {},
     "output_type": "display_data"
    },
    {
     "data": {
      "text/plain": [
       "0        29849\n",
       "15024      347\n",
       "7688       284\n",
       "7298       246\n",
       "99999      159\n",
       "         ...  \n",
       "4931         1\n",
       "1455         1\n",
       "6097         1\n",
       "22040        1\n",
       "1111         1\n",
       "Name: capital.gain, Length: 119, dtype: int64"
      ]
     },
     "metadata": {},
     "output_type": "display_data"
    },
    {
     "data": {
      "text/plain": [
       "0       31042\n",
       "1902      202\n",
       "1977      168\n",
       "1887      159\n",
       "1848       51\n",
       "        ...  \n",
       "1411        1\n",
       "1539        1\n",
       "2472        1\n",
       "1944        1\n",
       "2201        1\n",
       "Name: capital.loss, Length: 92, dtype: int64"
      ]
     },
     "metadata": {},
     "output_type": "display_data"
    },
    {
     "data": {
      "text/plain": [
       "40    15217\n",
       "50     2819\n",
       "45     1824\n",
       "60     1475\n",
       "35     1297\n",
       "      ...  \n",
       "92        1\n",
       "94        1\n",
       "87        1\n",
       "74        1\n",
       "82        1\n",
       "Name: hours.per.week, Length: 94, dtype: int64"
      ]
     },
     "metadata": {},
     "output_type": "display_data"
    },
    {
     "data": {
      "text/plain": [
       "United-States                 29170\n",
       "Mexico                          643\n",
       "?                               583\n",
       "Philippines                     198\n",
       "Germany                         137\n",
       "Canada                          121\n",
       "Puerto-Rico                     114\n",
       "El-Salvador                     106\n",
       "India                           100\n",
       "Cuba                             95\n",
       "England                          90\n",
       "Jamaica                          81\n",
       "South                            80\n",
       "China                            75\n",
       "Italy                            73\n",
       "Dominican-Republic               70\n",
       "Vietnam                          67\n",
       "Guatemala                        64\n",
       "Japan                            62\n",
       "Poland                           60\n",
       "Columbia                         59\n",
       "Taiwan                           51\n",
       "Haiti                            44\n",
       "Iran                             43\n",
       "Portugal                         37\n",
       "Nicaragua                        34\n",
       "Peru                             31\n",
       "Greece                           29\n",
       "France                           29\n",
       "Ecuador                          28\n",
       "Ireland                          24\n",
       "Hong                             20\n",
       "Cambodia                         19\n",
       "Trinadad&Tobago                  19\n",
       "Thailand                         18\n",
       "Laos                             18\n",
       "Yugoslavia                       16\n",
       "Outlying-US(Guam-USVI-etc)       14\n",
       "Hungary                          13\n",
       "Honduras                         13\n",
       "Scotland                         12\n",
       "Holand-Netherlands                1\n",
       "Name: native.country, dtype: int64"
      ]
     },
     "metadata": {},
     "output_type": "display_data"
    },
    {
     "data": {
      "text/plain": [
       "<=50K    24720\n",
       ">50K      7841\n",
       "Name: income, dtype: int64"
      ]
     },
     "metadata": {},
     "output_type": "display_data"
    }
   ],
   "source": [
    "for col in df.columns:\n",
    "    display(df[col].value_counts())"
   ]
  },
  {
   "cell_type": "code",
   "execution_count": 44,
   "metadata": {},
   "outputs": [
    {
     "data": {
      "text/plain": [
       "(array([  0.,  25.,  50.,  75., 100., 125.]),\n",
       " <a list of 6 Text xticklabel objects>)"
      ]
     },
     "execution_count": 44,
     "metadata": {},
     "output_type": "execute_result"
    },
    {
     "data": {
      "image/png": "[encoded data removed]",
      "text/plain": [
       "<Figure size 1080x648 with 36 Axes>"
      ]
     },
     "metadata": {
      "needs_background": "light"
     },
     "output_type": "display_data"
    }
   ],
   "source": [
    "pd.plotting.scatter_matrix(df.head(500), figsize = (15,9), diagonal = 'hist' )\n",
    "plt.xticks(rotation = 90)"
   ]
  },
  {
   "cell_type": "code",
   "execution_count": 45,
   "metadata": {},
   "outputs": [
    {
     "data": {
      "text/plain": [
       "<matplotlib.axes._subplots.AxesSubplot at 0x1718b901080>"
      ]
     },
     "execution_count": 45,
     "metadata": {},
     "output_type": "execute_result"
    },
    {
     "data": {
      "image/png": "[encoded data removed]",
      "text/plain": [
       "<Figure size 1080x1440 with 6 Axes>"
      ]
     },
     "metadata": {
      "needs_background": "light"
     },
     "output_type": "display_data"
    }
   ],
   "source": [
    "fig, ((a,b),(c,d),(e,f)) = plt.subplots(3,2,figsize=(15,20))\n",
    "plt.xticks(rotation=45)\n",
    "sns.countplot(df['workclass'],hue=df['income'],ax=f)\n",
    "sns.countplot(df['relationship'],hue=df['income'],ax=b)\n",
    "sns.countplot(df['marital.status'],hue=df['income'],ax=c)\n",
    "sns.countplot(df['race'],hue=df['income'],ax=d)\n",
    "sns.countplot(df['sex'],hue=df['income'],ax=e)\n",
    "sns.countplot(df['native.country'],hue=df['income'],ax=a)"
   ]
  },
  {
   "cell_type": "code",
   "execution_count": 46,
   "metadata": {},
   "outputs": [
    {
     "data": {
      "text/plain": [
       "<matplotlib.axes._subplots.AxesSubplot at 0x1718c0f25f8>"
      ]
     },
     "execution_count": 46,
     "metadata": {},
     "output_type": "execute_result"
    },
    {
     "data": {
      "image/png": "[encoded data removed]",
      "text/plain": [
       "<Figure size 1440x432 with 2 Axes>"
      ]
     },
     "metadata": {
      "needs_background": "light"
     },
     "output_type": "display_data"
    }
   ],
   "source": [
    "fig, (a,b)= plt.subplots(1,2,figsize=(20,6))\n",
    "sns.boxplot(y='hours.per.week',x='income',data=df,ax=a)\n",
    "sns.boxplot(y='age',x='income',data=df,ax=b)"
   ]
  },
  {
   "cell_type": "code",
   "execution_count": 47,
   "metadata": {},
   "outputs": [],
   "source": [
    "#manipulating data to see it through different perspectives\n",
    "\n",
    "#df.sort_values(['age','fnlwgt'], ascending = False).head(20)\n",
    "#df.groupby(df.age).count().plot(kind = 'bar')\n",
    "#df.groupby('age')['fnlwgt'].mean().sort_values(ascending = False).head(10)\n",
    "#pd.crosstab(df.age, df.fnlwgt).apply(lambda x: x/x.sum(), axis=1)\n",
    "#df['young_male'] = ((df.fnlwgt == '19302') & (df.age < 30)).map({True: 'young male', False: 'other'})\n",
    "#display(df['young_male'])"
   ]
  },
  {
   "cell_type": "markdown",
   "metadata": {},
   "source": [
    "# **DATA CLEANING**\n",
    "- Duplicates\n",
    "- Non-sense values or errors\n",
    "- Missing values\n",
    "- Scaling\n",
    "- Data type conversions\n",
    "- Randomize data \n",
    "- Class imbalances \n",
    "- Outliers\n",
    "- Data Split"
   ]
  },
  {
   "cell_type": "markdown",
   "metadata": {},
   "source": [
    "### **Nonsense values**\n",
    "Negative Values, etc"
   ]
  },
  {
   "cell_type": "code",
   "execution_count": 48,
   "metadata": {},
   "outputs": [
    {
     "data": {
      "image/png": "[encoded data removed]",
      "text/plain": [
       "<Figure size 1440x1440 with 15 Axes>"
      ]
     },
     "metadata": {
      "needs_background": "light"
     },
     "output_type": "display_data"
    }
   ],
   "source": [
    "fig = plt.figure(figsize = (20,20))\n",
    "cols = 3\n",
    "rows = math.ceil(float(df.shape[1] / cols))\n",
    "for i, column in enumerate(list(df.columns)):\n",
    "    ax = fig.add_subplot(rows, cols, i + 1)\n",
    "    ax.set_title(column)\n",
    "    if df.dtypes[column] == np.object:\n",
    "        df[column].value_counts().plot(kind = 'bar', axes = ax)\n",
    "    else:\n",
    "        df[column].hist(axes = ax)\n",
    "        plt.xticks(rotation = 'vertical')\n",
    "plt.subplots_adjust(hspace = 0.7, wspace = 0.2)\n",
    "plt.show()"
   ]
  },
  {
   "cell_type": "code",
   "execution_count": 49,
   "metadata": {},
   "outputs": [
    {
     "name": "stdout",
     "output_type": "stream",
     "text": [
      "age\n",
      "[90 82 66 54 41 34 38 74 68 45 52 32 51 46 57 22 37 29 61 21 33 49 23 59\n",
      " 60 63 53 44 43 71 48 73 67 40 50 42 39 55 47 31 58 62 36 72 78 83 26 70\n",
      " 27 35 81 65 25 28 56 69 20 30 24 64 75 19 77 80 18 17 76 79 88 84 85 86\n",
      " 87]\n",
      "\n",
      "\n",
      "workclass\n",
      "['?' 'Private' 'State-gov' 'Federal-gov' 'Self-emp-not-inc' 'Self-emp-inc'\n",
      " 'Local-gov' 'Without-pay' 'Never-worked']\n",
      "\n",
      "\n",
      "fnlwgt\n",
      "[ 77053 132870 186061 ...  34066  84661 257302]\n",
      "\n",
      "\n",
      "education\n",
      "['HS-grad' 'Some-college' '7th-8th' '10th' 'Doctorate' 'Prof-school'\n",
      " 'Bachelors' 'Masters' '11th' 'Assoc-acdm' 'Assoc-voc' '1st-4th' '5th-6th'\n",
      " '12th' '9th' 'Preschool']\n",
      "\n",
      "\n",
      "education.num\n",
      "[ 9 10  4  6 16 15 13 14  7 12 11  2  3  8  5  1]\n",
      "\n",
      "\n",
      "marital.status\n",
      "['Widowed' 'Divorced' 'Separated' 'Never-married' 'Married-civ-spouse'\n",
      " 'Married-spouse-absent' 'Married-AF-spouse']\n",
      "\n",
      "\n",
      "occupation\n",
      "['?' 'Exec-managerial' 'Machine-op-inspct' 'Prof-specialty'\n",
      " 'Other-service' 'Adm-clerical' 'Craft-repair' 'Transport-moving'\n",
      " 'Handlers-cleaners' 'Sales' 'Farming-fishing' 'Tech-support'\n",
      " 'Protective-serv' 'Armed-Forces' 'Priv-house-serv']\n",
      "\n",
      "\n",
      "relationship\n",
      "['Not-in-family' 'Unmarried' 'Own-child' 'Other-relative' 'Husband' 'Wife']\n",
      "\n",
      "\n",
      "race\n",
      "['White' 'Black' 'Asian-Pac-Islander' 'Other' 'Amer-Indian-Eskimo']\n",
      "\n",
      "\n",
      "sex\n",
      "['Female' 'Male']\n",
      "\n",
      "\n",
      "capital.gain\n",
      "[    0 99999 41310 34095 27828 25236 25124 22040 20051 18481 15831 15024\n",
      " 15020 14344 14084 13550 11678 10605 10566 10520  9562  9386  8614  7978\n",
      "  7896  7688  7443  7430  7298  6849  6767  6723  6514  6497  6418  6360\n",
      "  6097  5721  5556  5455  5178  5060  5013  4934  4931  4865  4787  4687\n",
      "  4650  4508  4416  4386  4101  4064  3942  3908  3887  3818  3781  3674\n",
      "  3471  3464  3456  3432  3418  3411  3325  3273  3137  3103  2993  2977\n",
      "  2964  2961  2936  2907  2885  2829  2653  2635  2597  2580  2538  2463\n",
      "  2414  2407  2387  2354  2346  2329  2290  2228  2202  2176  2174  2105\n",
      "  2062  2050  2036  2009  1848  1831  1797  1639  1506  1471  1455  1424\n",
      "  1409  1173  1151  1111  1086  1055   991   914   594   401   114]\n",
      "\n",
      "\n",
      "capital.loss\n",
      "[4356 3900 3770 3683 3004 2824 2754 2603 2559 2547 2489 2472 2467 2457\n",
      " 2444 2415 2392 2377 2352 2339 2282 2267 2258 2246 2238 2231 2206 2205\n",
      " 2201 2179 2174 2163 2149 2129 2080 2057 2051 2042 2002 2001 1980 1977\n",
      " 1974 1944 1902 1887 1876 1848 1844 1825 1816 1762 1755 1741 1740 1735\n",
      " 1726 1721 1719 1672 1669 1668 1651 1648 1628 1617 1602 1594 1590 1579\n",
      " 1573 1564 1539 1504 1485 1411 1408 1380 1340 1258 1138 1092  974  880\n",
      "  810  653  625  419  323  213  155    0]\n",
      "\n",
      "\n",
      "hours.per.week\n",
      "[40 18 45 20 60 35 55 76 50 42 25 32 90 48 15 70 52 72 39  6 65 12 80 67\n",
      " 99 30 75 26 36 10 84 38 62 44  8 28 59  5 24 57 34 37 46 56 41 98 43 63\n",
      "  1 47 68 54  2 16  9  3  4 33 23 22 64 51 19 58 53 96 66 21  7 13 27 11\n",
      " 14 77 31 78 49 17 85 87 88 73 89 97 94 29 82 86 91 81 92 61 74 95]\n",
      "\n",
      "\n",
      "native.country\n",
      "['United-States' '?' 'Mexico' 'Greece' 'Vietnam' 'China' 'Taiwan' 'India'\n",
      " 'Philippines' 'Trinadad&Tobago' 'Canada' 'South' 'Holand-Netherlands'\n",
      " 'Puerto-Rico' 'Poland' 'Iran' 'England' 'Germany' 'Italy' 'Japan' 'Hong'\n",
      " 'Honduras' 'Cuba' 'Ireland' 'Cambodia' 'Peru' 'Nicaragua'\n",
      " 'Dominican-Republic' 'Haiti' 'El-Salvador' 'Hungary' 'Columbia'\n",
      " 'Guatemala' 'Jamaica' 'Ecuador' 'France' 'Yugoslavia' 'Scotland'\n",
      " 'Portugal' 'Laos' 'Thailand' 'Outlying-US(Guam-USVI-etc)']\n",
      "\n",
      "\n",
      "income\n",
      "['<=50K' '>50K']\n",
      "\n",
      "\n"
     ]
    }
   ],
   "source": [
    "pd.set_option('display.max_columns', 100)\n",
    "for col in df:\n",
    "    print(col)\n",
    "    print (df[col].unique())\n",
    "    print('\\n')\n"
   ]
  },
  {
   "cell_type": "code",
   "execution_count": 50,
   "metadata": {},
   "outputs": [
    {
     "data": {
      "text/html": [
       "<div>\n",
       "<style scoped>\n",
       "    .dataframe tbody tr th:only-of-type {\n",
       "        vertical-align: middle;\n",
       "    }\n",
       "\n",
       "    .dataframe tbody tr th {\n",
       "        vertical-align: top;\n",
       "    }\n",
       "\n",
       "    .dataframe thead th {\n",
       "        text-align: right;\n",
       "    }\n",
       "</style>\n",
       "<table border=\"1\" class=\"dataframe\">\n",
       "  <thead>\n",
       "    <tr style=\"text-align: right;\">\n",
       "      <th></th>\n",
       "      <th>age</th>\n",
       "      <th>workclass</th>\n",
       "      <th>fnlwgt</th>\n",
       "      <th>education</th>\n",
       "      <th>education.num</th>\n",
       "      <th>marital.status</th>\n",
       "      <th>occupation</th>\n",
       "      <th>relationship</th>\n",
       "      <th>race</th>\n",
       "      <th>sex</th>\n",
       "      <th>capital.gain</th>\n",
       "      <th>capital.loss</th>\n",
       "      <th>hours.per.week</th>\n",
       "      <th>native.country</th>\n",
       "      <th>income</th>\n",
       "    </tr>\n",
       "  </thead>\n",
       "  <tbody>\n",
       "    <tr>\n",
       "      <th>count</th>\n",
       "      <td>32561.000000</td>\n",
       "      <td>32561</td>\n",
       "      <td>3.256100e+04</td>\n",
       "      <td>32561</td>\n",
       "      <td>32561.000000</td>\n",
       "      <td>32561</td>\n",
       "      <td>32561</td>\n",
       "      <td>32561</td>\n",
       "      <td>32561</td>\n",
       "      <td>32561</td>\n",
       "      <td>32561.000000</td>\n",
       "      <td>32561.000000</td>\n",
       "      <td>32561.000000</td>\n",
       "      <td>32561</td>\n",
       "      <td>32561</td>\n",
       "    </tr>\n",
       "    <tr>\n",
       "      <th>unique</th>\n",
       "      <td>NaN</td>\n",
       "      <td>9</td>\n",
       "      <td>NaN</td>\n",
       "      <td>16</td>\n",
       "      <td>NaN</td>\n",
       "      <td>7</td>\n",
       "      <td>15</td>\n",
       "      <td>6</td>\n",
       "      <td>5</td>\n",
       "      <td>2</td>\n",
       "      <td>NaN</td>\n",
       "      <td>NaN</td>\n",
       "      <td>NaN</td>\n",
       "      <td>42</td>\n",
       "      <td>2</td>\n",
       "    </tr>\n",
       "    <tr>\n",
       "      <th>top</th>\n",
       "      <td>NaN</td>\n",
       "      <td>Private</td>\n",
       "      <td>NaN</td>\n",
       "      <td>HS-grad</td>\n",
       "      <td>NaN</td>\n",
       "      <td>Married-civ-spouse</td>\n",
       "      <td>Prof-specialty</td>\n",
       "      <td>Husband</td>\n",
       "      <td>White</td>\n",
       "      <td>Male</td>\n",
       "      <td>NaN</td>\n",
       "      <td>NaN</td>\n",
       "      <td>NaN</td>\n",
       "      <td>United-States</td>\n",
       "      <td>&lt;=50K</td>\n",
       "    </tr>\n",
       "    <tr>\n",
       "      <th>freq</th>\n",
       "      <td>NaN</td>\n",
       "      <td>22696</td>\n",
       "      <td>NaN</td>\n",
       "      <td>10501</td>\n",
       "      <td>NaN</td>\n",
       "      <td>14976</td>\n",
       "      <td>4140</td>\n",
       "      <td>13193</td>\n",
       "      <td>27816</td>\n",
       "      <td>21790</td>\n",
       "      <td>NaN</td>\n",
       "      <td>NaN</td>\n",
       "      <td>NaN</td>\n",
       "      <td>29170</td>\n",
       "      <td>24720</td>\n",
       "    </tr>\n",
       "    <tr>\n",
       "      <th>mean</th>\n",
       "      <td>38.581647</td>\n",
       "      <td>NaN</td>\n",
       "      <td>1.897784e+05</td>\n",
       "      <td>NaN</td>\n",
       "      <td>10.080679</td>\n",
       "      <td>NaN</td>\n",
       "      <td>NaN</td>\n",
       "      <td>NaN</td>\n",
       "      <td>NaN</td>\n",
       "      <td>NaN</td>\n",
       "      <td>1077.648844</td>\n",
       "      <td>87.303830</td>\n",
       "      <td>40.437456</td>\n",
       "      <td>NaN</td>\n",
       "      <td>NaN</td>\n",
       "    </tr>\n",
       "    <tr>\n",
       "      <th>std</th>\n",
       "      <td>13.640433</td>\n",
       "      <td>NaN</td>\n",
       "      <td>1.055500e+05</td>\n",
       "      <td>NaN</td>\n",
       "      <td>2.572720</td>\n",
       "      <td>NaN</td>\n",
       "      <td>NaN</td>\n",
       "      <td>NaN</td>\n",
       "      <td>NaN</td>\n",
       "      <td>NaN</td>\n",
       "      <td>7385.292085</td>\n",
       "      <td>402.960219</td>\n",
       "      <td>12.347429</td>\n",
       "      <td>NaN</td>\n",
       "      <td>NaN</td>\n",
       "    </tr>\n",
       "    <tr>\n",
       "      <th>min</th>\n",
       "      <td>17.000000</td>\n",
       "      <td>NaN</td>\n",
       "      <td>1.228500e+04</td>\n",
       "      <td>NaN</td>\n",
       "      <td>1.000000</td>\n",
       "      <td>NaN</td>\n",
       "      <td>NaN</td>\n",
       "      <td>NaN</td>\n",
       "      <td>NaN</td>\n",
       "      <td>NaN</td>\n",
       "      <td>0.000000</td>\n",
       "      <td>0.000000</td>\n",
       "      <td>1.000000</td>\n",
       "      <td>NaN</td>\n",
       "      <td>NaN</td>\n",
       "    </tr>\n",
       "    <tr>\n",
       "      <th>25%</th>\n",
       "      <td>28.000000</td>\n",
       "      <td>NaN</td>\n",
       "      <td>1.178270e+05</td>\n",
       "      <td>NaN</td>\n",
       "      <td>9.000000</td>\n",
       "      <td>NaN</td>\n",
       "      <td>NaN</td>\n",
       "      <td>NaN</td>\n",
       "      <td>NaN</td>\n",
       "      <td>NaN</td>\n",
       "      <td>0.000000</td>\n",
       "      <td>0.000000</td>\n",
       "      <td>40.000000</td>\n",
       "      <td>NaN</td>\n",
       "      <td>NaN</td>\n",
       "    </tr>\n",
       "    <tr>\n",
       "      <th>50%</th>\n",
       "      <td>37.000000</td>\n",
       "      <td>NaN</td>\n",
       "      <td>1.783560e+05</td>\n",
       "      <td>NaN</td>\n",
       "      <td>10.000000</td>\n",
       "      <td>NaN</td>\n",
       "      <td>NaN</td>\n",
       "      <td>NaN</td>\n",
       "      <td>NaN</td>\n",
       "      <td>NaN</td>\n",
       "      <td>0.000000</td>\n",
       "      <td>0.000000</td>\n",
       "      <td>40.000000</td>\n",
       "      <td>NaN</td>\n",
       "      <td>NaN</td>\n",
       "    </tr>\n",
       "    <tr>\n",
       "      <th>75%</th>\n",
       "      <td>48.000000</td>\n",
       "      <td>NaN</td>\n",
       "      <td>2.370510e+05</td>\n",
       "      <td>NaN</td>\n",
       "      <td>12.000000</td>\n",
       "      <td>NaN</td>\n",
       "      <td>NaN</td>\n",
       "      <td>NaN</td>\n",
       "      <td>NaN</td>\n",
       "      <td>NaN</td>\n",
       "      <td>0.000000</td>\n",
       "      <td>0.000000</td>\n",
       "      <td>45.000000</td>\n",
       "      <td>NaN</td>\n",
       "      <td>NaN</td>\n",
       "    </tr>\n",
       "    <tr>\n",
       "      <th>max</th>\n",
       "      <td>90.000000</td>\n",
       "      <td>NaN</td>\n",
       "      <td>1.484705e+06</td>\n",
       "      <td>NaN</td>\n",
       "      <td>16.000000</td>\n",
       "      <td>NaN</td>\n",
       "      <td>NaN</td>\n",
       "      <td>NaN</td>\n",
       "      <td>NaN</td>\n",
       "      <td>NaN</td>\n",
       "      <td>99999.000000</td>\n",
       "      <td>4356.000000</td>\n",
       "      <td>99.000000</td>\n",
       "      <td>NaN</td>\n",
       "      <td>NaN</td>\n",
       "    </tr>\n",
       "  </tbody>\n",
       "</table>\n",
       "</div>"
      ],
      "text/plain": [
       "                 age workclass        fnlwgt education  education.num  \\\n",
       "count   32561.000000     32561  3.256100e+04     32561   32561.000000   \n",
       "unique           NaN         9           NaN        16            NaN   \n",
       "top              NaN   Private           NaN   HS-grad            NaN   \n",
       "freq             NaN     22696           NaN     10501            NaN   \n",
       "mean       38.581647       NaN  1.897784e+05       NaN      10.080679   \n",
       "std        13.640433       NaN  1.055500e+05       NaN       2.572720   \n",
       "min        17.000000       NaN  1.228500e+04       NaN       1.000000   \n",
       "25%        28.000000       NaN  1.178270e+05       NaN       9.000000   \n",
       "50%        37.000000       NaN  1.783560e+05       NaN      10.000000   \n",
       "75%        48.000000       NaN  2.370510e+05       NaN      12.000000   \n",
       "max        90.000000       NaN  1.484705e+06       NaN      16.000000   \n",
       "\n",
       "            marital.status      occupation relationship   race    sex  \\\n",
       "count                32561           32561        32561  32561  32561   \n",
       "unique                   7              15            6      5      2   \n",
       "top     Married-civ-spouse  Prof-specialty      Husband  White   Male   \n",
       "freq                 14976            4140        13193  27816  21790   \n",
       "mean                   NaN             NaN          NaN    NaN    NaN   \n",
       "std                    NaN             NaN          NaN    NaN    NaN   \n",
       "min                    NaN             NaN          NaN    NaN    NaN   \n",
       "25%                    NaN             NaN          NaN    NaN    NaN   \n",
       "50%                    NaN             NaN          NaN    NaN    NaN   \n",
       "75%                    NaN             NaN          NaN    NaN    NaN   \n",
       "max                    NaN             NaN          NaN    NaN    NaN   \n",
       "\n",
       "        capital.gain  capital.loss  hours.per.week native.country income  \n",
       "count   32561.000000  32561.000000    32561.000000          32561  32561  \n",
       "unique           NaN           NaN             NaN             42      2  \n",
       "top              NaN           NaN             NaN  United-States  <=50K  \n",
       "freq             NaN           NaN             NaN          29170  24720  \n",
       "mean     1077.648844     87.303830       40.437456            NaN    NaN  \n",
       "std      7385.292085    402.960219       12.347429            NaN    NaN  \n",
       "min         0.000000      0.000000        1.000000            NaN    NaN  \n",
       "25%         0.000000      0.000000       40.000000            NaN    NaN  \n",
       "50%         0.000000      0.000000       40.000000            NaN    NaN  \n",
       "75%         0.000000      0.000000       45.000000            NaN    NaN  \n",
       "max     99999.000000   4356.000000       99.000000            NaN    NaN  "
      ]
     },
     "metadata": {},
     "output_type": "display_data"
    }
   ],
   "source": [
    "display(df.describe(include = 'all')) #it helps to understand non-sense values"
   ]
  },
  {
   "cell_type": "code",
   "execution_count": 51,
   "metadata": {},
   "outputs": [
    {
     "data": {
      "text/html": [
       "<style  type=\"text/css\" >\n",
       "    #T_09d22e02_3e32_11ea_847a_ba8687537bddrow0_col0 {\n",
       "            color:  black;\n",
       "        }    #T_09d22e02_3e32_11ea_847a_ba8687537bddrow0_col1 {\n",
       "            color:  red;\n",
       "        }    #T_09d22e02_3e32_11ea_847a_ba8687537bddrow0_col2 {\n",
       "            color:  black;\n",
       "        }    #T_09d22e02_3e32_11ea_847a_ba8687537bddrow0_col3 {\n",
       "            color:  black;\n",
       "        }    #T_09d22e02_3e32_11ea_847a_ba8687537bddrow0_col4 {\n",
       "            color:  black;\n",
       "        }    #T_09d22e02_3e32_11ea_847a_ba8687537bddrow1_col0 {\n",
       "            color:  black;\n",
       "        }    #T_09d22e02_3e32_11ea_847a_ba8687537bddrow1_col1 {\n",
       "            color:  red;\n",
       "        }    #T_09d22e02_3e32_11ea_847a_ba8687537bddrow1_col2 {\n",
       "            color:  black;\n",
       "        }    #T_09d22e02_3e32_11ea_847a_ba8687537bddrow1_col3 {\n",
       "            color:  black;\n",
       "        }    #T_09d22e02_3e32_11ea_847a_ba8687537bddrow1_col4 {\n",
       "            color:  black;\n",
       "        }    #T_09d22e02_3e32_11ea_847a_ba8687537bddrow2_col0 {\n",
       "            color:  black;\n",
       "        }    #T_09d22e02_3e32_11ea_847a_ba8687537bddrow2_col1 {\n",
       "            color:  red;\n",
       "        }    #T_09d22e02_3e32_11ea_847a_ba8687537bddrow2_col2 {\n",
       "            color:  black;\n",
       "        }    #T_09d22e02_3e32_11ea_847a_ba8687537bddrow2_col3 {\n",
       "            color:  black;\n",
       "        }    #T_09d22e02_3e32_11ea_847a_ba8687537bddrow2_col4 {\n",
       "            color:  black;\n",
       "        }    #T_09d22e02_3e32_11ea_847a_ba8687537bddrow3_col0 {\n",
       "            color:  black;\n",
       "        }    #T_09d22e02_3e32_11ea_847a_ba8687537bddrow3_col1 {\n",
       "            color:  red;\n",
       "        }    #T_09d22e02_3e32_11ea_847a_ba8687537bddrow3_col2 {\n",
       "            color:  black;\n",
       "        }    #T_09d22e02_3e32_11ea_847a_ba8687537bddrow3_col3 {\n",
       "            color:  black;\n",
       "        }    #T_09d22e02_3e32_11ea_847a_ba8687537bddrow3_col4 {\n",
       "            color:  black;\n",
       "        }    #T_09d22e02_3e32_11ea_847a_ba8687537bddrow4_col0 {\n",
       "            color:  black;\n",
       "        }    #T_09d22e02_3e32_11ea_847a_ba8687537bddrow4_col1 {\n",
       "            color:  red;\n",
       "        }    #T_09d22e02_3e32_11ea_847a_ba8687537bddrow4_col2 {\n",
       "            color:  black;\n",
       "        }    #T_09d22e02_3e32_11ea_847a_ba8687537bddrow4_col3 {\n",
       "            color:  black;\n",
       "        }    #T_09d22e02_3e32_11ea_847a_ba8687537bddrow4_col4 {\n",
       "            color:  black;\n",
       "        }</style><table id=\"T_09d22e02_3e32_11ea_847a_ba8687537bdd\" ><thead>    <tr>        <th class=\"blank level0\" ></th>        <th class=\"col_heading level0 col0\" >age</th>        <th class=\"col_heading level0 col1\" >capital.gain</th>        <th class=\"col_heading level0 col2\" >capital.loss</th>        <th class=\"col_heading level0 col3\" >education.num</th>        <th class=\"col_heading level0 col4\" >fnlwgt</th>    </tr></thead><tbody>\n",
       "                <tr>\n",
       "                        <th id=\"T_09d22e02_3e32_11ea_847a_ba8687537bddlevel0_row0\" class=\"row_heading level0 row0\" >0</th>\n",
       "                        <td id=\"T_09d22e02_3e32_11ea_847a_ba8687537bddrow0_col0\" class=\"data row0 col0\" >90</td>\n",
       "                        <td id=\"T_09d22e02_3e32_11ea_847a_ba8687537bddrow0_col1\" class=\"data row0 col1\" >0</td>\n",
       "                        <td id=\"T_09d22e02_3e32_11ea_847a_ba8687537bddrow0_col2\" class=\"data row0 col2\" >4356</td>\n",
       "                        <td id=\"T_09d22e02_3e32_11ea_847a_ba8687537bddrow0_col3\" class=\"data row0 col3\" >9</td>\n",
       "                        <td id=\"T_09d22e02_3e32_11ea_847a_ba8687537bddrow0_col4\" class=\"data row0 col4\" >77053</td>\n",
       "            </tr>\n",
       "            <tr>\n",
       "                        <th id=\"T_09d22e02_3e32_11ea_847a_ba8687537bddlevel0_row1\" class=\"row_heading level0 row1\" >1</th>\n",
       "                        <td id=\"T_09d22e02_3e32_11ea_847a_ba8687537bddrow1_col0\" class=\"data row1 col0\" >82</td>\n",
       "                        <td id=\"T_09d22e02_3e32_11ea_847a_ba8687537bddrow1_col1\" class=\"data row1 col1\" >0</td>\n",
       "                        <td id=\"T_09d22e02_3e32_11ea_847a_ba8687537bddrow1_col2\" class=\"data row1 col2\" >4356</td>\n",
       "                        <td id=\"T_09d22e02_3e32_11ea_847a_ba8687537bddrow1_col3\" class=\"data row1 col3\" >9</td>\n",
       "                        <td id=\"T_09d22e02_3e32_11ea_847a_ba8687537bddrow1_col4\" class=\"data row1 col4\" >132870</td>\n",
       "            </tr>\n",
       "            <tr>\n",
       "                        <th id=\"T_09d22e02_3e32_11ea_847a_ba8687537bddlevel0_row2\" class=\"row_heading level0 row2\" >2</th>\n",
       "                        <td id=\"T_09d22e02_3e32_11ea_847a_ba8687537bddrow2_col0\" class=\"data row2 col0\" >66</td>\n",
       "                        <td id=\"T_09d22e02_3e32_11ea_847a_ba8687537bddrow2_col1\" class=\"data row2 col1\" >0</td>\n",
       "                        <td id=\"T_09d22e02_3e32_11ea_847a_ba8687537bddrow2_col2\" class=\"data row2 col2\" >4356</td>\n",
       "                        <td id=\"T_09d22e02_3e32_11ea_847a_ba8687537bddrow2_col3\" class=\"data row2 col3\" >10</td>\n",
       "                        <td id=\"T_09d22e02_3e32_11ea_847a_ba8687537bddrow2_col4\" class=\"data row2 col4\" >186061</td>\n",
       "            </tr>\n",
       "            <tr>\n",
       "                        <th id=\"T_09d22e02_3e32_11ea_847a_ba8687537bddlevel0_row3\" class=\"row_heading level0 row3\" >3</th>\n",
       "                        <td id=\"T_09d22e02_3e32_11ea_847a_ba8687537bddrow3_col0\" class=\"data row3 col0\" >54</td>\n",
       "                        <td id=\"T_09d22e02_3e32_11ea_847a_ba8687537bddrow3_col1\" class=\"data row3 col1\" >0</td>\n",
       "                        <td id=\"T_09d22e02_3e32_11ea_847a_ba8687537bddrow3_col2\" class=\"data row3 col2\" >3900</td>\n",
       "                        <td id=\"T_09d22e02_3e32_11ea_847a_ba8687537bddrow3_col3\" class=\"data row3 col3\" >4</td>\n",
       "                        <td id=\"T_09d22e02_3e32_11ea_847a_ba8687537bddrow3_col4\" class=\"data row3 col4\" >140359</td>\n",
       "            </tr>\n",
       "            <tr>\n",
       "                        <th id=\"T_09d22e02_3e32_11ea_847a_ba8687537bddlevel0_row4\" class=\"row_heading level0 row4\" >4</th>\n",
       "                        <td id=\"T_09d22e02_3e32_11ea_847a_ba8687537bddrow4_col0\" class=\"data row4 col0\" >41</td>\n",
       "                        <td id=\"T_09d22e02_3e32_11ea_847a_ba8687537bddrow4_col1\" class=\"data row4 col1\" >0</td>\n",
       "                        <td id=\"T_09d22e02_3e32_11ea_847a_ba8687537bddrow4_col2\" class=\"data row4 col2\" >3900</td>\n",
       "                        <td id=\"T_09d22e02_3e32_11ea_847a_ba8687537bddrow4_col3\" class=\"data row4 col3\" >10</td>\n",
       "                        <td id=\"T_09d22e02_3e32_11ea_847a_ba8687537bddrow4_col4\" class=\"data row4 col4\" >264663</td>\n",
       "            </tr>\n",
       "    </tbody></table>"
      ],
      "text/plain": [
       "<pandas.io.formats.style.Styler at 0x1718e330978>"
      ]
     },
     "metadata": {},
     "output_type": "display_data"
    }
   ],
   "source": [
    "#CHECK FOR NEGATIVE VALUES BY COLORING THEM\n",
    "def color_negative_red(val):\n",
    "    color = 'red' if val <= 0 else 'black'\n",
    "    return 'color: %s' % color\n",
    "\n",
    "test = df[['age','capital.gain', 'capital.loss', 'education.num', 'fnlwgt']]\n",
    "colored = test.head().style.applymap(color_negative_red)\n",
    "\n",
    "display(colored)"
   ]
  },
  {
   "cell_type": "markdown",
   "metadata": {},
   "source": [
    "### **Missing Values**"
   ]
  },
  {
   "cell_type": "code",
   "execution_count": 52,
   "metadata": {},
   "outputs": [
    {
     "data": {
      "text/plain": [
       "<matplotlib.axes._subplots.AxesSubplot at 0x17189facef0>"
      ]
     },
     "execution_count": 52,
     "metadata": {},
     "output_type": "execute_result"
    },
    {
     "data": {
      "image/png": "[encoded data removed]",
      "text/plain": [
       "<Figure size 864x360 with 2 Axes>"
      ]
     },
     "metadata": {
      "needs_background": "light"
     },
     "output_type": "display_data"
    }
   ],
   "source": [
    "missingno.matrix(df, figsize=(12, 5))"
   ]
  },
  {
   "cell_type": "code",
   "execution_count": 53,
   "metadata": {},
   "outputs": [
    {
     "data": {
      "text/plain": [
       "age               0\n",
       "workclass         0\n",
       "fnlwgt            0\n",
       "education         0\n",
       "education.num     0\n",
       "marital.status    0\n",
       "occupation        0\n",
       "relationship      0\n",
       "race              0\n",
       "sex               0\n",
       "capital.gain      0\n",
       "capital.loss      0\n",
       "hours.per.week    0\n",
       "native.country    0\n",
       "income            0\n",
       "dtype: int64"
      ]
     },
     "execution_count": 53,
     "metadata": {},
     "output_type": "execute_result"
    }
   ],
   "source": [
    "df.isnull().sum()"
   ]
  },
  {
   "cell_type": "code",
   "execution_count": 54,
   "metadata": {},
   "outputs": [
    {
     "data": {
      "text/html": [
       "<div>\n",
       "<style scoped>\n",
       "    .dataframe tbody tr th:only-of-type {\n",
       "        vertical-align: middle;\n",
       "    }\n",
       "\n",
       "    .dataframe tbody tr th {\n",
       "        vertical-align: top;\n",
       "    }\n",
       "\n",
       "    .dataframe thead th {\n",
       "        text-align: right;\n",
       "    }\n",
       "</style>\n",
       "<table border=\"1\" class=\"dataframe\">\n",
       "  <thead>\n",
       "    <tr style=\"text-align: right;\">\n",
       "      <th></th>\n",
       "      <th>age</th>\n",
       "      <th>workclass</th>\n",
       "      <th>fnlwgt</th>\n",
       "      <th>education</th>\n",
       "      <th>education.num</th>\n",
       "      <th>marital.status</th>\n",
       "      <th>occupation</th>\n",
       "      <th>relationship</th>\n",
       "      <th>race</th>\n",
       "      <th>sex</th>\n",
       "      <th>capital.gain</th>\n",
       "      <th>capital.loss</th>\n",
       "      <th>hours.per.week</th>\n",
       "      <th>native.country</th>\n",
       "      <th>income</th>\n",
       "    </tr>\n",
       "  </thead>\n",
       "  <tbody>\n",
       "    <tr>\n",
       "      <th>0</th>\n",
       "      <td>90</td>\n",
       "      <td>NaN</td>\n",
       "      <td>77053</td>\n",
       "      <td>HS-grad</td>\n",
       "      <td>9</td>\n",
       "      <td>Widowed</td>\n",
       "      <td>NaN</td>\n",
       "      <td>Not-in-family</td>\n",
       "      <td>White</td>\n",
       "      <td>Female</td>\n",
       "      <td>0</td>\n",
       "      <td>4356</td>\n",
       "      <td>40</td>\n",
       "      <td>United-States</td>\n",
       "      <td>&lt;=50K</td>\n",
       "    </tr>\n",
       "    <tr>\n",
       "      <th>1</th>\n",
       "      <td>82</td>\n",
       "      <td>Private</td>\n",
       "      <td>132870</td>\n",
       "      <td>HS-grad</td>\n",
       "      <td>9</td>\n",
       "      <td>Widowed</td>\n",
       "      <td>Exec-managerial</td>\n",
       "      <td>Not-in-family</td>\n",
       "      <td>White</td>\n",
       "      <td>Female</td>\n",
       "      <td>0</td>\n",
       "      <td>4356</td>\n",
       "      <td>18</td>\n",
       "      <td>United-States</td>\n",
       "      <td>&lt;=50K</td>\n",
       "    </tr>\n",
       "    <tr>\n",
       "      <th>2</th>\n",
       "      <td>66</td>\n",
       "      <td>NaN</td>\n",
       "      <td>186061</td>\n",
       "      <td>Some-college</td>\n",
       "      <td>10</td>\n",
       "      <td>Widowed</td>\n",
       "      <td>NaN</td>\n",
       "      <td>Unmarried</td>\n",
       "      <td>Black</td>\n",
       "      <td>Female</td>\n",
       "      <td>0</td>\n",
       "      <td>4356</td>\n",
       "      <td>40</td>\n",
       "      <td>United-States</td>\n",
       "      <td>&lt;=50K</td>\n",
       "    </tr>\n",
       "    <tr>\n",
       "      <th>3</th>\n",
       "      <td>54</td>\n",
       "      <td>Private</td>\n",
       "      <td>140359</td>\n",
       "      <td>7th-8th</td>\n",
       "      <td>4</td>\n",
       "      <td>Divorced</td>\n",
       "      <td>Machine-op-inspct</td>\n",
       "      <td>Unmarried</td>\n",
       "      <td>White</td>\n",
       "      <td>Female</td>\n",
       "      <td>0</td>\n",
       "      <td>3900</td>\n",
       "      <td>40</td>\n",
       "      <td>United-States</td>\n",
       "      <td>&lt;=50K</td>\n",
       "    </tr>\n",
       "    <tr>\n",
       "      <th>4</th>\n",
       "      <td>41</td>\n",
       "      <td>Private</td>\n",
       "      <td>264663</td>\n",
       "      <td>Some-college</td>\n",
       "      <td>10</td>\n",
       "      <td>Separated</td>\n",
       "      <td>Prof-specialty</td>\n",
       "      <td>Own-child</td>\n",
       "      <td>White</td>\n",
       "      <td>Female</td>\n",
       "      <td>0</td>\n",
       "      <td>3900</td>\n",
       "      <td>40</td>\n",
       "      <td>United-States</td>\n",
       "      <td>&lt;=50K</td>\n",
       "    </tr>\n",
       "  </tbody>\n",
       "</table>\n",
       "</div>"
      ],
      "text/plain": [
       "   age workclass  fnlwgt     education  education.num marital.status  \\\n",
       "0   90       NaN   77053       HS-grad              9        Widowed   \n",
       "1   82   Private  132870       HS-grad              9        Widowed   \n",
       "2   66       NaN  186061  Some-college             10        Widowed   \n",
       "3   54   Private  140359       7th-8th              4       Divorced   \n",
       "4   41   Private  264663  Some-college             10      Separated   \n",
       "\n",
       "          occupation   relationship   race     sex  capital.gain  \\\n",
       "0                NaN  Not-in-family  White  Female             0   \n",
       "1    Exec-managerial  Not-in-family  White  Female             0   \n",
       "2                NaN      Unmarried  Black  Female             0   \n",
       "3  Machine-op-inspct      Unmarried  White  Female             0   \n",
       "4     Prof-specialty      Own-child  White  Female             0   \n",
       "\n",
       "   capital.loss  hours.per.week native.country income  \n",
       "0          4356              40  United-States  <=50K  \n",
       "1          4356              18  United-States  <=50K  \n",
       "2          4356              40  United-States  <=50K  \n",
       "3          3900              40  United-States  <=50K  \n",
       "4          3900              40  United-States  <=50K  "
      ]
     },
     "metadata": {},
     "output_type": "display_data"
    }
   ],
   "source": [
    "#convert '?' to NaN\n",
    "df[df == '?'] = np.nan\n",
    "display(df.head())\n",
    "\n",
    "#fill the NaN values with the mode\n",
    "for col in df.columns:\n",
    "    df[col].fillna(df[col].mode()[0], inplace=True)\n",
    "    \n",
    "#to just simply drop them, we coud use:\n",
    "# df.dropna()"
   ]
  },
  {
   "cell_type": "markdown",
   "metadata": {},
   "source": [
    "(more examples of operations for replacing values if needed in the future)"
   ]
  },
  {
   "cell_type": "code",
   "execution_count": 55,
   "metadata": {},
   "outputs": [
    {
     "data": {
      "text/plain": [
       "\"\\n#Replace specific values if needed\\nReplace symbol in whole column\\ndf['age'] = df['age'].str.replace('–', '**', regex = True)\\n\\n\\n#DROP multiple columns\\ndf.drop(['age' , 'fnlwgt'], axis = 1, inplace = True)\\n\\n\\n#Find text with regex and replace with nothing\\n df = df.replace({\\n     'age':'[A-Za-z]', \\n     'fnlwgt': '[A-Za-z]',\\n },'',regex = True)\\n\\n\\n#Example of applying a formula to entire column\\n\\n def euro(cell):\\n     cell = cell.strip('€')\\n     return cell\\n df.Wage = df.Wage.apply(euro)\\n\\n#Insert value in cell depending on values from other cells\\n def impute_age(cols):\\n     age = cols[0]\\n     Pclass = cols[1]\\n     if pd.isnull(Age):\\n         if Pclass == 1:\\n             return 37\\n         else:\\n             return 24\\n     else:\\n         return Age\\n         \\n#CHANGING DATA TYPES\\n#changing values to float\\ndf[['Value','Wage','Age']].apply(pd.to_numeric, errors = 'coerce')\\ndf.column.astype(float)\\ndf.dtypes\\n\""
      ]
     },
     "execution_count": 55,
     "metadata": {},
     "output_type": "execute_result"
    }
   ],
   "source": [
    "\"\"\"\n",
    "#Replace specific values if needed\n",
    "Replace symbol in whole column\n",
    "df['age'] = df['age'].str.replace('–', '**', regex = True)\n",
    "\n",
    "\n",
    "#DROP multiple columns\n",
    "df.drop(['age' , 'fnlwgt'], axis = 1, inplace = True)\n",
    "\n",
    "\n",
    "#Find text with regex and replace with nothing\n",
    " df = df.replace({\n",
    "     'age':'[A-Za-z]', \n",
    "     'fnlwgt': '[A-Za-z]',\n",
    " },'',regex = True)\n",
    "\n",
    "\n",
    "#Example of applying a formula to entire column\n",
    "\n",
    " def euro(cell):\n",
    "     cell = cell.strip('€')\n",
    "     return cell\n",
    " df.Wage = df.Wage.apply(euro)\n",
    "\n",
    "#Insert value in cell depending on values from other cells\n",
    " def impute_age(cols):\n",
    "     age = cols[0]\n",
    "     Pclass = cols[1]\n",
    "     if pd.isnull(Age):\n",
    "         if Pclass == 1:\n",
    "             return 37\n",
    "         else:\n",
    "             return 24\n",
    "     else:\n",
    "         return Age\n",
    "         \n",
    "#CHANGING DATA TYPES\n",
    "#changing values to float\n",
    "df[['Value','Wage','Age']].apply(pd.to_numeric, errors = 'coerce')\n",
    "df.column.astype(float)\n",
    "df.dtypes\n",
    "\"\"\""
   ]
  },
  {
   "cell_type": "markdown",
   "metadata": {},
   "source": [
    "### ** Duplicates **\n",
    "We can confidently remove duplicates now, because when we'll do the oversampling we we'll use the Smote method that won't generate more duplicates (in contrast to RandomOverSampling). Also, by doing this before the oversampling, we are guaranteeing that we'll have exactly 50%-50% of y-labels balance later."
   ]
  },
  {
   "cell_type": "code",
   "execution_count": 56,
   "metadata": {},
   "outputs": [
    {
     "name": "stdout",
     "output_type": "stream",
     "text": [
      "24\n"
     ]
    }
   ],
   "source": [
    "print(df.duplicated().sum()) #check if there are duplicates\n",
    "df.drop_duplicates(keep = 'first', inplace = True) #get rid of them"
   ]
  },
  {
   "cell_type": "markdown",
   "metadata": {},
   "source": [
    "### ** Label Encoding **"
   ]
  },
  {
   "cell_type": "code",
   "execution_count": 57,
   "metadata": {},
   "outputs": [],
   "source": [
    "categorical = ['workclass', 'education', 'marital.status', 'occupation', 'relationship', 'race', 'sex', 'native.country']\n",
    "numerical = ['age', 'fnlwgt', 'education.num', 'capital.gain', 'capital.loss', 'hours.per.week']"
   ]
  },
  {
   "cell_type": "code",
   "execution_count": 58,
   "metadata": {},
   "outputs": [],
   "source": [
    "#using labelencoder\n",
    "le = LabelEncoder()\n",
    "for feature in categorical:\n",
    "        df[feature] = le.fit_transform(df[feature])"
   ]
  },
  {
   "cell_type": "markdown",
   "metadata": {},
   "source": [
    "### ** Finding Outliers **\n",
    "\n",
    "We can detect outliers in 3 ways:\n",
    "\n",
    "- Standard Deviation\n",
    "- Percentiles (Tukey method)\n",
    "- Isolation Forest or LocalOutlierFactor (more appropriate for Anomaly/Fraud Detection Problems)\n",
    "\n",
    "Then, we can handle them by:\n",
    " - Remove them\n",
    " - Change them to max/min limit\n",
    " \n",
    "The definition of outlier is quite dubious, but we can defined them as those values that surpasse the limit of 1.5 * IQR.\n",
    "In this case, either the standard deviation method or Tukey method are valid options. We just need to try and see which gives better results (if it produces better results at all)."
   ]
  },
  {
   "cell_type": "code",
   "execution_count": 59,
   "metadata": {},
   "outputs": [
    {
     "data": {
      "image/png": "[encoded data removed]",
      "text/plain": [
       "<Figure size 432x288 with 1 Axes>"
      ]
     },
     "metadata": {
      "needs_background": "light"
     },
     "output_type": "display_data"
    }
   ],
   "source": [
    "#See outliers through boxplots\n",
    "df.plot(kind = 'box', sharex = False, sharey = False)\n",
    "plt.show()"
   ]
  },
  {
   "cell_type": "code",
   "execution_count": 60,
   "metadata": {},
   "outputs": [
    {
     "name": "stdout",
     "output_type": "stream",
     "text": [
      "2499 outliers were eliminated\n"
     ]
    }
   ],
   "source": [
    "# Tukey Method\n",
    "\n",
    "n = 2 #In this case, we considered outliers as rows that have at least two outlied numerical values. The optimal value for this parameter can be later determined though the cross-validation\n",
    "indexes = []\n",
    "\n",
    "for col in df.columns[0:14]:\n",
    "    Q1 = np.percentile(df[col], 25)\n",
    "    Q3 = np.percentile(df[col],75)\n",
    "    IQR = Q3 - Q1\n",
    "    \n",
    "    limit = 1.5 * IQR\n",
    "\n",
    "    list_outliers = df[(df[col] < Q1 - limit) | (df[col] > Q3 + limit )].index # Determine a list of indices of outliers for feature col\n",
    "    \n",
    "    indexes.extend(list_outliers) # append the found outlier indices for col to the list of outlier indices \n",
    "\n",
    "indexes = Counter(indexes)        \n",
    "multiple_outliers = list( k for k, v in indexes.items() if v > n )\n",
    "\n",
    "df.drop(multiple_outliers, axis = 0)\n",
    "\n",
    "df = df.drop(multiple_outliers, axis = 0).reset_index(drop=True)\n",
    "print(str(len(multiple_outliers)) + \" outliers were eliminated\")"
   ]
  },
  {
   "cell_type": "code",
   "execution_count": 61,
   "metadata": {},
   "outputs": [
    {
     "data": {
      "text/plain": [
       "'\\n#Setting the min/max to outliers using standard deviation\\nfor col in df.columns[0:14]:\\n    factor = 3 #The optimal value for this parameter can be later determined though the cross-validation\\n    upper_lim = df[col].mean () + df[col].std () * factor\\n    lower_lim = df[col].mean () - df[col].std () * factor\\n\\n    df = df[(df[col] < upper_lim) & (df[col] > lower_lim)]\\n'"
      ]
     },
     "execution_count": 61,
     "metadata": {},
     "output_type": "execute_result"
    }
   ],
   "source": [
    "\"\"\"\n",
    "#Setting the min/max to outliers using standard deviation\n",
    "for col in df.columns[0:14]:\n",
    "    factor = 3 #The optimal value for this parameter can be later determined though the cross-validation\n",
    "    upper_lim = df[col].mean () + df[col].std () * factor\n",
    "    lower_lim = df[col].mean () - df[col].std () * factor\n",
    "\n",
    "    df = df[(df[col] < upper_lim) & (df[col] > lower_lim)]\n",
    "\"\"\""
   ]
  },
  {
   "cell_type": "markdown",
   "metadata": {},
   "source": [
    "### ** Dealing with imbalanced data **"
   ]
  },
  {
   "cell_type": "code",
   "execution_count": 62,
   "metadata": {},
   "outputs": [
    {
     "data": {
      "text/plain": [
       "income\n",
       "<=50K    22841\n",
       ">50K      7197\n",
       "dtype: int64"
      ]
     },
     "execution_count": 62,
     "metadata": {},
     "output_type": "execute_result"
    },
    {
     "data": {
      "image/png": "[encoded data removed]",
      "text/plain": [
       "<Figure size 432x288 with 1 Axes>"
      ]
     },
     "metadata": {
      "needs_background": "light"
     },
     "output_type": "display_data"
    }
   ],
   "source": [
    "#Check if there are labels imbalance\n",
    "sns.countplot(x=df['income'],palette='RdBu_r')\n",
    "df.groupby('income').size()"
   ]
  },
  {
   "cell_type": "code",
   "execution_count": 63,
   "metadata": {},
   "outputs": [
    {
     "data": {
      "text/plain": [
       "workclass         0\n",
       "education         0\n",
       "marital.status    0\n",
       "occupation        0\n",
       "relationship      0\n",
       "race              0\n",
       "sex               0\n",
       "native.country    0\n",
       "dtype: int64"
      ]
     },
     "execution_count": 63,
     "metadata": {},
     "output_type": "execute_result"
    }
   ],
   "source": [
    "df['income'] = df['income'].map({'>50K': 1, '<=50K': 0})\n",
    "\n",
    "Y = df['income']\n",
    "X = df.drop('income',axis=1)\n",
    "df[categorical].isnull().sum()"
   ]
  },
  {
   "cell_type": "markdown",
   "metadata": {},
   "source": [
    "** oversampling the data **"
   ]
  },
  {
   "cell_type": "code",
   "execution_count": 64,
   "metadata": {},
   "outputs": [
    {
     "data": {
      "text/plain": [
       "'\\n# RANDOM Oversample #####\\nos = RandomOverSampler() #ratio of one feature and another is 50% and 50% respectively\\nX, Y = os.fit_sample(X, Y)\\n'"
      ]
     },
     "execution_count": 64,
     "metadata": {},
     "output_type": "execute_result"
    }
   ],
   "source": [
    "# Oversampling using smote \n",
    "smk = SMOTETomek(random_state = 42)\n",
    "X, Y = smk.fit_sample(X, Y)\n",
    "\n",
    "\"\"\"\n",
    "# RANDOM Oversample #####\n",
    "os = RandomOverSampler() #ratio of one feature and another is 50% and 50% respectively\n",
    "X, Y = os.fit_sample(X, Y)\n",
    "\"\"\""
   ]
  },
  {
   "cell_type": "code",
   "execution_count": 65,
   "metadata": {},
   "outputs": [
    {
     "data": {
      "text/plain": [
       "'\\n#Using nearmiss\\nnm = NearMiss()\\nX, Y = nm.fit_sample(X, Y)\\n'"
      ]
     },
     "execution_count": 65,
     "metadata": {},
     "output_type": "execute_result"
    }
   ],
   "source": [
    "#If dowsample was needed...\n",
    "\n",
    "\"\"\"\n",
    "# RANDOM Undersample #####\n",
    "os = RandomUnderSampler() #ratio of one feature and another is 50% and 50% respectively\n",
    "X, Y = os.fit_sample(X, Y)\n",
    "\"\"\"\n",
    "\n",
    "\"\"\"\n",
    "#Using nearmiss\n",
    "nm = NearMiss()\n",
    "X, Y = nm.fit_sample(X, Y)\n",
    "\"\"\""
   ]
  },
  {
   "cell_type": "code",
   "execution_count": 66,
   "metadata": {},
   "outputs": [
    {
     "data": {
      "text/plain": [
       "<matplotlib.axes._subplots.AxesSubplot at 0x1718a5ddac8>"
      ]
     },
     "execution_count": 66,
     "metadata": {},
     "output_type": "execute_result"
    },
    {
     "data": {
      "image/png": "[encoded data removed]",
      "text/plain": [
       "<Figure size 432x288 with 1 Axes>"
      ]
     },
     "metadata": {
      "needs_background": "light"
     },
     "output_type": "display_data"
    }
   ],
   "source": [
    "#making sure that everything is good now\n",
    "df = pd.concat([X, Y], axis=1)\n",
    "sns.countplot(x=Y,palette='RdBu_r')"
   ]
  },
  {
   "cell_type": "markdown",
   "metadata": {},
   "source": [
    "### ** DUPLICATES **"
   ]
  },
  {
   "cell_type": "code",
   "execution_count": 67,
   "metadata": {},
   "outputs": [],
   "source": [
    "Y = df['income']\n",
    "X = df.drop('income',axis=1)"
   ]
  },
  {
   "cell_type": "markdown",
   "metadata": {},
   "source": [
    "# **Feature Engineering**\n",
    "- Feature Creation (Modidy existing features) -> Scaling, normalize, standarize, logarithim, ...\n",
    "- Feature Transformation (Add useful features) -> Modify to new, Combine features, Cluster some feature, ...\n",
    "- Feature Selection/Reduction (Remove useless features) -> See feat importance, correlations, Dimensionality reduction,"
   ]
  },
  {
   "cell_type": "markdown",
   "metadata": {},
   "source": [
    "# **Feature Selection**\n",
    "\n",
    "As we only have 14 features, we are not pressured to make a feature selection/reduction in order to increase drastically the computing time of the algorithms. So, for now, we are going to investigate if there are features extremely correlated to each other. After tuning and choosing the best model, we are revisiting feature selection methods just in case we face overfitting or to see if we could achieve the same results with the chosen model but with fewer features."
   ]
  },
  {
   "cell_type": "markdown",
   "metadata": {},
   "source": [
    "### ** Correlation **"
   ]
  },
  {
   "cell_type": "code",
   "execution_count": 68,
   "metadata": {},
   "outputs": [],
   "source": [
    "#Simple regression line of various variables in relation to  one other\n",
    "#sns.pairplot(X, x_vars = ['capital.loss', 'hours.per.week', 'education.num'], y_vars = 'age', size = 7, aspect = 0.7, kind = 'reg')"
   ]
  },
  {
   "cell_type": "code",
   "execution_count": 69,
   "metadata": {},
   "outputs": [],
   "source": [
    "# Correlation between variables each other. It may take a while, not advised if there are plenty of features\n",
    "#sns.pairplot(data = X)"
   ]
  },
  {
   "cell_type": "code",
   "execution_count": 107,
   "metadata": {},
   "outputs": [
    {
     "data": {
      "text/plain": [
       "<matplotlib.axes._subplots.AxesSubplot at 0x17189cbc518>"
      ]
     },
     "execution_count": 107,
     "metadata": {},
     "output_type": "execute_result"
    },
    {
     "data": {
      "image/png": "[encoded data removed]",
      "text/plain": [
       "<Figure size 1440x504 with 2 Axes>"
      ]
     },
     "metadata": {
      "needs_background": "light"
     },
     "output_type": "display_data"
    }
   ],
   "source": [
    "plt.subplots(figsize=(20,7))\n",
    "sns.heatmap(X.corr(method = 'pearson'),annot=True,cmap='coolwarm') # the method can also be 'spearman' or kendall'\n",
    "\n",
    "#to see the correlation between just two variables\n",
    "#df['age'].corr(df['capital.gain']) "
   ]
  },
  {
   "cell_type": "markdown",
   "metadata": {},
   "source": [
    "** Generally all of the features are not highly correlated (no correlations above abs(0.5)). The strongest correlations here is \"sex\"vs\"relationship\". Down bellow are the procedures to drop the highest correlated features, even though it's not needed in this case or it might even result in worse results."
   ]
  },
  {
   "cell_type": "markdown",
   "metadata": {},
   "source": [
    "### ** Base Line Model **"
   ]
  },
  {
   "cell_type": "code",
   "execution_count": 1095,
   "metadata": {},
   "outputs": [
    {
     "name": "stdout",
     "output_type": "stream",
     "text": [
      "       0  1\n",
      "0  20756  0\n",
      "1  20756  0\n",
      "Accuracy: 0.5\n"
     ]
    }
   ],
   "source": [
    "l=pd.DataFrame(Y)\n",
    "l['baseline'] = 0\n",
    "k = pd.DataFrame(confusion_matrix(Y,l['baseline']))\n",
    "print(k)\n",
    "print(\"Accuracy: \" + str(accuracy_score(Y, l['baseline'])))"
   ]
  },
  {
   "cell_type": "markdown",
   "metadata": {},
   "source": [
    "### ** One Hot Encoding **"
   ]
  },
  {
   "cell_type": "code",
   "execution_count": 1096,
   "metadata": {},
   "outputs": [],
   "source": [
    "encoded_feat = pd.DataFrame(OneHotEncoder(categories=\"auto\").fit_transform(df[categorical]).toarray())\n",
    "\n",
    "#concatenate without adding null values -.-''\n",
    "l1=encoded_feat.values.tolist()\n",
    "l2=df[numerical].values.tolist()\n",
    "for i in range(len(l1)):\n",
    "    l1[i].extend(l2[i])\n",
    "\n",
    "X=pd.DataFrame(l1,columns=encoded_feat.columns.tolist()+df[numerical].columns.tolist())\n"
   ]
  },
  {
   "cell_type": "markdown",
   "metadata": {},
   "source": [
    "### ** Scaling **"
   ]
  },
  {
   "cell_type": "code",
   "execution_count": 1097,
   "metadata": {},
   "outputs": [],
   "source": [
    "col_names = X.columns\n",
    "\n",
    "features = X[col_names]\n",
    "\n",
    "scaler = StandardScaler().fit(features.values)\n",
    "features = scaler.transform(features.values)\n",
    "\n",
    "X[col_names] = features"
   ]
  },
  {
   "cell_type": "code",
   "execution_count": null,
   "metadata": {},
   "outputs": [],
   "source": [
    "#Another method of scaling using minimax\n",
    "##https://www.andreagrandi.it/2018/04/14/machine-learning-pima-indians-diabetes/\n",
    "\n",
    "from sklearn.preprocessing import MinMaxScaler as Scaler\n",
    "\n",
    "scaler = Scaler()\n",
    "scaler.fit(train_set)\n",
    "X_train = scaler.transform(X_train)\n",
    "X_test = scaler.transform(X_test)"
   ]
  },
  {
   "cell_type": "markdown",
   "metadata": {},
   "source": [
    "### ** Split Data **"
   ]
  },
  {
   "cell_type": "markdown",
   "metadata": {},
   "source": [
    "shuffle before split"
   ]
  },
  {
   "cell_type": "code",
   "execution_count": 1098,
   "metadata": {},
   "outputs": [],
   "source": [
    "l1=X.values.tolist()\n",
    "l2=pd.DataFrame(Y).values.tolist()\n",
    "for i in range(len(l1)):\n",
    "    l1[i].extend(l2[i])\n",
    "\n",
    "new_df=pd.DataFrame(l1,columns=X.columns.tolist()+pd.DataFrame(Y).columns.tolist())\n",
    "\n",
    "new_df = shuffle(new_df, random_state=42)"
   ]
  },
  {
   "cell_type": "code",
   "execution_count": 1099,
   "metadata": {},
   "outputs": [],
   "source": [
    "train,test = train_test_split(new_df,test_size=0.2)\n",
    "\n",
    "y_train = train['income']\n",
    "X_train = train.drop('income',axis=1)\n",
    "y_test = test['income']\n",
    "X_test = test.drop('income',axis=1)\n"
   ]
  },
  {
   "cell_type": "markdown",
   "metadata": {},
   "source": [
    "### **Logistic Regression (all features)**"
   ]
  },
  {
   "cell_type": "code",
   "execution_count": 1100,
   "metadata": {},
   "outputs": [
    {
     "name": "stdout",
     "output_type": "stream",
     "text": [
      "      0     1\n",
      "0  3573   573\n",
      "1   558  3599\n",
      "Accuracy: 0.863784174394797\n",
      "Precision: 0.863 / Recall: 0.866\n"
     ]
    }
   ],
   "source": [
    "clf = LogisticRegression()\n",
    "\n",
    "model = clf.fit(X_train, y_train)\n",
    "\n",
    "y_pred = clf.predict(X_test)\n",
    "\n",
    "y_score = model.decision_function(X_test)\n",
    "\n",
    "\n",
    "k = pd.DataFrame(confusion_matrix(y_test,y_pred))\n",
    "print(k)\n",
    "print('Accuracy: ' + str(accuracy_score(y_test, y_pred)))\n",
    "\n",
    "precision, recall, fscore, support = precision_recall_fscore_support(y_test, y_pred,average='binary')\n",
    "\n",
    "print('Precision: {} / Recall: {}'.format(round(precision, 3),\n",
    "                                                        round(recall, 3)))"
   ]
  },
  {
   "cell_type": "markdown",
   "metadata": {},
   "source": [
    "** ROC CURVE AND AUC **"
   ]
  },
  {
   "cell_type": "code",
   "execution_count": 1101,
   "metadata": {},
   "outputs": [
    {
     "name": "stdout",
     "output_type": "stream",
     "text": [
      "0.9432317129140475\n"
     ]
    },
    {
     "data": {
      "image/png": "[encoded data removed]",
      "text/plain": [
       "<Figure size 432x288 with 1 Axes>"
      ]
     },
     "metadata": {
      "needs_background": "light"
     },
     "output_type": "display_data"
    }
   ],
   "source": [
    "fpr,tpr,the = roc_curve(y_test,y_score)\n",
    "roc_auc_score(y_test,y_pred)\n",
    "plt.plot(fpr,tpr,)\n",
    "print(roc_auc_score(test['income'],y_score))"
   ]
  },
  {
   "cell_type": "markdown",
   "metadata": {},
   "source": [
    "### ** Decision Tree **"
   ]
  },
  {
   "cell_type": "code",
   "execution_count": 1102,
   "metadata": {},
   "outputs": [],
   "source": [
    "clf = DecisionTreeClassifier(max_features=14,min_samples_leaf=100,random_state=10)\n",
    "clf.fit(X_train,y_train)\n",
    "y_pred = clf.predict(X_test)"
   ]
  },
  {
   "cell_type": "code",
   "execution_count": 1103,
   "metadata": {
    "scrolled": true
   },
   "outputs": [
    {
     "name": "stdout",
     "output_type": "stream",
     "text": [
      "      0     1\n",
      "0  3514   632\n",
      "1   644  3513\n",
      "Accuracy: 0.8463206070095146\n",
      "Precision: 0.848 / Recall: 0.845\n"
     ]
    },
    {
     "data": {
      "image/png": "[encoded data removed]",
      "text/plain": [
       "<Figure size 432x432 with 2 Axes>"
      ]
     },
     "metadata": {
      "needs_background": "light"
     },
     "output_type": "display_data"
    }
   ],
   "source": [
    "k = pd.DataFrame(confusion_matrix(y_test,y_pred))\n",
    "print(k)\n",
    "print('Accuracy: ' + str(accuracy_score(y_test, y_pred)))\n",
    "\n",
    "precision, recall, fscore, support = precision_recall_fscore_support(y_test, y_pred,average='binary')\n",
    "\n",
    "print('Precision: {} / Recall: {}'.format(round(precision, 3),\n",
    "                                                        round(recall, 3)))\n",
    "skplt.metrics.plot_confusion_matrix(y_test, y_pred, title=\"{} Confusion Matrix\".format(\"Decision Tree\"),\n",
    "            normalize=True,figsize=(6,6),text_fontsize='large')\n",
    "plt.show()\n"
   ]
  },
  {
   "cell_type": "markdown",
   "metadata": {},
   "source": [
    "### ** Technique to prun decision trees **"
   ]
  },
  {
   "cell_type": "code",
   "execution_count": null,
   "metadata": {},
   "outputs": [],
   "source": [
    "# PRUNNING DECISION TREES\n",
    "#https://stackoverflow.com/questions/49428469/pruning-decision-trees\n",
    "'''Directly restricting the lowest value (number of occurences of a particular class) of a leaf\n",
    "cannot be done with min_impurity_decrease or any other built-in stopping criteria.\n",
    "I think the only way you can accomplish this without changing the source code \n",
    "of scikit-learn is to post-prune your tree. \n",
    "To accomplish this, you can just traverse the tree \n",
    "and remove all children of the nodes with minimum class count less than 5 \n",
    "(or any other condition you can think of). I will continue your example:'''\n",
    "\n",
    "from sklearn.tree._tree import TREE_LEAF\n",
    "\n",
    "def prune_index(inner_tree, index, threshold):\n",
    "    if inner_tree.value[index].min() < threshold:\n",
    "        # turn node into a leaf by \"unlinking\" its children\n",
    "        inner_tree.children_left[index] = TREE_LEAF\n",
    "        inner_tree.children_right[index] = TREE_LEAF\n",
    "    # if there are children, visit them as well\n",
    "    if inner_tree.children_left[index] != TREE_LEAF:\n",
    "        prune_index(inner_tree, inner_tree.children_left[index], threshold)\n",
    "        prune_index(inner_tree, inner_tree.children_right[index], threshold)\n",
    "\n",
    "print(sum(dt.tree_.children_left < 0))\n",
    "# start pruning from the root\n",
    "prune_index(dt.tree_, 0, 5)\n",
    "sum(dt.tree_.children_left < 0)"
   ]
  },
  {
   "cell_type": "markdown",
   "metadata": {},
   "source": [
    "### ** XGBoost **"
   ]
  },
  {
   "cell_type": "code",
   "execution_count": 1104,
   "metadata": {},
   "outputs": [],
   "source": [
    "clf = XGBClassifier()\n",
    "\n",
    "clf.fit(X_train,y_train)\n",
    "\n",
    "y_pred = clf.predict(X_test)"
   ]
  },
  {
   "cell_type": "code",
   "execution_count": 1105,
   "metadata": {},
   "outputs": [
    {
     "name": "stdout",
     "output_type": "stream",
     "text": [
      "      0     1\n",
      "0  3672   474\n",
      "1   495  3662\n",
      "Accuracy: 0.8832951945080092\n",
      "Precision: 0.885 / Recall: 0.881\n"
     ]
    }
   ],
   "source": [
    "k = pd.DataFrame(confusion_matrix(y_test,y_pred))\n",
    "print(k)\n",
    "print('Accuracy: ' + str(accuracy_score(y_test, y_pred)))\n",
    "\n",
    "precision, recall, fscore, support = precision_recall_fscore_support(y_test, y_pred,average='binary')\n",
    "\n",
    "print('Precision: {} / Recall: {}'.format(round(precision, 3),\n",
    "                                                        round(recall, 3)))"
   ]
  },
  {
   "cell_type": "markdown",
   "metadata": {},
   "source": [
    "### ** CATboost **"
   ]
  },
  {
   "cell_type": "code",
   "execution_count": 1106,
   "metadata": {},
   "outputs": [
    {
     "name": "stdout",
     "output_type": "stream",
     "text": [
      "0:\tlearn: 0.6555438\ttotal: 66.7ms\tremaining: 1m 6s\n",
      "1:\tlearn: 0.6190734\ttotal: 117ms\tremaining: 58.2s\n",
      "2:\tlearn: 0.5872023\ttotal: 189ms\tremaining: 1m 2s\n",
      "3:\tlearn: 0.5606131\ttotal: 216ms\tremaining: 53.7s\n",
      "4:\tlearn: 0.5373892\ttotal: 275ms\tremaining: 54.7s\n",
      "5:\tlearn: 0.5166281\ttotal: 334ms\tremaining: 55.4s\n",
      "6:\tlearn: 0.4976542\ttotal: 371ms\tremaining: 52.7s\n",
      "7:\tlearn: 0.4811988\ttotal: 394ms\tremaining: 48.8s\n",
      "8:\tlearn: 0.4660132\ttotal: 433ms\tremaining: 47.7s\n",
      "9:\tlearn: 0.4528181\ttotal: 466ms\tremaining: 46.1s\n",
      "10:\tlearn: 0.4409875\ttotal: 496ms\tremaining: 44.6s\n",
      "11:\tlearn: 0.4324209\ttotal: 519ms\tremaining: 42.7s\n",
      "12:\tlearn: 0.4207363\ttotal: 555ms\tremaining: 42.1s\n",
      "13:\tlearn: 0.4123217\ttotal: 582ms\tremaining: 41s\n",
      "14:\tlearn: 0.4055516\ttotal: 634ms\tremaining: 41.6s\n",
      "15:\tlearn: 0.3970849\ttotal: 667ms\tremaining: 41s\n",
      "16:\tlearn: 0.3907618\ttotal: 689ms\tremaining: 39.9s\n",
      "17:\tlearn: 0.3835052\ttotal: 759ms\tremaining: 41.4s\n",
      "18:\tlearn: 0.3783530\ttotal: 815ms\tremaining: 42.1s\n",
      "19:\tlearn: 0.3729145\ttotal: 848ms\tremaining: 41.6s\n",
      "20:\tlearn: 0.3679646\ttotal: 884ms\tremaining: 41.2s\n",
      "21:\tlearn: 0.3645276\ttotal: 939ms\tremaining: 41.8s\n",
      "22:\tlearn: 0.3594610\ttotal: 968ms\tremaining: 41.1s\n",
      "23:\tlearn: 0.3541501\ttotal: 1.03s\tremaining: 41.9s\n",
      "24:\tlearn: 0.3511807\ttotal: 1.07s\tremaining: 41.9s\n",
      "25:\tlearn: 0.3474896\ttotal: 1.1s\tremaining: 41.1s\n",
      "26:\tlearn: 0.3446551\ttotal: 1.15s\tremaining: 41.3s\n",
      "27:\tlearn: 0.3418051\ttotal: 1.2s\tremaining: 41.8s\n",
      "28:\tlearn: 0.3380736\ttotal: 1.25s\tremaining: 42s\n",
      "29:\tlearn: 0.3354471\ttotal: 1.28s\tremaining: 41.4s\n",
      "30:\tlearn: 0.3330109\ttotal: 1.33s\tremaining: 41.7s\n",
      "31:\tlearn: 0.3313598\ttotal: 1.35s\tremaining: 41s\n",
      "32:\tlearn: 0.3294236\ttotal: 1.38s\tremaining: 40.5s\n",
      "33:\tlearn: 0.3274097\ttotal: 1.47s\tremaining: 41.8s\n",
      "34:\tlearn: 0.3260151\ttotal: 1.49s\tremaining: 41.2s\n",
      "35:\tlearn: 0.3241168\ttotal: 1.54s\tremaining: 41.3s\n",
      "36:\tlearn: 0.3222827\ttotal: 1.59s\tremaining: 41.3s\n",
      "37:\tlearn: 0.3200401\ttotal: 1.62s\tremaining: 40.9s\n",
      "38:\tlearn: 0.3179965\ttotal: 1.7s\tremaining: 41.8s\n",
      "39:\tlearn: 0.3164499\ttotal: 1.73s\tremaining: 41.6s\n",
      "40:\tlearn: 0.3149298\ttotal: 1.77s\tremaining: 41.5s\n",
      "41:\tlearn: 0.3132082\ttotal: 1.82s\tremaining: 41.5s\n",
      "42:\tlearn: 0.3094744\ttotal: 1.86s\tremaining: 41.5s\n",
      "43:\tlearn: 0.3078266\ttotal: 1.89s\tremaining: 41.1s\n",
      "44:\tlearn: 0.3062682\ttotal: 1.94s\tremaining: 41.1s\n",
      "45:\tlearn: 0.3052171\ttotal: 1.98s\tremaining: 41.1s\n",
      "46:\tlearn: 0.3038215\ttotal: 2s\tremaining: 40.6s\n",
      "47:\tlearn: 0.3025299\ttotal: 2.03s\tremaining: 40.3s\n",
      "48:\tlearn: 0.3015768\ttotal: 2.08s\tremaining: 40.4s\n",
      "49:\tlearn: 0.3000724\ttotal: 2.13s\tremaining: 40.4s\n",
      "50:\tlearn: 0.2990250\ttotal: 2.15s\tremaining: 40s\n",
      "51:\tlearn: 0.2969165\ttotal: 2.2s\tremaining: 40.1s\n",
      "52:\tlearn: 0.2959673\ttotal: 2.23s\tremaining: 39.8s\n",
      "53:\tlearn: 0.2952228\ttotal: 2.25s\tremaining: 39.4s\n",
      "54:\tlearn: 0.2939007\ttotal: 2.29s\tremaining: 39.3s\n",
      "55:\tlearn: 0.2932463\ttotal: 2.31s\tremaining: 39s\n",
      "56:\tlearn: 0.2914033\ttotal: 2.33s\tremaining: 38.6s\n",
      "57:\tlearn: 0.2904619\ttotal: 2.37s\tremaining: 38.5s\n",
      "58:\tlearn: 0.2886883\ttotal: 2.4s\tremaining: 38.3s\n",
      "59:\tlearn: 0.2878148\ttotal: 2.43s\tremaining: 38.1s\n",
      "60:\tlearn: 0.2869875\ttotal: 2.46s\tremaining: 37.8s\n",
      "61:\tlearn: 0.2862695\ttotal: 2.51s\tremaining: 37.9s\n",
      "62:\tlearn: 0.2856611\ttotal: 2.56s\tremaining: 38.1s\n",
      "63:\tlearn: 0.2848412\ttotal: 2.59s\tremaining: 37.9s\n",
      "64:\tlearn: 0.2842239\ttotal: 2.64s\tremaining: 38s\n",
      "65:\tlearn: 0.2834285\ttotal: 2.74s\tremaining: 38.8s\n",
      "66:\tlearn: 0.2827948\ttotal: 2.8s\tremaining: 39s\n",
      "67:\tlearn: 0.2822273\ttotal: 2.84s\tremaining: 39s\n",
      "68:\tlearn: 0.2798342\ttotal: 2.87s\tremaining: 38.7s\n",
      "69:\tlearn: 0.2788319\ttotal: 2.9s\tremaining: 38.6s\n",
      "70:\tlearn: 0.2783532\ttotal: 2.94s\tremaining: 38.5s\n",
      "71:\tlearn: 0.2778784\ttotal: 2.98s\tremaining: 38.5s\n",
      "72:\tlearn: 0.2772171\ttotal: 3.01s\tremaining: 38.2s\n",
      "73:\tlearn: 0.2764797\ttotal: 3.04s\tremaining: 38s\n",
      "74:\tlearn: 0.2754475\ttotal: 3.07s\tremaining: 37.9s\n",
      "75:\tlearn: 0.2750133\ttotal: 3.09s\tremaining: 37.6s\n",
      "76:\tlearn: 0.2741939\ttotal: 3.13s\tremaining: 37.5s\n",
      "77:\tlearn: 0.2737459\ttotal: 3.16s\tremaining: 37.4s\n",
      "78:\tlearn: 0.2733712\ttotal: 3.18s\tremaining: 37.1s\n",
      "79:\tlearn: 0.2729316\ttotal: 3.23s\tremaining: 37.1s\n",
      "80:\tlearn: 0.2725670\ttotal: 3.26s\tremaining: 37s\n",
      "81:\tlearn: 0.2716740\ttotal: 3.3s\tremaining: 37s\n",
      "82:\tlearn: 0.2713112\ttotal: 3.33s\tremaining: 36.8s\n",
      "83:\tlearn: 0.2709017\ttotal: 3.36s\tremaining: 36.7s\n",
      "84:\tlearn: 0.2703678\ttotal: 3.39s\tremaining: 36.5s\n",
      "85:\tlearn: 0.2697785\ttotal: 3.41s\tremaining: 36.2s\n",
      "86:\tlearn: 0.2694245\ttotal: 3.44s\tremaining: 36.1s\n",
      "87:\tlearn: 0.2691713\ttotal: 3.49s\tremaining: 36.2s\n",
      "88:\tlearn: 0.2688021\ttotal: 3.52s\tremaining: 36.1s\n",
      "89:\tlearn: 0.2684099\ttotal: 3.56s\tremaining: 36s\n",
      "90:\tlearn: 0.2680792\ttotal: 3.58s\tremaining: 35.8s\n",
      "91:\tlearn: 0.2678091\ttotal: 3.61s\tremaining: 35.6s\n",
      "92:\tlearn: 0.2674632\ttotal: 3.63s\tremaining: 35.5s\n",
      "93:\tlearn: 0.2670949\ttotal: 3.67s\tremaining: 35.4s\n",
      "94:\tlearn: 0.2664976\ttotal: 3.7s\tremaining: 35.2s\n",
      "95:\tlearn: 0.2661787\ttotal: 3.73s\tremaining: 35.1s\n",
      "96:\tlearn: 0.2657786\ttotal: 3.77s\tremaining: 35.1s\n",
      "97:\tlearn: 0.2643384\ttotal: 3.79s\tremaining: 34.9s\n",
      "98:\tlearn: 0.2640934\ttotal: 3.81s\tremaining: 34.7s\n",
      "99:\tlearn: 0.2635909\ttotal: 3.85s\tremaining: 34.7s\n",
      "100:\tlearn: 0.2632747\ttotal: 3.88s\tremaining: 34.6s\n",
      "101:\tlearn: 0.2630457\ttotal: 3.91s\tremaining: 34.4s\n",
      "102:\tlearn: 0.2627088\ttotal: 3.96s\tremaining: 34.5s\n",
      "103:\tlearn: 0.2624177\ttotal: 4s\tremaining: 34.5s\n",
      "104:\tlearn: 0.2617783\ttotal: 4.03s\tremaining: 34.4s\n",
      "105:\tlearn: 0.2605728\ttotal: 4.06s\tremaining: 34.2s\n",
      "106:\tlearn: 0.2602889\ttotal: 4.11s\tremaining: 34.3s\n",
      "107:\tlearn: 0.2599097\ttotal: 4.14s\tremaining: 34.2s\n",
      "108:\tlearn: 0.2595840\ttotal: 4.18s\tremaining: 34.2s\n",
      "109:\tlearn: 0.2593646\ttotal: 4.21s\tremaining: 34.1s\n",
      "110:\tlearn: 0.2591438\ttotal: 4.24s\tremaining: 33.9s\n",
      "111:\tlearn: 0.2587645\ttotal: 4.29s\tremaining: 34s\n",
      "112:\tlearn: 0.2585658\ttotal: 4.32s\tremaining: 33.9s\n",
      "113:\tlearn: 0.2583733\ttotal: 4.37s\tremaining: 34s\n",
      "114:\tlearn: 0.2580678\ttotal: 4.4s\tremaining: 33.9s\n",
      "115:\tlearn: 0.2577810\ttotal: 4.45s\tremaining: 33.9s\n",
      "116:\tlearn: 0.2575855\ttotal: 4.48s\tremaining: 33.8s\n",
      "117:\tlearn: 0.2569915\ttotal: 4.51s\tremaining: 33.7s\n",
      "118:\tlearn: 0.2568268\ttotal: 4.54s\tremaining: 33.6s\n",
      "119:\tlearn: 0.2562308\ttotal: 4.58s\tremaining: 33.6s\n",
      "120:\tlearn: 0.2560675\ttotal: 4.62s\tremaining: 33.6s\n",
      "121:\tlearn: 0.2558927\ttotal: 4.65s\tremaining: 33.5s\n",
      "122:\tlearn: 0.2556743\ttotal: 4.67s\tremaining: 33.3s\n",
      "123:\tlearn: 0.2554343\ttotal: 4.74s\tremaining: 33.5s\n",
      "124:\tlearn: 0.2550624\ttotal: 4.77s\tremaining: 33.4s\n",
      "125:\tlearn: 0.2548935\ttotal: 4.84s\tremaining: 33.5s\n",
      "126:\tlearn: 0.2547200\ttotal: 4.86s\tremaining: 33.4s\n",
      "127:\tlearn: 0.2541719\ttotal: 4.91s\tremaining: 33.5s\n",
      "128:\tlearn: 0.2536985\ttotal: 4.99s\tremaining: 33.7s\n",
      "129:\tlearn: 0.2531900\ttotal: 5.04s\tremaining: 33.7s\n",
      "130:\tlearn: 0.2530008\ttotal: 5.08s\tremaining: 33.7s\n",
      "131:\tlearn: 0.2526981\ttotal: 5.1s\tremaining: 33.5s\n",
      "132:\tlearn: 0.2522107\ttotal: 5.16s\tremaining: 33.6s\n",
      "133:\tlearn: 0.2518603\ttotal: 5.21s\tremaining: 33.6s\n",
      "134:\tlearn: 0.2516175\ttotal: 5.24s\tremaining: 33.6s\n",
      "135:\tlearn: 0.2512468\ttotal: 5.28s\tremaining: 33.5s\n",
      "136:\tlearn: 0.2508221\ttotal: 5.3s\tremaining: 33.4s\n",
      "137:\tlearn: 0.2505704\ttotal: 5.34s\tremaining: 33.4s\n",
      "138:\tlearn: 0.2503599\ttotal: 5.39s\tremaining: 33.4s\n",
      "139:\tlearn: 0.2500924\ttotal: 5.44s\tremaining: 33.4s\n",
      "140:\tlearn: 0.2496733\ttotal: 5.48s\tremaining: 33.4s\n",
      "141:\tlearn: 0.2495424\ttotal: 5.53s\tremaining: 33.4s\n",
      "142:\tlearn: 0.2493892\ttotal: 5.56s\tremaining: 33.3s\n",
      "143:\tlearn: 0.2491885\ttotal: 5.58s\tremaining: 33.2s\n",
      "144:\tlearn: 0.2490202\ttotal: 5.61s\tremaining: 33.1s\n",
      "145:\tlearn: 0.2488061\ttotal: 5.63s\tremaining: 33s\n",
      "146:\tlearn: 0.2486370\ttotal: 5.66s\tremaining: 32.8s\n",
      "147:\tlearn: 0.2484691\ttotal: 5.7s\tremaining: 32.8s\n",
      "148:\tlearn: 0.2482446\ttotal: 5.72s\tremaining: 32.7s\n",
      "149:\tlearn: 0.2480957\ttotal: 5.74s\tremaining: 32.6s\n",
      "150:\tlearn: 0.2473515\ttotal: 5.78s\tremaining: 32.5s\n",
      "151:\tlearn: 0.2470797\ttotal: 5.8s\tremaining: 32.4s\n",
      "152:\tlearn: 0.2468319\ttotal: 5.82s\tremaining: 32.2s\n",
      "153:\tlearn: 0.2464789\ttotal: 5.85s\tremaining: 32.1s\n",
      "154:\tlearn: 0.2463567\ttotal: 5.88s\tremaining: 32s\n",
      "155:\tlearn: 0.2461026\ttotal: 5.9s\tremaining: 31.9s\n",
      "156:\tlearn: 0.2459308\ttotal: 5.94s\tremaining: 31.9s\n",
      "157:\tlearn: 0.2457090\ttotal: 5.97s\tremaining: 31.8s\n",
      "158:\tlearn: 0.2456042\ttotal: 5.99s\tremaining: 31.7s\n",
      "159:\tlearn: 0.2454642\ttotal: 6.03s\tremaining: 31.6s\n",
      "160:\tlearn: 0.2453195\ttotal: 6.06s\tremaining: 31.6s\n",
      "161:\tlearn: 0.2451858\ttotal: 6.09s\tremaining: 31.5s\n",
      "162:\tlearn: 0.2449505\ttotal: 6.11s\tremaining: 31.4s\n",
      "163:\tlearn: 0.2448171\ttotal: 6.14s\tremaining: 31.3s\n",
      "164:\tlearn: 0.2446049\ttotal: 6.17s\tremaining: 31.2s\n",
      "165:\tlearn: 0.2438778\ttotal: 6.19s\tremaining: 31.1s\n",
      "166:\tlearn: 0.2432224\ttotal: 6.23s\tremaining: 31.1s\n",
      "167:\tlearn: 0.2430189\ttotal: 6.26s\tremaining: 31s\n",
      "168:\tlearn: 0.2428948\ttotal: 6.29s\tremaining: 30.9s\n",
      "169:\tlearn: 0.2428029\ttotal: 6.31s\tremaining: 30.8s\n",
      "170:\tlearn: 0.2426532\ttotal: 6.34s\tremaining: 30.7s\n",
      "171:\tlearn: 0.2423850\ttotal: 6.36s\tremaining: 30.6s\n",
      "172:\tlearn: 0.2421754\ttotal: 6.38s\tremaining: 30.5s\n",
      "173:\tlearn: 0.2420824\ttotal: 6.41s\tremaining: 30.4s\n",
      "174:\tlearn: 0.2419569\ttotal: 6.44s\tremaining: 30.4s\n",
      "175:\tlearn: 0.2418111\ttotal: 6.46s\tremaining: 30.3s\n",
      "176:\tlearn: 0.2414606\ttotal: 6.5s\tremaining: 30.2s\n",
      "177:\tlearn: 0.2412138\ttotal: 6.53s\tremaining: 30.1s\n",
      "178:\tlearn: 0.2411104\ttotal: 6.55s\tremaining: 30s\n",
      "179:\tlearn: 0.2410143\ttotal: 6.58s\tremaining: 30s\n",
      "180:\tlearn: 0.2408001\ttotal: 6.61s\tremaining: 29.9s\n",
      "181:\tlearn: 0.2407135\ttotal: 6.63s\tremaining: 29.8s\n",
      "182:\tlearn: 0.2405073\ttotal: 6.67s\tremaining: 29.8s\n",
      "183:\tlearn: 0.2404234\ttotal: 6.69s\tremaining: 29.7s\n",
      "184:\tlearn: 0.2400170\ttotal: 6.71s\tremaining: 29.6s\n",
      "185:\tlearn: 0.2398247\ttotal: 6.75s\tremaining: 29.5s\n",
      "186:\tlearn: 0.2396891\ttotal: 6.77s\tremaining: 29.4s\n",
      "187:\tlearn: 0.2395561\ttotal: 6.79s\tremaining: 29.4s\n",
      "188:\tlearn: 0.2393104\ttotal: 6.82s\tremaining: 29.3s\n",
      "189:\tlearn: 0.2392079\ttotal: 6.85s\tremaining: 29.2s\n",
      "190:\tlearn: 0.2391064\ttotal: 6.9s\tremaining: 29.2s\n",
      "191:\tlearn: 0.2390230\ttotal: 6.92s\tremaining: 29.1s\n",
      "192:\tlearn: 0.2389338\ttotal: 6.95s\tremaining: 29s\n",
      "193:\tlearn: 0.2388093\ttotal: 6.98s\tremaining: 29s\n",
      "194:\tlearn: 0.2386106\ttotal: 7s\tremaining: 28.9s\n",
      "195:\tlearn: 0.2385211\ttotal: 7.03s\tremaining: 28.8s\n",
      "196:\tlearn: 0.2383364\ttotal: 7.05s\tremaining: 28.7s\n",
      "197:\tlearn: 0.2382207\ttotal: 7.08s\tremaining: 28.7s\n",
      "198:\tlearn: 0.2381543\ttotal: 7.1s\tremaining: 28.6s\n",
      "199:\tlearn: 0.2379673\ttotal: 7.13s\tremaining: 28.5s\n",
      "200:\tlearn: 0.2373608\ttotal: 7.16s\tremaining: 28.4s\n",
      "201:\tlearn: 0.2372249\ttotal: 7.18s\tremaining: 28.4s\n",
      "202:\tlearn: 0.2371194\ttotal: 7.21s\tremaining: 28.3s\n",
      "203:\tlearn: 0.2369408\ttotal: 7.23s\tremaining: 28.2s\n",
      "204:\tlearn: 0.2367665\ttotal: 7.25s\tremaining: 28.1s\n",
      "205:\tlearn: 0.2366241\ttotal: 7.28s\tremaining: 28.1s\n",
      "206:\tlearn: 0.2364734\ttotal: 7.3s\tremaining: 28s\n",
      "207:\tlearn: 0.2364035\ttotal: 7.34s\tremaining: 28s\n",
      "208:\tlearn: 0.2361302\ttotal: 7.37s\tremaining: 27.9s\n",
      "209:\tlearn: 0.2360022\ttotal: 7.42s\tremaining: 27.9s\n",
      "210:\tlearn: 0.2358851\ttotal: 7.46s\tremaining: 27.9s\n",
      "211:\tlearn: 0.2357656\ttotal: 7.5s\tremaining: 27.9s\n",
      "212:\tlearn: 0.2356734\ttotal: 7.53s\tremaining: 27.8s\n",
      "213:\tlearn: 0.2355724\ttotal: 7.56s\tremaining: 27.8s\n",
      "214:\tlearn: 0.2354410\ttotal: 7.59s\tremaining: 27.7s\n",
      "215:\tlearn: 0.2353682\ttotal: 7.63s\tremaining: 27.7s\n",
      "216:\tlearn: 0.2353065\ttotal: 7.67s\tremaining: 27.7s\n",
      "217:\tlearn: 0.2351983\ttotal: 7.71s\tremaining: 27.6s\n",
      "218:\tlearn: 0.2350829\ttotal: 7.73s\tremaining: 27.6s\n",
      "219:\tlearn: 0.2347713\ttotal: 7.77s\tremaining: 27.6s\n",
      "220:\tlearn: 0.2346751\ttotal: 7.81s\tremaining: 27.5s\n",
      "221:\tlearn: 0.2343400\ttotal: 7.85s\tremaining: 27.5s\n",
      "222:\tlearn: 0.2341506\ttotal: 7.88s\tremaining: 27.5s\n",
      "223:\tlearn: 0.2340307\ttotal: 7.92s\tremaining: 27.4s\n",
      "224:\tlearn: 0.2338457\ttotal: 7.95s\tremaining: 27.4s\n",
      "225:\tlearn: 0.2336974\ttotal: 7.98s\tremaining: 27.3s\n",
      "226:\tlearn: 0.2335271\ttotal: 8.03s\tremaining: 27.4s\n",
      "227:\tlearn: 0.2334070\ttotal: 8.08s\tremaining: 27.4s\n",
      "228:\tlearn: 0.2331626\ttotal: 8.12s\tremaining: 27.4s\n",
      "229:\tlearn: 0.2330725\ttotal: 8.15s\tremaining: 27.3s\n",
      "230:\tlearn: 0.2330039\ttotal: 8.17s\tremaining: 27.2s\n",
      "231:\tlearn: 0.2328674\ttotal: 8.22s\tremaining: 27.2s\n",
      "232:\tlearn: 0.2327626\ttotal: 8.25s\tremaining: 27.2s\n",
      "233:\tlearn: 0.2326487\ttotal: 8.28s\tremaining: 27.1s\n",
      "234:\tlearn: 0.2325604\ttotal: 8.3s\tremaining: 27s\n",
      "235:\tlearn: 0.2324440\ttotal: 8.35s\tremaining: 27s\n",
      "236:\tlearn: 0.2323467\ttotal: 8.39s\tremaining: 27s\n",
      "237:\tlearn: 0.2321860\ttotal: 8.44s\tremaining: 27s\n",
      "238:\tlearn: 0.2319055\ttotal: 8.47s\tremaining: 27s\n",
      "239:\tlearn: 0.2317979\ttotal: 8.49s\tremaining: 26.9s\n",
      "240:\tlearn: 0.2316296\ttotal: 8.52s\tremaining: 26.8s\n",
      "241:\tlearn: 0.2314150\ttotal: 8.58s\tremaining: 26.9s\n",
      "242:\tlearn: 0.2312725\ttotal: 8.62s\tremaining: 26.8s\n",
      "243:\tlearn: 0.2311391\ttotal: 8.66s\tremaining: 26.8s\n",
      "244:\tlearn: 0.2309963\ttotal: 8.68s\tremaining: 26.7s\n",
      "245:\tlearn: 0.2309056\ttotal: 8.72s\tremaining: 26.7s\n",
      "246:\tlearn: 0.2308464\ttotal: 8.76s\tremaining: 26.7s\n",
      "247:\tlearn: 0.2307920\ttotal: 8.79s\tremaining: 26.6s\n",
      "248:\tlearn: 0.2306938\ttotal: 8.83s\tremaining: 26.6s\n",
      "249:\tlearn: 0.2305839\ttotal: 8.87s\tremaining: 26.6s\n",
      "250:\tlearn: 0.2305148\ttotal: 8.9s\tremaining: 26.6s\n",
      "251:\tlearn: 0.2303867\ttotal: 8.92s\tremaining: 26.5s\n",
      "252:\tlearn: 0.2303195\ttotal: 8.96s\tremaining: 26.5s\n",
      "253:\tlearn: 0.2300633\ttotal: 8.99s\tremaining: 26.4s\n",
      "254:\tlearn: 0.2299582\ttotal: 9.01s\tremaining: 26.3s\n",
      "255:\tlearn: 0.2298663\ttotal: 9.04s\tremaining: 26.3s\n",
      "256:\tlearn: 0.2297789\ttotal: 9.06s\tremaining: 26.2s\n",
      "257:\tlearn: 0.2296776\ttotal: 9.09s\tremaining: 26.1s\n",
      "258:\tlearn: 0.2295758\ttotal: 9.12s\tremaining: 26.1s\n",
      "259:\tlearn: 0.2293670\ttotal: 9.14s\tremaining: 26s\n",
      "260:\tlearn: 0.2292770\ttotal: 9.17s\tremaining: 26s\n",
      "261:\tlearn: 0.2291396\ttotal: 9.21s\tremaining: 25.9s\n",
      "262:\tlearn: 0.2290428\ttotal: 9.23s\tremaining: 25.9s\n",
      "263:\tlearn: 0.2286669\ttotal: 9.26s\tremaining: 25.8s\n",
      "264:\tlearn: 0.2285848\ttotal: 9.3s\tremaining: 25.8s\n",
      "265:\tlearn: 0.2285075\ttotal: 9.33s\tremaining: 25.7s\n",
      "266:\tlearn: 0.2284235\ttotal: 9.35s\tremaining: 25.7s\n",
      "267:\tlearn: 0.2282882\ttotal: 9.4s\tremaining: 25.7s\n",
      "268:\tlearn: 0.2281968\ttotal: 9.42s\tremaining: 25.6s\n",
      "269:\tlearn: 0.2281172\ttotal: 9.45s\tremaining: 25.5s\n",
      "270:\tlearn: 0.2280275\ttotal: 9.5s\tremaining: 25.5s\n",
      "271:\tlearn: 0.2278001\ttotal: 9.54s\tremaining: 25.5s\n",
      "272:\tlearn: 0.2277038\ttotal: 9.56s\tremaining: 25.5s\n",
      "273:\tlearn: 0.2275939\ttotal: 9.6s\tremaining: 25.4s\n",
      "274:\tlearn: 0.2275240\ttotal: 9.63s\tremaining: 25.4s\n",
      "275:\tlearn: 0.2273185\ttotal: 9.65s\tremaining: 25.3s\n",
      "276:\tlearn: 0.2272246\ttotal: 9.69s\tremaining: 25.3s\n",
      "277:\tlearn: 0.2271093\ttotal: 9.71s\tremaining: 25.2s\n",
      "278:\tlearn: 0.2269072\ttotal: 9.73s\tremaining: 25.1s\n",
      "279:\tlearn: 0.2267975\ttotal: 9.77s\tremaining: 25.1s\n",
      "280:\tlearn: 0.2266973\ttotal: 9.79s\tremaining: 25s\n",
      "281:\tlearn: 0.2266013\ttotal: 9.82s\tremaining: 25s\n",
      "282:\tlearn: 0.2264795\ttotal: 9.85s\tremaining: 25s\n",
      "283:\tlearn: 0.2263693\ttotal: 9.88s\tremaining: 24.9s\n",
      "284:\tlearn: 0.2262851\ttotal: 9.92s\tremaining: 24.9s\n",
      "285:\tlearn: 0.2261619\ttotal: 9.94s\tremaining: 24.8s\n",
      "286:\tlearn: 0.2258676\ttotal: 9.97s\tremaining: 24.8s\n",
      "287:\tlearn: 0.2257418\ttotal: 9.99s\tremaining: 24.7s\n",
      "288:\tlearn: 0.2255911\ttotal: 10s\tremaining: 24.7s\n",
      "289:\tlearn: 0.2254234\ttotal: 10.1s\tremaining: 24.6s\n",
      "290:\tlearn: 0.2252390\ttotal: 10.1s\tremaining: 24.5s\n",
      "291:\tlearn: 0.2251178\ttotal: 10.1s\tremaining: 24.5s\n",
      "292:\tlearn: 0.2249933\ttotal: 10.2s\tremaining: 24.5s\n",
      "293:\tlearn: 0.2248434\ttotal: 10.2s\tremaining: 24.5s\n",
      "294:\tlearn: 0.2247638\ttotal: 10.2s\tremaining: 24.4s\n",
      "295:\tlearn: 0.2246562\ttotal: 10.3s\tremaining: 24.4s\n",
      "296:\tlearn: 0.2245932\ttotal: 10.3s\tremaining: 24.4s\n",
      "297:\tlearn: 0.2245204\ttotal: 10.3s\tremaining: 24.3s\n",
      "298:\tlearn: 0.2244508\ttotal: 10.4s\tremaining: 24.3s\n",
      "299:\tlearn: 0.2243724\ttotal: 10.4s\tremaining: 24.2s\n",
      "300:\tlearn: 0.2243104\ttotal: 10.4s\tremaining: 24.1s\n",
      "301:\tlearn: 0.2241941\ttotal: 10.4s\tremaining: 24.1s\n",
      "302:\tlearn: 0.2240940\ttotal: 10.5s\tremaining: 24.1s\n",
      "303:\tlearn: 0.2240188\ttotal: 10.5s\tremaining: 24.1s\n",
      "304:\tlearn: 0.2239696\ttotal: 10.6s\tremaining: 24.1s\n",
      "305:\tlearn: 0.2238936\ttotal: 10.6s\tremaining: 24s\n",
      "306:\tlearn: 0.2238195\ttotal: 10.6s\tremaining: 23.9s\n",
      "307:\tlearn: 0.2237459\ttotal: 10.6s\tremaining: 23.9s\n",
      "308:\tlearn: 0.2235991\ttotal: 10.7s\tremaining: 23.9s\n",
      "309:\tlearn: 0.2234491\ttotal: 10.7s\tremaining: 23.8s\n",
      "310:\tlearn: 0.2233318\ttotal: 10.7s\tremaining: 23.8s\n",
      "311:\tlearn: 0.2232071\ttotal: 10.7s\tremaining: 23.7s\n",
      "312:\tlearn: 0.2231443\ttotal: 10.8s\tremaining: 23.6s\n",
      "313:\tlearn: 0.2230550\ttotal: 10.8s\tremaining: 23.6s\n",
      "314:\tlearn: 0.2229764\ttotal: 10.8s\tremaining: 23.6s\n",
      "315:\tlearn: 0.2228466\ttotal: 10.9s\tremaining: 23.5s\n",
      "316:\tlearn: 0.2227896\ttotal: 10.9s\tremaining: 23.5s\n",
      "317:\tlearn: 0.2227077\ttotal: 11s\tremaining: 23.5s\n",
      "318:\tlearn: 0.2226339\ttotal: 11s\tremaining: 23.5s\n",
      "319:\tlearn: 0.2225579\ttotal: 11s\tremaining: 23.5s\n",
      "320:\tlearn: 0.2223822\ttotal: 11.1s\tremaining: 23.4s\n",
      "321:\tlearn: 0.2223416\ttotal: 11.1s\tremaining: 23.3s\n",
      "322:\tlearn: 0.2222563\ttotal: 11.1s\tremaining: 23.3s\n",
      "323:\tlearn: 0.2220706\ttotal: 11.1s\tremaining: 23.2s\n",
      "324:\tlearn: 0.2219585\ttotal: 11.2s\tremaining: 23.2s\n",
      "325:\tlearn: 0.2218875\ttotal: 11.2s\tremaining: 23.2s\n",
      "326:\tlearn: 0.2216059\ttotal: 11.2s\tremaining: 23.1s\n",
      "327:\tlearn: 0.2215208\ttotal: 11.3s\tremaining: 23.1s\n",
      "328:\tlearn: 0.2214259\ttotal: 11.3s\tremaining: 23.1s\n",
      "329:\tlearn: 0.2213504\ttotal: 11.3s\tremaining: 23s\n",
      "330:\tlearn: 0.2212492\ttotal: 11.4s\tremaining: 23s\n",
      "331:\tlearn: 0.2211867\ttotal: 11.4s\tremaining: 22.9s\n",
      "332:\tlearn: 0.2210726\ttotal: 11.4s\tremaining: 22.9s\n",
      "333:\tlearn: 0.2209972\ttotal: 11.5s\tremaining: 22.9s\n",
      "334:\tlearn: 0.2209259\ttotal: 11.5s\tremaining: 22.8s\n",
      "335:\tlearn: 0.2208808\ttotal: 11.5s\tremaining: 22.7s\n",
      "336:\tlearn: 0.2205378\ttotal: 11.6s\tremaining: 22.7s\n",
      "337:\tlearn: 0.2204743\ttotal: 11.6s\tremaining: 22.7s\n",
      "338:\tlearn: 0.2204052\ttotal: 11.6s\tremaining: 22.7s\n",
      "339:\tlearn: 0.2203320\ttotal: 11.7s\tremaining: 22.6s\n",
      "340:\tlearn: 0.2200969\ttotal: 11.7s\tremaining: 22.6s\n",
      "341:\tlearn: 0.2200294\ttotal: 11.7s\tremaining: 22.6s\n",
      "342:\tlearn: 0.2199773\ttotal: 11.8s\tremaining: 22.6s\n",
      "343:\tlearn: 0.2199127\ttotal: 11.8s\tremaining: 22.6s\n",
      "344:\tlearn: 0.2197086\ttotal: 11.9s\tremaining: 22.5s\n",
      "345:\tlearn: 0.2196768\ttotal: 11.9s\tremaining: 22.5s\n",
      "346:\tlearn: 0.2196138\ttotal: 11.9s\tremaining: 22.4s\n",
      "347:\tlearn: 0.2195062\ttotal: 11.9s\tremaining: 22.4s\n",
      "348:\tlearn: 0.2194346\ttotal: 12s\tremaining: 22.3s\n",
      "349:\tlearn: 0.2193767\ttotal: 12s\tremaining: 22.3s\n",
      "350:\tlearn: 0.2192903\ttotal: 12s\tremaining: 22.3s\n",
      "351:\tlearn: 0.2192318\ttotal: 12.1s\tremaining: 22.2s\n",
      "352:\tlearn: 0.2189991\ttotal: 12.1s\tremaining: 22.2s\n",
      "353:\tlearn: 0.2189315\ttotal: 12.1s\tremaining: 22.1s\n",
      "354:\tlearn: 0.2188343\ttotal: 12.2s\tremaining: 22.1s\n",
      "355:\tlearn: 0.2187437\ttotal: 12.2s\tremaining: 22s\n",
      "356:\tlearn: 0.2186051\ttotal: 12.2s\tremaining: 22s\n",
      "357:\tlearn: 0.2185225\ttotal: 12.2s\tremaining: 21.9s\n",
      "358:\tlearn: 0.2184606\ttotal: 12.3s\tremaining: 21.9s\n",
      "359:\tlearn: 0.2183964\ttotal: 12.3s\tremaining: 21.8s\n",
      "360:\tlearn: 0.2183132\ttotal: 12.3s\tremaining: 21.8s\n",
      "361:\tlearn: 0.2182324\ttotal: 12.3s\tremaining: 21.8s\n",
      "362:\tlearn: 0.2181906\ttotal: 12.4s\tremaining: 21.7s\n",
      "363:\tlearn: 0.2181065\ttotal: 12.4s\tremaining: 21.7s\n",
      "364:\tlearn: 0.2180407\ttotal: 12.4s\tremaining: 21.6s\n",
      "365:\tlearn: 0.2178131\ttotal: 12.5s\tremaining: 21.6s\n",
      "366:\tlearn: 0.2177064\ttotal: 12.5s\tremaining: 21.5s\n",
      "367:\tlearn: 0.2176417\ttotal: 12.5s\tremaining: 21.5s\n",
      "368:\tlearn: 0.2175702\ttotal: 12.6s\tremaining: 21.5s\n",
      "369:\tlearn: 0.2174750\ttotal: 12.6s\tremaining: 21.4s\n",
      "370:\tlearn: 0.2174056\ttotal: 12.6s\tremaining: 21.4s\n",
      "371:\tlearn: 0.2172601\ttotal: 12.6s\tremaining: 21.3s\n",
      "372:\tlearn: 0.2171962\ttotal: 12.7s\tremaining: 21.3s\n",
      "373:\tlearn: 0.2171631\ttotal: 12.7s\tremaining: 21.2s\n",
      "374:\tlearn: 0.2170832\ttotal: 12.7s\tremaining: 21.2s\n",
      "375:\tlearn: 0.2170260\ttotal: 12.7s\tremaining: 21.1s\n",
      "376:\tlearn: 0.2169969\ttotal: 12.8s\tremaining: 21.1s\n",
      "377:\tlearn: 0.2169238\ttotal: 12.8s\tremaining: 21.1s\n",
      "378:\tlearn: 0.2168744\ttotal: 12.8s\tremaining: 21s\n",
      "379:\tlearn: 0.2168129\ttotal: 12.8s\tremaining: 21s\n",
      "380:\tlearn: 0.2166166\ttotal: 12.9s\tremaining: 20.9s\n",
      "381:\tlearn: 0.2165088\ttotal: 12.9s\tremaining: 20.9s\n",
      "382:\tlearn: 0.2163309\ttotal: 12.9s\tremaining: 20.9s\n",
      "383:\tlearn: 0.2162722\ttotal: 13s\tremaining: 20.8s\n",
      "384:\tlearn: 0.2161996\ttotal: 13s\tremaining: 20.8s\n",
      "385:\tlearn: 0.2161232\ttotal: 13s\tremaining: 20.7s\n",
      "386:\tlearn: 0.2160379\ttotal: 13s\tremaining: 20.7s\n",
      "387:\tlearn: 0.2159627\ttotal: 13.1s\tremaining: 20.6s\n",
      "388:\tlearn: 0.2158531\ttotal: 13.1s\tremaining: 20.6s\n",
      "389:\tlearn: 0.2158001\ttotal: 13.1s\tremaining: 20.6s\n",
      "390:\tlearn: 0.2157302\ttotal: 13.2s\tremaining: 20.5s\n",
      "391:\tlearn: 0.2157091\ttotal: 13.2s\tremaining: 20.5s\n",
      "392:\tlearn: 0.2156113\ttotal: 13.2s\tremaining: 20.4s\n",
      "393:\tlearn: 0.2155530\ttotal: 13.2s\tremaining: 20.4s\n",
      "394:\tlearn: 0.2155140\ttotal: 13.3s\tremaining: 20.3s\n",
      "395:\tlearn: 0.2154500\ttotal: 13.3s\tremaining: 20.3s\n",
      "396:\tlearn: 0.2153514\ttotal: 13.4s\tremaining: 20.3s\n",
      "397:\tlearn: 0.2153137\ttotal: 13.4s\tremaining: 20.2s\n",
      "398:\tlearn: 0.2152107\ttotal: 13.4s\tremaining: 20.2s\n",
      "399:\tlearn: 0.2151182\ttotal: 13.4s\tremaining: 20.2s\n",
      "400:\tlearn: 0.2150534\ttotal: 13.5s\tremaining: 20.1s\n",
      "401:\tlearn: 0.2149908\ttotal: 13.5s\tremaining: 20.1s\n",
      "402:\tlearn: 0.2149228\ttotal: 13.5s\tremaining: 20s\n",
      "403:\tlearn: 0.2148631\ttotal: 13.6s\tremaining: 20s\n",
      "404:\tlearn: 0.2146691\ttotal: 13.6s\tremaining: 19.9s\n",
      "405:\tlearn: 0.2145872\ttotal: 13.6s\tremaining: 19.9s\n",
      "406:\tlearn: 0.2145202\ttotal: 13.6s\tremaining: 19.9s\n",
      "407:\tlearn: 0.2144858\ttotal: 13.6s\tremaining: 19.8s\n",
      "408:\tlearn: 0.2143980\ttotal: 13.7s\tremaining: 19.8s\n",
      "409:\tlearn: 0.2143372\ttotal: 13.7s\tremaining: 19.7s\n",
      "410:\tlearn: 0.2143100\ttotal: 13.7s\tremaining: 19.7s\n",
      "411:\tlearn: 0.2142079\ttotal: 13.8s\tremaining: 19.7s\n",
      "412:\tlearn: 0.2140512\ttotal: 13.8s\tremaining: 19.6s\n",
      "413:\tlearn: 0.2139990\ttotal: 13.8s\tremaining: 19.6s\n",
      "414:\tlearn: 0.2138431\ttotal: 13.8s\tremaining: 19.5s\n",
      "415:\tlearn: 0.2137838\ttotal: 13.9s\tremaining: 19.5s\n",
      "416:\tlearn: 0.2136968\ttotal: 13.9s\tremaining: 19.4s\n",
      "417:\tlearn: 0.2136068\ttotal: 13.9s\tremaining: 19.4s\n",
      "418:\tlearn: 0.2135380\ttotal: 14s\tremaining: 19.4s\n",
      "419:\tlearn: 0.2134397\ttotal: 14s\tremaining: 19.3s\n",
      "420:\tlearn: 0.2133751\ttotal: 14s\tremaining: 19.3s\n",
      "421:\tlearn: 0.2133264\ttotal: 14s\tremaining: 19.2s\n",
      "422:\tlearn: 0.2132377\ttotal: 14.1s\tremaining: 19.2s\n",
      "423:\tlearn: 0.2131952\ttotal: 14.1s\tremaining: 19.1s\n",
      "424:\tlearn: 0.2131561\ttotal: 14.1s\tremaining: 19.1s\n",
      "425:\tlearn: 0.2131260\ttotal: 14.1s\tremaining: 19.1s\n",
      "426:\tlearn: 0.2130816\ttotal: 14.2s\tremaining: 19s\n",
      "427:\tlearn: 0.2130066\ttotal: 14.2s\tremaining: 19s\n",
      "428:\tlearn: 0.2129145\ttotal: 14.2s\tremaining: 18.9s\n",
      "429:\tlearn: 0.2128432\ttotal: 14.2s\tremaining: 18.9s\n",
      "430:\tlearn: 0.2128017\ttotal: 14.3s\tremaining: 18.9s\n",
      "431:\tlearn: 0.2127359\ttotal: 14.3s\tremaining: 18.8s\n",
      "432:\tlearn: 0.2127076\ttotal: 14.4s\tremaining: 18.8s\n",
      "433:\tlearn: 0.2126274\ttotal: 14.4s\tremaining: 18.8s\n",
      "434:\tlearn: 0.2125628\ttotal: 14.4s\tremaining: 18.7s\n",
      "435:\tlearn: 0.2125173\ttotal: 14.4s\tremaining: 18.7s\n",
      "436:\tlearn: 0.2125008\ttotal: 14.5s\tremaining: 18.7s\n",
      "437:\tlearn: 0.2124539\ttotal: 14.5s\tremaining: 18.6s\n",
      "438:\tlearn: 0.2124066\ttotal: 14.5s\tremaining: 18.6s\n",
      "439:\tlearn: 0.2122679\ttotal: 14.6s\tremaining: 18.5s\n",
      "440:\tlearn: 0.2122155\ttotal: 14.6s\tremaining: 18.5s\n",
      "441:\tlearn: 0.2121017\ttotal: 14.6s\tremaining: 18.5s\n",
      "442:\tlearn: 0.2120322\ttotal: 14.7s\tremaining: 18.4s\n",
      "443:\tlearn: 0.2119773\ttotal: 14.7s\tremaining: 18.4s\n",
      "444:\tlearn: 0.2119000\ttotal: 14.7s\tremaining: 18.4s\n",
      "445:\tlearn: 0.2118345\ttotal: 14.8s\tremaining: 18.3s\n",
      "446:\tlearn: 0.2117708\ttotal: 14.8s\tremaining: 18.3s\n",
      "447:\tlearn: 0.2117361\ttotal: 14.8s\tremaining: 18.2s\n",
      "448:\tlearn: 0.2116341\ttotal: 14.8s\tremaining: 18.2s\n",
      "449:\tlearn: 0.2115841\ttotal: 14.9s\tremaining: 18.2s\n",
      "450:\tlearn: 0.2115132\ttotal: 14.9s\tremaining: 18.2s\n",
      "451:\tlearn: 0.2113157\ttotal: 14.9s\tremaining: 18.1s\n",
      "452:\tlearn: 0.2112440\ttotal: 15s\tremaining: 18.1s\n",
      "453:\tlearn: 0.2110385\ttotal: 15s\tremaining: 18s\n",
      "454:\tlearn: 0.2109881\ttotal: 15s\tremaining: 18s\n",
      "455:\tlearn: 0.2109581\ttotal: 15.1s\tremaining: 18s\n",
      "456:\tlearn: 0.2108704\ttotal: 15.1s\tremaining: 17.9s\n",
      "457:\tlearn: 0.2108046\ttotal: 15.2s\tremaining: 17.9s\n",
      "458:\tlearn: 0.2107558\ttotal: 15.2s\tremaining: 17.9s\n",
      "459:\tlearn: 0.2106751\ttotal: 15.2s\tremaining: 17.9s\n",
      "460:\tlearn: 0.2106170\ttotal: 15.2s\tremaining: 17.8s\n",
      "461:\tlearn: 0.2105896\ttotal: 15.3s\tremaining: 17.8s\n",
      "462:\tlearn: 0.2105367\ttotal: 15.3s\tremaining: 17.7s\n",
      "463:\tlearn: 0.2104320\ttotal: 15.3s\tremaining: 17.7s\n",
      "464:\tlearn: 0.2103896\ttotal: 15.4s\tremaining: 17.7s\n",
      "465:\tlearn: 0.2103275\ttotal: 15.4s\tremaining: 17.6s\n",
      "466:\tlearn: 0.2102848\ttotal: 15.4s\tremaining: 17.6s\n",
      "467:\tlearn: 0.2102299\ttotal: 15.5s\tremaining: 17.6s\n",
      "468:\tlearn: 0.2101761\ttotal: 15.5s\tremaining: 17.6s\n",
      "469:\tlearn: 0.2101214\ttotal: 15.6s\tremaining: 17.5s\n",
      "470:\tlearn: 0.2100889\ttotal: 15.6s\tremaining: 17.5s\n",
      "471:\tlearn: 0.2097518\ttotal: 15.6s\tremaining: 17.5s\n",
      "472:\tlearn: 0.2096745\ttotal: 15.7s\tremaining: 17.4s\n",
      "473:\tlearn: 0.2096492\ttotal: 15.7s\tremaining: 17.4s\n",
      "474:\tlearn: 0.2095910\ttotal: 15.7s\tremaining: 17.4s\n",
      "475:\tlearn: 0.2095378\ttotal: 15.8s\tremaining: 17.4s\n",
      "476:\tlearn: 0.2094798\ttotal: 15.8s\tremaining: 17.3s\n",
      "477:\tlearn: 0.2094082\ttotal: 15.8s\tremaining: 17.3s\n",
      "478:\tlearn: 0.2093580\ttotal: 15.9s\tremaining: 17.3s\n",
      "479:\tlearn: 0.2091849\ttotal: 15.9s\tremaining: 17.2s\n",
      "480:\tlearn: 0.2091190\ttotal: 15.9s\tremaining: 17.2s\n",
      "481:\tlearn: 0.2090644\ttotal: 15.9s\tremaining: 17.1s\n",
      "482:\tlearn: 0.2088855\ttotal: 16s\tremaining: 17.1s\n",
      "483:\tlearn: 0.2088169\ttotal: 16s\tremaining: 17s\n",
      "484:\tlearn: 0.2087758\ttotal: 16s\tremaining: 17s\n",
      "485:\tlearn: 0.2087363\ttotal: 16s\tremaining: 17s\n",
      "486:\tlearn: 0.2086758\ttotal: 16.1s\tremaining: 16.9s\n",
      "487:\tlearn: 0.2086198\ttotal: 16.1s\tremaining: 16.9s\n",
      "488:\tlearn: 0.2085766\ttotal: 16.1s\tremaining: 16.9s\n",
      "489:\tlearn: 0.2085233\ttotal: 16.2s\tremaining: 16.8s\n",
      "490:\tlearn: 0.2084523\ttotal: 16.2s\tremaining: 16.8s\n",
      "491:\tlearn: 0.2083913\ttotal: 16.2s\tremaining: 16.7s\n",
      "492:\tlearn: 0.2083508\ttotal: 16.3s\tremaining: 16.7s\n",
      "493:\tlearn: 0.2083311\ttotal: 16.3s\tremaining: 16.7s\n",
      "494:\tlearn: 0.2082716\ttotal: 16.3s\tremaining: 16.7s\n",
      "495:\tlearn: 0.2082279\ttotal: 16.4s\tremaining: 16.6s\n",
      "496:\tlearn: 0.2081689\ttotal: 16.4s\tremaining: 16.6s\n",
      "497:\tlearn: 0.2081135\ttotal: 16.4s\tremaining: 16.6s\n",
      "498:\tlearn: 0.2080722\ttotal: 16.5s\tremaining: 16.5s\n",
      "499:\tlearn: 0.2080255\ttotal: 16.5s\tremaining: 16.5s\n",
      "500:\tlearn: 0.2079732\ttotal: 16.5s\tremaining: 16.5s\n",
      "501:\tlearn: 0.2078830\ttotal: 16.6s\tremaining: 16.4s\n",
      "502:\tlearn: 0.2078444\ttotal: 16.6s\tremaining: 16.4s\n",
      "503:\tlearn: 0.2077844\ttotal: 16.6s\tremaining: 16.3s\n",
      "504:\tlearn: 0.2077449\ttotal: 16.6s\tremaining: 16.3s\n",
      "505:\tlearn: 0.2076437\ttotal: 16.7s\tremaining: 16.3s\n",
      "506:\tlearn: 0.2075892\ttotal: 16.7s\tremaining: 16.2s\n",
      "507:\tlearn: 0.2075362\ttotal: 16.8s\tremaining: 16.2s\n",
      "508:\tlearn: 0.2074600\ttotal: 16.8s\tremaining: 16.2s\n",
      "509:\tlearn: 0.2074032\ttotal: 16.8s\tremaining: 16.1s\n",
      "510:\tlearn: 0.2073579\ttotal: 16.8s\tremaining: 16.1s\n",
      "511:\tlearn: 0.2073042\ttotal: 16.9s\tremaining: 16.1s\n",
      "512:\tlearn: 0.2072380\ttotal: 16.9s\tremaining: 16s\n",
      "513:\tlearn: 0.2071879\ttotal: 16.9s\tremaining: 16s\n",
      "514:\tlearn: 0.2070907\ttotal: 17s\tremaining: 16s\n",
      "515:\tlearn: 0.2070579\ttotal: 17s\tremaining: 15.9s\n",
      "516:\tlearn: 0.2070358\ttotal: 17s\tremaining: 15.9s\n",
      "517:\tlearn: 0.2069882\ttotal: 17.1s\tremaining: 15.9s\n",
      "518:\tlearn: 0.2069451\ttotal: 17.1s\tremaining: 15.8s\n",
      "519:\tlearn: 0.2069184\ttotal: 17.1s\tremaining: 15.8s\n",
      "520:\tlearn: 0.2068998\ttotal: 17.2s\tremaining: 15.8s\n",
      "521:\tlearn: 0.2068251\ttotal: 17.2s\tremaining: 15.7s\n",
      "522:\tlearn: 0.2067889\ttotal: 17.2s\tremaining: 15.7s\n",
      "523:\tlearn: 0.2067434\ttotal: 17.2s\tremaining: 15.7s\n",
      "524:\tlearn: 0.2067030\ttotal: 17.3s\tremaining: 15.6s\n",
      "525:\tlearn: 0.2066319\ttotal: 17.3s\tremaining: 15.6s\n",
      "526:\tlearn: 0.2065472\ttotal: 17.3s\tremaining: 15.6s\n",
      "527:\tlearn: 0.2065161\ttotal: 17.4s\tremaining: 15.5s\n",
      "528:\tlearn: 0.2064921\ttotal: 17.4s\tremaining: 15.5s\n",
      "529:\tlearn: 0.2064385\ttotal: 17.4s\tremaining: 15.5s\n",
      "530:\tlearn: 0.2063375\ttotal: 17.5s\tremaining: 15.4s\n",
      "531:\tlearn: 0.2062834\ttotal: 17.5s\tremaining: 15.4s\n",
      "532:\tlearn: 0.2062430\ttotal: 17.5s\tremaining: 15.4s\n",
      "533:\tlearn: 0.2062263\ttotal: 17.5s\tremaining: 15.3s\n",
      "534:\tlearn: 0.2061872\ttotal: 17.6s\tremaining: 15.3s\n",
      "535:\tlearn: 0.2061307\ttotal: 17.6s\tremaining: 15.2s\n",
      "536:\tlearn: 0.2060778\ttotal: 17.6s\tremaining: 15.2s\n",
      "537:\tlearn: 0.2058558\ttotal: 17.7s\tremaining: 15.2s\n",
      "538:\tlearn: 0.2058083\ttotal: 17.7s\tremaining: 15.1s\n",
      "539:\tlearn: 0.2057447\ttotal: 17.8s\tremaining: 15.1s\n",
      "540:\tlearn: 0.2057290\ttotal: 17.8s\tremaining: 15.1s\n",
      "541:\tlearn: 0.2056359\ttotal: 17.8s\tremaining: 15.1s\n",
      "542:\tlearn: 0.2055891\ttotal: 17.9s\tremaining: 15s\n",
      "543:\tlearn: 0.2055325\ttotal: 17.9s\tremaining: 15s\n",
      "544:\tlearn: 0.2054823\ttotal: 17.9s\tremaining: 15s\n",
      "545:\tlearn: 0.2053536\ttotal: 18s\tremaining: 14.9s\n",
      "546:\tlearn: 0.2052760\ttotal: 18s\tremaining: 14.9s\n",
      "547:\tlearn: 0.2052488\ttotal: 18s\tremaining: 14.9s\n",
      "548:\tlearn: 0.2051968\ttotal: 18.1s\tremaining: 14.9s\n",
      "549:\tlearn: 0.2051367\ttotal: 18.1s\tremaining: 14.8s\n",
      "550:\tlearn: 0.2050094\ttotal: 18.2s\tremaining: 14.8s\n",
      "551:\tlearn: 0.2049609\ttotal: 18.2s\tremaining: 14.8s\n",
      "552:\tlearn: 0.2049071\ttotal: 18.2s\tremaining: 14.8s\n",
      "553:\tlearn: 0.2048590\ttotal: 18.3s\tremaining: 14.7s\n",
      "554:\tlearn: 0.2048118\ttotal: 18.3s\tremaining: 14.7s\n",
      "555:\tlearn: 0.2047780\ttotal: 18.4s\tremaining: 14.7s\n",
      "556:\tlearn: 0.2046842\ttotal: 18.5s\tremaining: 14.7s\n",
      "557:\tlearn: 0.2045842\ttotal: 18.5s\tremaining: 14.6s\n",
      "558:\tlearn: 0.2045271\ttotal: 18.5s\tremaining: 14.6s\n",
      "559:\tlearn: 0.2044793\ttotal: 18.6s\tremaining: 14.6s\n",
      "560:\tlearn: 0.2044528\ttotal: 18.6s\tremaining: 14.6s\n",
      "561:\tlearn: 0.2043819\ttotal: 18.6s\tremaining: 14.5s\n",
      "562:\tlearn: 0.2043094\ttotal: 18.7s\tremaining: 14.5s\n",
      "563:\tlearn: 0.2042707\ttotal: 18.7s\tremaining: 14.5s\n",
      "564:\tlearn: 0.2042178\ttotal: 18.7s\tremaining: 14.4s\n",
      "565:\tlearn: 0.2041840\ttotal: 18.8s\tremaining: 14.4s\n",
      "566:\tlearn: 0.2041359\ttotal: 18.8s\tremaining: 14.4s\n",
      "567:\tlearn: 0.2040817\ttotal: 18.9s\tremaining: 14.4s\n",
      "568:\tlearn: 0.2040164\ttotal: 18.9s\tremaining: 14.3s\n",
      "569:\tlearn: 0.2039707\ttotal: 19s\tremaining: 14.3s\n",
      "570:\tlearn: 0.2039250\ttotal: 19s\tremaining: 14.3s\n",
      "571:\tlearn: 0.2038691\ttotal: 19.1s\tremaining: 14.3s\n",
      "572:\tlearn: 0.2037952\ttotal: 19.1s\tremaining: 14.2s\n",
      "573:\tlearn: 0.2037363\ttotal: 19.1s\tremaining: 14.2s\n",
      "574:\tlearn: 0.2037054\ttotal: 19.2s\tremaining: 14.2s\n",
      "575:\tlearn: 0.2036557\ttotal: 19.2s\tremaining: 14.2s\n",
      "576:\tlearn: 0.2035946\ttotal: 19.3s\tremaining: 14.1s\n",
      "577:\tlearn: 0.2035506\ttotal: 19.3s\tremaining: 14.1s\n",
      "578:\tlearn: 0.2035303\ttotal: 19.3s\tremaining: 14.1s\n",
      "579:\tlearn: 0.2035060\ttotal: 19.4s\tremaining: 14s\n",
      "580:\tlearn: 0.2034851\ttotal: 19.4s\tremaining: 14s\n",
      "581:\tlearn: 0.2034131\ttotal: 19.4s\tremaining: 13.9s\n",
      "582:\tlearn: 0.2033759\ttotal: 19.4s\tremaining: 13.9s\n",
      "583:\tlearn: 0.2033565\ttotal: 19.5s\tremaining: 13.9s\n",
      "584:\tlearn: 0.2033307\ttotal: 19.5s\tremaining: 13.8s\n",
      "585:\tlearn: 0.2032707\ttotal: 19.5s\tremaining: 13.8s\n",
      "586:\tlearn: 0.2032334\ttotal: 19.5s\tremaining: 13.7s\n",
      "587:\tlearn: 0.2031817\ttotal: 19.6s\tremaining: 13.7s\n",
      "588:\tlearn: 0.2031415\ttotal: 19.6s\tremaining: 13.7s\n",
      "589:\tlearn: 0.2030998\ttotal: 19.6s\tremaining: 13.6s\n",
      "590:\tlearn: 0.2030590\ttotal: 19.7s\tremaining: 13.6s\n",
      "591:\tlearn: 0.2030090\ttotal: 19.7s\tremaining: 13.6s\n",
      "592:\tlearn: 0.2029519\ttotal: 19.7s\tremaining: 13.5s\n",
      "593:\tlearn: 0.2028177\ttotal: 19.7s\tremaining: 13.5s\n",
      "594:\tlearn: 0.2027596\ttotal: 19.8s\tremaining: 13.5s\n",
      "595:\tlearn: 0.2026660\ttotal: 19.8s\tremaining: 13.4s\n",
      "596:\tlearn: 0.2026252\ttotal: 19.8s\tremaining: 13.4s\n",
      "597:\tlearn: 0.2025710\ttotal: 19.9s\tremaining: 13.4s\n",
      "598:\tlearn: 0.2025247\ttotal: 19.9s\tremaining: 13.3s\n",
      "599:\tlearn: 0.2024955\ttotal: 19.9s\tremaining: 13.3s\n",
      "600:\tlearn: 0.2024688\ttotal: 20s\tremaining: 13.3s\n",
      "601:\tlearn: 0.2023694\ttotal: 20s\tremaining: 13.2s\n",
      "602:\tlearn: 0.2023125\ttotal: 20s\tremaining: 13.2s\n",
      "603:\tlearn: 0.2022510\ttotal: 20s\tremaining: 13.1s\n",
      "604:\tlearn: 0.2022008\ttotal: 20.1s\tremaining: 13.1s\n",
      "605:\tlearn: 0.2021196\ttotal: 20.1s\tremaining: 13.1s\n",
      "606:\tlearn: 0.2021089\ttotal: 20.1s\tremaining: 13s\n",
      "607:\tlearn: 0.2020744\ttotal: 20.1s\tremaining: 13s\n",
      "608:\tlearn: 0.2020165\ttotal: 20.2s\tremaining: 13s\n",
      "609:\tlearn: 0.2019767\ttotal: 20.2s\tremaining: 12.9s\n",
      "610:\tlearn: 0.2018699\ttotal: 20.2s\tremaining: 12.9s\n",
      "611:\tlearn: 0.2017839\ttotal: 20.3s\tremaining: 12.8s\n",
      "612:\tlearn: 0.2017402\ttotal: 20.3s\tremaining: 12.8s\n",
      "613:\tlearn: 0.2017014\ttotal: 20.3s\tremaining: 12.8s\n",
      "614:\tlearn: 0.2016683\ttotal: 20.3s\tremaining: 12.7s\n",
      "615:\tlearn: 0.2016472\ttotal: 20.4s\tremaining: 12.7s\n",
      "616:\tlearn: 0.2016057\ttotal: 20.4s\tremaining: 12.7s\n",
      "617:\tlearn: 0.2015598\ttotal: 20.4s\tremaining: 12.6s\n",
      "618:\tlearn: 0.2015117\ttotal: 20.5s\tremaining: 12.6s\n",
      "619:\tlearn: 0.2014999\ttotal: 20.5s\tremaining: 12.6s\n",
      "620:\tlearn: 0.2014834\ttotal: 20.5s\tremaining: 12.5s\n",
      "621:\tlearn: 0.2014454\ttotal: 20.5s\tremaining: 12.5s\n",
      "622:\tlearn: 0.2013820\ttotal: 20.6s\tremaining: 12.4s\n",
      "623:\tlearn: 0.2013383\ttotal: 20.6s\tremaining: 12.4s\n",
      "624:\tlearn: 0.2012986\ttotal: 20.6s\tremaining: 12.4s\n",
      "625:\tlearn: 0.2012126\ttotal: 20.6s\tremaining: 12.3s\n",
      "626:\tlearn: 0.2011858\ttotal: 20.7s\tremaining: 12.3s\n",
      "627:\tlearn: 0.2011457\ttotal: 20.7s\tremaining: 12.3s\n",
      "628:\tlearn: 0.2011125\ttotal: 20.7s\tremaining: 12.2s\n",
      "629:\tlearn: 0.2010516\ttotal: 20.8s\tremaining: 12.2s\n",
      "630:\tlearn: 0.2009957\ttotal: 20.8s\tremaining: 12.2s\n",
      "631:\tlearn: 0.2009771\ttotal: 20.8s\tremaining: 12.1s\n",
      "632:\tlearn: 0.2008814\ttotal: 20.9s\tremaining: 12.1s\n",
      "633:\tlearn: 0.2008494\ttotal: 20.9s\tremaining: 12.1s\n",
      "634:\tlearn: 0.2008263\ttotal: 20.9s\tremaining: 12s\n",
      "635:\tlearn: 0.2007927\ttotal: 20.9s\tremaining: 12s\n",
      "636:\tlearn: 0.2007679\ttotal: 21s\tremaining: 11.9s\n",
      "637:\tlearn: 0.2007289\ttotal: 21s\tremaining: 11.9s\n",
      "638:\tlearn: 0.2006798\ttotal: 21s\tremaining: 11.9s\n",
      "639:\tlearn: 0.2005776\ttotal: 21.1s\tremaining: 11.8s\n",
      "640:\tlearn: 0.2005316\ttotal: 21.1s\tremaining: 11.8s\n",
      "641:\tlearn: 0.2004940\ttotal: 21.1s\tremaining: 11.8s\n",
      "642:\tlearn: 0.2004375\ttotal: 21.1s\tremaining: 11.7s\n",
      "643:\tlearn: 0.2003929\ttotal: 21.2s\tremaining: 11.7s\n",
      "644:\tlearn: 0.2003348\ttotal: 21.2s\tremaining: 11.7s\n",
      "645:\tlearn: 0.2002936\ttotal: 21.3s\tremaining: 11.6s\n",
      "646:\tlearn: 0.2002366\ttotal: 21.3s\tremaining: 11.6s\n",
      "647:\tlearn: 0.2001658\ttotal: 21.3s\tremaining: 11.6s\n",
      "648:\tlearn: 0.2001277\ttotal: 21.4s\tremaining: 11.6s\n",
      "649:\tlearn: 0.2000856\ttotal: 21.4s\tremaining: 11.5s\n",
      "650:\tlearn: 0.2000411\ttotal: 21.4s\tremaining: 11.5s\n",
      "651:\tlearn: 0.2000263\ttotal: 21.5s\tremaining: 11.5s\n",
      "652:\tlearn: 0.1999793\ttotal: 21.5s\tremaining: 11.4s\n",
      "653:\tlearn: 0.1999397\ttotal: 21.5s\tremaining: 11.4s\n",
      "654:\tlearn: 0.1999042\ttotal: 21.6s\tremaining: 11.4s\n",
      "655:\tlearn: 0.1998619\ttotal: 21.6s\tremaining: 11.3s\n",
      "656:\tlearn: 0.1997848\ttotal: 21.6s\tremaining: 11.3s\n",
      "657:\tlearn: 0.1997504\ttotal: 21.7s\tremaining: 11.3s\n",
      "658:\tlearn: 0.1996752\ttotal: 21.7s\tremaining: 11.2s\n",
      "659:\tlearn: 0.1996469\ttotal: 21.7s\tremaining: 11.2s\n",
      "660:\tlearn: 0.1996063\ttotal: 21.8s\tremaining: 11.2s\n",
      "661:\tlearn: 0.1995776\ttotal: 21.8s\tremaining: 11.2s\n",
      "662:\tlearn: 0.1995457\ttotal: 21.9s\tremaining: 11.1s\n",
      "663:\tlearn: 0.1994846\ttotal: 21.9s\tremaining: 11.1s\n",
      "664:\tlearn: 0.1993676\ttotal: 21.9s\tremaining: 11s\n",
      "665:\tlearn: 0.1993338\ttotal: 22s\tremaining: 11s\n",
      "666:\tlearn: 0.1992442\ttotal: 22s\tremaining: 11s\n",
      "667:\tlearn: 0.1992154\ttotal: 22s\tremaining: 11s\n",
      "668:\tlearn: 0.1991744\ttotal: 22.1s\tremaining: 10.9s\n",
      "669:\tlearn: 0.1991431\ttotal: 22.1s\tremaining: 10.9s\n",
      "670:\tlearn: 0.1991043\ttotal: 22.2s\tremaining: 10.9s\n",
      "671:\tlearn: 0.1989149\ttotal: 22.2s\tremaining: 10.8s\n",
      "672:\tlearn: 0.1988887\ttotal: 22.2s\tremaining: 10.8s\n",
      "673:\tlearn: 0.1988483\ttotal: 22.3s\tremaining: 10.8s\n",
      "674:\tlearn: 0.1987526\ttotal: 22.3s\tremaining: 10.7s\n",
      "675:\tlearn: 0.1986665\ttotal: 22.3s\tremaining: 10.7s\n",
      "676:\tlearn: 0.1986181\ttotal: 22.4s\tremaining: 10.7s\n",
      "677:\tlearn: 0.1985832\ttotal: 22.4s\tremaining: 10.6s\n",
      "678:\tlearn: 0.1985432\ttotal: 22.5s\tremaining: 10.6s\n",
      "679:\tlearn: 0.1985086\ttotal: 22.5s\tremaining: 10.6s\n",
      "680:\tlearn: 0.1984739\ttotal: 22.6s\tremaining: 10.6s\n",
      "681:\tlearn: 0.1984354\ttotal: 22.6s\tremaining: 10.5s\n",
      "682:\tlearn: 0.1983991\ttotal: 22.6s\tremaining: 10.5s\n",
      "683:\tlearn: 0.1983688\ttotal: 22.6s\tremaining: 10.5s\n",
      "684:\tlearn: 0.1982816\ttotal: 22.7s\tremaining: 10.4s\n",
      "685:\tlearn: 0.1982433\ttotal: 22.7s\tremaining: 10.4s\n",
      "686:\tlearn: 0.1982248\ttotal: 22.7s\tremaining: 10.4s\n",
      "687:\tlearn: 0.1981694\ttotal: 22.7s\tremaining: 10.3s\n",
      "688:\tlearn: 0.1981397\ttotal: 22.8s\tremaining: 10.3s\n",
      "689:\tlearn: 0.1981043\ttotal: 22.8s\tremaining: 10.2s\n",
      "690:\tlearn: 0.1980578\ttotal: 22.8s\tremaining: 10.2s\n",
      "691:\tlearn: 0.1980318\ttotal: 22.8s\tremaining: 10.2s\n",
      "692:\tlearn: 0.1979896\ttotal: 22.9s\tremaining: 10.1s\n",
      "693:\tlearn: 0.1979725\ttotal: 22.9s\tremaining: 10.1s\n",
      "694:\tlearn: 0.1979432\ttotal: 22.9s\tremaining: 10.1s\n",
      "695:\tlearn: 0.1978776\ttotal: 23s\tremaining: 10s\n",
      "696:\tlearn: 0.1978276\ttotal: 23s\tremaining: 9.99s\n",
      "697:\tlearn: 0.1977866\ttotal: 23s\tremaining: 9.95s\n",
      "698:\tlearn: 0.1977566\ttotal: 23s\tremaining: 9.92s\n",
      "699:\tlearn: 0.1977180\ttotal: 23.1s\tremaining: 9.88s\n",
      "700:\tlearn: 0.1976805\ttotal: 23.1s\tremaining: 9.85s\n",
      "701:\tlearn: 0.1976326\ttotal: 23.1s\tremaining: 9.82s\n",
      "702:\tlearn: 0.1975822\ttotal: 23.2s\tremaining: 9.79s\n",
      "703:\tlearn: 0.1975239\ttotal: 23.2s\tremaining: 9.75s\n",
      "704:\tlearn: 0.1974928\ttotal: 23.2s\tremaining: 9.71s\n",
      "705:\tlearn: 0.1974599\ttotal: 23.3s\tremaining: 9.68s\n",
      "706:\tlearn: 0.1974126\ttotal: 23.3s\tremaining: 9.65s\n",
      "707:\tlearn: 0.1973762\ttotal: 23.3s\tremaining: 9.61s\n",
      "708:\tlearn: 0.1973477\ttotal: 23.3s\tremaining: 9.58s\n",
      "709:\tlearn: 0.1973374\ttotal: 23.4s\tremaining: 9.54s\n",
      "710:\tlearn: 0.1972962\ttotal: 23.4s\tremaining: 9.5s\n",
      "711:\tlearn: 0.1972672\ttotal: 23.4s\tremaining: 9.47s\n",
      "712:\tlearn: 0.1972094\ttotal: 23.4s\tremaining: 9.44s\n",
      "713:\tlearn: 0.1971619\ttotal: 23.5s\tremaining: 9.4s\n",
      "714:\tlearn: 0.1971400\ttotal: 23.5s\tremaining: 9.36s\n",
      "715:\tlearn: 0.1970243\ttotal: 23.5s\tremaining: 9.32s\n",
      "716:\tlearn: 0.1969731\ttotal: 23.5s\tremaining: 9.29s\n",
      "717:\tlearn: 0.1969303\ttotal: 23.6s\tremaining: 9.26s\n",
      "718:\tlearn: 0.1968753\ttotal: 23.6s\tremaining: 9.22s\n",
      "719:\tlearn: 0.1968255\ttotal: 23.6s\tremaining: 9.19s\n",
      "720:\tlearn: 0.1967308\ttotal: 23.7s\tremaining: 9.15s\n",
      "721:\tlearn: 0.1966732\ttotal: 23.7s\tremaining: 9.12s\n",
      "722:\tlearn: 0.1966514\ttotal: 23.7s\tremaining: 9.08s\n",
      "723:\tlearn: 0.1965945\ttotal: 23.7s\tremaining: 9.05s\n",
      "724:\tlearn: 0.1965163\ttotal: 23.8s\tremaining: 9.02s\n",
      "725:\tlearn: 0.1964930\ttotal: 23.8s\tremaining: 8.98s\n",
      "726:\tlearn: 0.1964449\ttotal: 23.8s\tremaining: 8.95s\n",
      "727:\tlearn: 0.1963988\ttotal: 23.9s\tremaining: 8.92s\n",
      "728:\tlearn: 0.1963573\ttotal: 23.9s\tremaining: 8.88s\n",
      "729:\tlearn: 0.1963269\ttotal: 23.9s\tremaining: 8.85s\n",
      "730:\tlearn: 0.1962899\ttotal: 24s\tremaining: 8.81s\n",
      "731:\tlearn: 0.1962512\ttotal: 24s\tremaining: 8.78s\n",
      "732:\tlearn: 0.1962085\ttotal: 24s\tremaining: 8.74s\n",
      "733:\tlearn: 0.1961752\ttotal: 24.1s\tremaining: 8.72s\n",
      "734:\tlearn: 0.1961106\ttotal: 24.1s\tremaining: 8.69s\n",
      "735:\tlearn: 0.1960759\ttotal: 24.1s\tremaining: 8.65s\n",
      "736:\tlearn: 0.1960393\ttotal: 24.1s\tremaining: 8.61s\n",
      "737:\tlearn: 0.1959904\ttotal: 24.2s\tremaining: 8.58s\n",
      "738:\tlearn: 0.1959501\ttotal: 24.2s\tremaining: 8.54s\n",
      "739:\tlearn: 0.1959300\ttotal: 24.2s\tremaining: 8.51s\n",
      "740:\tlearn: 0.1958807\ttotal: 24.3s\tremaining: 8.48s\n",
      "741:\tlearn: 0.1958625\ttotal: 24.3s\tremaining: 8.45s\n",
      "742:\tlearn: 0.1957995\ttotal: 24.3s\tremaining: 8.41s\n",
      "743:\tlearn: 0.1957723\ttotal: 24.3s\tremaining: 8.38s\n",
      "744:\tlearn: 0.1957458\ttotal: 24.4s\tremaining: 8.35s\n",
      "745:\tlearn: 0.1956966\ttotal: 24.4s\tremaining: 8.32s\n",
      "746:\tlearn: 0.1956060\ttotal: 24.5s\tremaining: 8.29s\n",
      "747:\tlearn: 0.1955877\ttotal: 24.5s\tremaining: 8.25s\n",
      "748:\tlearn: 0.1955393\ttotal: 24.5s\tremaining: 8.22s\n",
      "749:\tlearn: 0.1954661\ttotal: 24.6s\tremaining: 8.19s\n",
      "750:\tlearn: 0.1954360\ttotal: 24.6s\tremaining: 8.16s\n",
      "751:\tlearn: 0.1954005\ttotal: 24.6s\tremaining: 8.12s\n",
      "752:\tlearn: 0.1953684\ttotal: 24.7s\tremaining: 8.09s\n",
      "753:\tlearn: 0.1953259\ttotal: 24.7s\tremaining: 8.06s\n",
      "754:\tlearn: 0.1952974\ttotal: 24.7s\tremaining: 8.03s\n",
      "755:\tlearn: 0.1952773\ttotal: 24.8s\tremaining: 8s\n",
      "756:\tlearn: 0.1952396\ttotal: 24.8s\tremaining: 7.96s\n",
      "757:\tlearn: 0.1951945\ttotal: 24.8s\tremaining: 7.93s\n",
      "758:\tlearn: 0.1951642\ttotal: 24.9s\tremaining: 7.91s\n",
      "759:\tlearn: 0.1951259\ttotal: 24.9s\tremaining: 7.87s\n",
      "760:\tlearn: 0.1950934\ttotal: 25s\tremaining: 7.84s\n",
      "761:\tlearn: 0.1950313\ttotal: 25s\tremaining: 7.81s\n",
      "762:\tlearn: 0.1949832\ttotal: 25.1s\tremaining: 7.78s\n",
      "763:\tlearn: 0.1949312\ttotal: 25.1s\tremaining: 7.75s\n",
      "764:\tlearn: 0.1948814\ttotal: 25.1s\tremaining: 7.71s\n",
      "765:\tlearn: 0.1948509\ttotal: 25.1s\tremaining: 7.68s\n",
      "766:\tlearn: 0.1948228\ttotal: 25.2s\tremaining: 7.65s\n",
      "767:\tlearn: 0.1947900\ttotal: 25.2s\tremaining: 7.61s\n",
      "768:\tlearn: 0.1947303\ttotal: 25.2s\tremaining: 7.58s\n",
      "769:\tlearn: 0.1946956\ttotal: 25.3s\tremaining: 7.56s\n",
      "770:\tlearn: 0.1946499\ttotal: 25.3s\tremaining: 7.52s\n",
      "771:\tlearn: 0.1946295\ttotal: 25.4s\tremaining: 7.49s\n",
      "772:\tlearn: 0.1945402\ttotal: 25.4s\tremaining: 7.46s\n",
      "773:\tlearn: 0.1944966\ttotal: 25.4s\tremaining: 7.42s\n",
      "774:\tlearn: 0.1944627\ttotal: 25.5s\tremaining: 7.39s\n",
      "775:\tlearn: 0.1944315\ttotal: 25.5s\tremaining: 7.36s\n",
      "776:\tlearn: 0.1943831\ttotal: 25.6s\tremaining: 7.33s\n",
      "777:\tlearn: 0.1943508\ttotal: 25.6s\tremaining: 7.3s\n",
      "778:\tlearn: 0.1942931\ttotal: 25.6s\tremaining: 7.27s\n",
      "779:\tlearn: 0.1942382\ttotal: 25.7s\tremaining: 7.24s\n",
      "780:\tlearn: 0.1942185\ttotal: 25.7s\tremaining: 7.21s\n",
      "781:\tlearn: 0.1941630\ttotal: 25.8s\tremaining: 7.18s\n",
      "782:\tlearn: 0.1941453\ttotal: 25.8s\tremaining: 7.14s\n",
      "783:\tlearn: 0.1941038\ttotal: 25.8s\tremaining: 7.11s\n",
      "784:\tlearn: 0.1940636\ttotal: 25.8s\tremaining: 7.08s\n",
      "785:\tlearn: 0.1940303\ttotal: 25.9s\tremaining: 7.04s\n",
      "786:\tlearn: 0.1940056\ttotal: 25.9s\tremaining: 7.01s\n",
      "787:\tlearn: 0.1939739\ttotal: 25.9s\tremaining: 6.98s\n",
      "788:\tlearn: 0.1939364\ttotal: 26s\tremaining: 6.94s\n",
      "789:\tlearn: 0.1938922\ttotal: 26s\tremaining: 6.91s\n",
      "790:\tlearn: 0.1938400\ttotal: 26s\tremaining: 6.88s\n",
      "791:\tlearn: 0.1938017\ttotal: 26.1s\tremaining: 6.85s\n",
      "792:\tlearn: 0.1937582\ttotal: 26.1s\tremaining: 6.82s\n",
      "793:\tlearn: 0.1937144\ttotal: 26.1s\tremaining: 6.78s\n",
      "794:\tlearn: 0.1936977\ttotal: 26.2s\tremaining: 6.75s\n",
      "795:\tlearn: 0.1936628\ttotal: 26.2s\tremaining: 6.72s\n",
      "796:\tlearn: 0.1936319\ttotal: 26.3s\tremaining: 6.69s\n",
      "797:\tlearn: 0.1935823\ttotal: 26.3s\tremaining: 6.65s\n",
      "798:\tlearn: 0.1935221\ttotal: 26.3s\tremaining: 6.62s\n",
      "799:\tlearn: 0.1934954\ttotal: 26.3s\tremaining: 6.59s\n",
      "800:\tlearn: 0.1934388\ttotal: 26.4s\tremaining: 6.55s\n",
      "801:\tlearn: 0.1934059\ttotal: 26.4s\tremaining: 6.52s\n",
      "802:\tlearn: 0.1933615\ttotal: 26.4s\tremaining: 6.48s\n",
      "803:\tlearn: 0.1933083\ttotal: 26.5s\tremaining: 6.45s\n",
      "804:\tlearn: 0.1932639\ttotal: 26.5s\tremaining: 6.42s\n",
      "805:\tlearn: 0.1932503\ttotal: 26.5s\tremaining: 6.39s\n",
      "806:\tlearn: 0.1932234\ttotal: 26.6s\tremaining: 6.35s\n",
      "807:\tlearn: 0.1931835\ttotal: 26.6s\tremaining: 6.32s\n",
      "808:\tlearn: 0.1931529\ttotal: 26.6s\tremaining: 6.28s\n",
      "809:\tlearn: 0.1931206\ttotal: 26.6s\tremaining: 6.25s\n",
      "810:\tlearn: 0.1930547\ttotal: 26.7s\tremaining: 6.21s\n",
      "811:\tlearn: 0.1930151\ttotal: 26.7s\tremaining: 6.18s\n",
      "812:\tlearn: 0.1929817\ttotal: 26.7s\tremaining: 6.14s\n",
      "813:\tlearn: 0.1929452\ttotal: 26.8s\tremaining: 6.11s\n",
      "814:\tlearn: 0.1928956\ttotal: 26.8s\tremaining: 6.08s\n",
      "815:\tlearn: 0.1928502\ttotal: 26.8s\tremaining: 6.05s\n",
      "816:\tlearn: 0.1928298\ttotal: 26.9s\tremaining: 6.02s\n",
      "817:\tlearn: 0.1927872\ttotal: 26.9s\tremaining: 5.98s\n",
      "818:\tlearn: 0.1927582\ttotal: 26.9s\tremaining: 5.95s\n",
      "819:\tlearn: 0.1926789\ttotal: 26.9s\tremaining: 5.91s\n",
      "820:\tlearn: 0.1926395\ttotal: 27s\tremaining: 5.88s\n",
      "821:\tlearn: 0.1926001\ttotal: 27s\tremaining: 5.84s\n",
      "822:\tlearn: 0.1925691\ttotal: 27s\tremaining: 5.81s\n",
      "823:\tlearn: 0.1925351\ttotal: 27.1s\tremaining: 5.78s\n",
      "824:\tlearn: 0.1925092\ttotal: 27.1s\tremaining: 5.74s\n",
      "825:\tlearn: 0.1924173\ttotal: 27.1s\tremaining: 5.71s\n",
      "826:\tlearn: 0.1923755\ttotal: 27.1s\tremaining: 5.68s\n",
      "827:\tlearn: 0.1923531\ttotal: 27.2s\tremaining: 5.64s\n",
      "828:\tlearn: 0.1922977\ttotal: 27.2s\tremaining: 5.61s\n",
      "829:\tlearn: 0.1922639\ttotal: 27.2s\tremaining: 5.58s\n",
      "830:\tlearn: 0.1922137\ttotal: 27.3s\tremaining: 5.55s\n",
      "831:\tlearn: 0.1921712\ttotal: 27.3s\tremaining: 5.51s\n",
      "832:\tlearn: 0.1921291\ttotal: 27.4s\tremaining: 5.48s\n",
      "833:\tlearn: 0.1921037\ttotal: 27.4s\tremaining: 5.46s\n",
      "834:\tlearn: 0.1920777\ttotal: 27.5s\tremaining: 5.43s\n",
      "835:\tlearn: 0.1920174\ttotal: 27.5s\tremaining: 5.39s\n",
      "836:\tlearn: 0.1918668\ttotal: 27.5s\tremaining: 5.36s\n",
      "837:\tlearn: 0.1918168\ttotal: 27.6s\tremaining: 5.33s\n",
      "838:\tlearn: 0.1917517\ttotal: 27.6s\tremaining: 5.29s\n",
      "839:\tlearn: 0.1917121\ttotal: 27.6s\tremaining: 5.26s\n",
      "840:\tlearn: 0.1916448\ttotal: 27.6s\tremaining: 5.22s\n",
      "841:\tlearn: 0.1916207\ttotal: 27.7s\tremaining: 5.19s\n",
      "842:\tlearn: 0.1916094\ttotal: 27.7s\tremaining: 5.16s\n",
      "843:\tlearn: 0.1915826\ttotal: 27.7s\tremaining: 5.12s\n",
      "844:\tlearn: 0.1915479\ttotal: 27.8s\tremaining: 5.09s\n",
      "845:\tlearn: 0.1915186\ttotal: 27.8s\tremaining: 5.06s\n",
      "846:\tlearn: 0.1914976\ttotal: 27.8s\tremaining: 5.03s\n",
      "847:\tlearn: 0.1914755\ttotal: 27.9s\tremaining: 4.99s\n",
      "848:\tlearn: 0.1914076\ttotal: 27.9s\tremaining: 4.96s\n",
      "849:\tlearn: 0.1913742\ttotal: 27.9s\tremaining: 4.93s\n",
      "850:\tlearn: 0.1913166\ttotal: 28s\tremaining: 4.9s\n",
      "851:\tlearn: 0.1912563\ttotal: 28s\tremaining: 4.87s\n",
      "852:\tlearn: 0.1912269\ttotal: 28.1s\tremaining: 4.84s\n",
      "853:\tlearn: 0.1912011\ttotal: 28.1s\tremaining: 4.8s\n",
      "854:\tlearn: 0.1911618\ttotal: 28.2s\tremaining: 4.78s\n",
      "855:\tlearn: 0.1911355\ttotal: 28.2s\tremaining: 4.74s\n",
      "856:\tlearn: 0.1910994\ttotal: 28.2s\tremaining: 4.71s\n",
      "857:\tlearn: 0.1910644\ttotal: 28.3s\tremaining: 4.68s\n",
      "858:\tlearn: 0.1910247\ttotal: 28.3s\tremaining: 4.65s\n",
      "859:\tlearn: 0.1909965\ttotal: 28.4s\tremaining: 4.62s\n",
      "860:\tlearn: 0.1909750\ttotal: 28.4s\tremaining: 4.59s\n",
      "861:\tlearn: 0.1909222\ttotal: 28.5s\tremaining: 4.56s\n",
      "862:\tlearn: 0.1908753\ttotal: 28.5s\tremaining: 4.53s\n",
      "863:\tlearn: 0.1908497\ttotal: 28.6s\tremaining: 4.5s\n",
      "864:\tlearn: 0.1908124\ttotal: 28.6s\tremaining: 4.46s\n",
      "865:\tlearn: 0.1907872\ttotal: 28.6s\tremaining: 4.43s\n",
      "866:\tlearn: 0.1907383\ttotal: 28.7s\tremaining: 4.39s\n",
      "867:\tlearn: 0.1906135\ttotal: 28.7s\tremaining: 4.37s\n",
      "868:\tlearn: 0.1905775\ttotal: 28.7s\tremaining: 4.33s\n",
      "869:\tlearn: 0.1905387\ttotal: 28.8s\tremaining: 4.3s\n",
      "870:\tlearn: 0.1905104\ttotal: 28.9s\tremaining: 4.27s\n",
      "871:\tlearn: 0.1904997\ttotal: 28.9s\tremaining: 4.24s\n",
      "872:\tlearn: 0.1904868\ttotal: 28.9s\tremaining: 4.21s\n",
      "873:\tlearn: 0.1904391\ttotal: 29s\tremaining: 4.18s\n",
      "874:\tlearn: 0.1904077\ttotal: 29s\tremaining: 4.14s\n",
      "875:\tlearn: 0.1903500\ttotal: 29s\tremaining: 4.11s\n",
      "876:\tlearn: 0.1903214\ttotal: 29.1s\tremaining: 4.08s\n",
      "877:\tlearn: 0.1902828\ttotal: 29.1s\tremaining: 4.05s\n",
      "878:\tlearn: 0.1902403\ttotal: 29.2s\tremaining: 4.01s\n",
      "879:\tlearn: 0.1902013\ttotal: 29.2s\tremaining: 3.98s\n",
      "880:\tlearn: 0.1901736\ttotal: 29.2s\tremaining: 3.94s\n",
      "881:\tlearn: 0.1901434\ttotal: 29.3s\tremaining: 3.91s\n",
      "882:\tlearn: 0.1901128\ttotal: 29.3s\tremaining: 3.88s\n",
      "883:\tlearn: 0.1900817\ttotal: 29.3s\tremaining: 3.85s\n",
      "884:\tlearn: 0.1900471\ttotal: 29.3s\tremaining: 3.81s\n",
      "885:\tlearn: 0.1900098\ttotal: 29.4s\tremaining: 3.78s\n",
      "886:\tlearn: 0.1899737\ttotal: 29.4s\tremaining: 3.75s\n",
      "887:\tlearn: 0.1899513\ttotal: 29.5s\tremaining: 3.72s\n",
      "888:\tlearn: 0.1899152\ttotal: 29.5s\tremaining: 3.68s\n",
      "889:\tlearn: 0.1898748\ttotal: 29.5s\tremaining: 3.65s\n",
      "890:\tlearn: 0.1898367\ttotal: 29.6s\tremaining: 3.62s\n",
      "891:\tlearn: 0.1897569\ttotal: 29.6s\tremaining: 3.58s\n",
      "892:\tlearn: 0.1897309\ttotal: 29.6s\tremaining: 3.55s\n",
      "893:\tlearn: 0.1896935\ttotal: 29.6s\tremaining: 3.51s\n",
      "894:\tlearn: 0.1896785\ttotal: 29.7s\tremaining: 3.48s\n",
      "895:\tlearn: 0.1896456\ttotal: 29.7s\tremaining: 3.45s\n",
      "896:\tlearn: 0.1896080\ttotal: 29.7s\tremaining: 3.41s\n",
      "897:\tlearn: 0.1895824\ttotal: 29.8s\tremaining: 3.38s\n",
      "898:\tlearn: 0.1895425\ttotal: 29.8s\tremaining: 3.35s\n",
      "899:\tlearn: 0.1894990\ttotal: 29.8s\tremaining: 3.31s\n",
      "900:\tlearn: 0.1894696\ttotal: 29.9s\tremaining: 3.28s\n",
      "901:\tlearn: 0.1894319\ttotal: 29.9s\tremaining: 3.25s\n",
      "902:\tlearn: 0.1893710\ttotal: 29.9s\tremaining: 3.22s\n",
      "903:\tlearn: 0.1893430\ttotal: 30s\tremaining: 3.18s\n",
      "904:\tlearn: 0.1893027\ttotal: 30s\tremaining: 3.15s\n",
      "905:\tlearn: 0.1892705\ttotal: 30s\tremaining: 3.12s\n",
      "906:\tlearn: 0.1892356\ttotal: 30.1s\tremaining: 3.08s\n",
      "907:\tlearn: 0.1891878\ttotal: 30.1s\tremaining: 3.05s\n",
      "908:\tlearn: 0.1891504\ttotal: 30.1s\tremaining: 3.02s\n",
      "909:\tlearn: 0.1890968\ttotal: 30.1s\tremaining: 2.98s\n",
      "910:\tlearn: 0.1890620\ttotal: 30.2s\tremaining: 2.95s\n",
      "911:\tlearn: 0.1890160\ttotal: 30.2s\tremaining: 2.91s\n",
      "912:\tlearn: 0.1889586\ttotal: 30.3s\tremaining: 2.88s\n",
      "913:\tlearn: 0.1889231\ttotal: 30.3s\tremaining: 2.85s\n",
      "914:\tlearn: 0.1889127\ttotal: 30.3s\tremaining: 2.82s\n",
      "915:\tlearn: 0.1888995\ttotal: 30.3s\tremaining: 2.78s\n",
      "916:\tlearn: 0.1888676\ttotal: 30.4s\tremaining: 2.75s\n",
      "917:\tlearn: 0.1888303\ttotal: 30.4s\tremaining: 2.71s\n",
      "918:\tlearn: 0.1887825\ttotal: 30.4s\tremaining: 2.68s\n",
      "919:\tlearn: 0.1887686\ttotal: 30.5s\tremaining: 2.65s\n",
      "920:\tlearn: 0.1887347\ttotal: 30.5s\tremaining: 2.61s\n",
      "921:\tlearn: 0.1887010\ttotal: 30.5s\tremaining: 2.58s\n",
      "922:\tlearn: 0.1886602\ttotal: 30.5s\tremaining: 2.55s\n",
      "923:\tlearn: 0.1886344\ttotal: 30.6s\tremaining: 2.51s\n",
      "924:\tlearn: 0.1886030\ttotal: 30.6s\tremaining: 2.48s\n",
      "925:\tlearn: 0.1884858\ttotal: 30.6s\tremaining: 2.45s\n",
      "926:\tlearn: 0.1884636\ttotal: 30.6s\tremaining: 2.41s\n",
      "927:\tlearn: 0.1883672\ttotal: 30.7s\tremaining: 2.38s\n",
      "928:\tlearn: 0.1883396\ttotal: 30.7s\tremaining: 2.35s\n",
      "929:\tlearn: 0.1883298\ttotal: 30.7s\tremaining: 2.31s\n",
      "930:\tlearn: 0.1882898\ttotal: 30.8s\tremaining: 2.28s\n",
      "931:\tlearn: 0.1882552\ttotal: 30.8s\tremaining: 2.25s\n",
      "932:\tlearn: 0.1882315\ttotal: 30.8s\tremaining: 2.21s\n",
      "933:\tlearn: 0.1882113\ttotal: 30.9s\tremaining: 2.18s\n",
      "934:\tlearn: 0.1881792\ttotal: 30.9s\tremaining: 2.15s\n",
      "935:\tlearn: 0.1881286\ttotal: 30.9s\tremaining: 2.12s\n",
      "936:\tlearn: 0.1881210\ttotal: 31s\tremaining: 2.08s\n",
      "937:\tlearn: 0.1880994\ttotal: 31s\tremaining: 2.05s\n",
      "938:\tlearn: 0.1880846\ttotal: 31s\tremaining: 2.02s\n",
      "939:\tlearn: 0.1880570\ttotal: 31.1s\tremaining: 1.98s\n",
      "940:\tlearn: 0.1880252\ttotal: 31.1s\tremaining: 1.95s\n",
      "941:\tlearn: 0.1880060\ttotal: 31.1s\tremaining: 1.92s\n",
      "942:\tlearn: 0.1879969\ttotal: 31.2s\tremaining: 1.88s\n",
      "943:\tlearn: 0.1879673\ttotal: 31.2s\tremaining: 1.85s\n",
      "944:\tlearn: 0.1879207\ttotal: 31.2s\tremaining: 1.82s\n",
      "945:\tlearn: 0.1878908\ttotal: 31.2s\tremaining: 1.78s\n",
      "946:\tlearn: 0.1878444\ttotal: 31.3s\tremaining: 1.75s\n",
      "947:\tlearn: 0.1877515\ttotal: 31.3s\tremaining: 1.72s\n",
      "948:\tlearn: 0.1877205\ttotal: 31.3s\tremaining: 1.68s\n",
      "949:\tlearn: 0.1876883\ttotal: 31.4s\tremaining: 1.65s\n",
      "950:\tlearn: 0.1876001\ttotal: 31.4s\tremaining: 1.62s\n",
      "951:\tlearn: 0.1875645\ttotal: 31.4s\tremaining: 1.58s\n",
      "952:\tlearn: 0.1875264\ttotal: 31.5s\tremaining: 1.55s\n",
      "953:\tlearn: 0.1874901\ttotal: 31.5s\tremaining: 1.52s\n",
      "954:\tlearn: 0.1874067\ttotal: 31.6s\tremaining: 1.49s\n",
      "955:\tlearn: 0.1873936\ttotal: 31.6s\tremaining: 1.45s\n",
      "956:\tlearn: 0.1873584\ttotal: 31.6s\tremaining: 1.42s\n",
      "957:\tlearn: 0.1873273\ttotal: 31.7s\tremaining: 1.39s\n",
      "958:\tlearn: 0.1872903\ttotal: 31.7s\tremaining: 1.36s\n",
      "959:\tlearn: 0.1872551\ttotal: 31.8s\tremaining: 1.32s\n",
      "960:\tlearn: 0.1872331\ttotal: 31.8s\tremaining: 1.29s\n",
      "961:\tlearn: 0.1871739\ttotal: 31.9s\tremaining: 1.26s\n",
      "962:\tlearn: 0.1871351\ttotal: 31.9s\tremaining: 1.22s\n",
      "963:\tlearn: 0.1870979\ttotal: 31.9s\tremaining: 1.19s\n",
      "964:\tlearn: 0.1870585\ttotal: 32s\tremaining: 1.16s\n",
      "965:\tlearn: 0.1870181\ttotal: 32s\tremaining: 1.13s\n",
      "966:\tlearn: 0.1869978\ttotal: 32.1s\tremaining: 1.09s\n",
      "967:\tlearn: 0.1869750\ttotal: 32.1s\tremaining: 1.06s\n",
      "968:\tlearn: 0.1869281\ttotal: 32.1s\tremaining: 1.03s\n",
      "969:\tlearn: 0.1868930\ttotal: 32.2s\tremaining: 995ms\n",
      "970:\tlearn: 0.1868584\ttotal: 32.2s\tremaining: 962ms\n",
      "971:\tlearn: 0.1868418\ttotal: 32.2s\tremaining: 929ms\n",
      "972:\tlearn: 0.1868151\ttotal: 32.3s\tremaining: 896ms\n",
      "973:\tlearn: 0.1867702\ttotal: 32.3s\tremaining: 863ms\n",
      "974:\tlearn: 0.1867373\ttotal: 32.3s\tremaining: 829ms\n",
      "975:\tlearn: 0.1867081\ttotal: 32.4s\tremaining: 796ms\n",
      "976:\tlearn: 0.1866798\ttotal: 32.4s\tremaining: 764ms\n",
      "977:\tlearn: 0.1866611\ttotal: 32.5s\tremaining: 731ms\n",
      "978:\tlearn: 0.1866325\ttotal: 32.5s\tremaining: 698ms\n",
      "979:\tlearn: 0.1865995\ttotal: 32.6s\tremaining: 665ms\n",
      "980:\tlearn: 0.1865485\ttotal: 32.6s\tremaining: 631ms\n",
      "981:\tlearn: 0.1865149\ttotal: 32.6s\tremaining: 598ms\n",
      "982:\tlearn: 0.1864956\ttotal: 32.7s\tremaining: 565ms\n",
      "983:\tlearn: 0.1864817\ttotal: 32.7s\tremaining: 532ms\n",
      "984:\tlearn: 0.1864468\ttotal: 32.7s\tremaining: 498ms\n",
      "985:\tlearn: 0.1864000\ttotal: 32.8s\tremaining: 465ms\n",
      "986:\tlearn: 0.1863827\ttotal: 32.8s\tremaining: 432ms\n",
      "987:\tlearn: 0.1863332\ttotal: 32.8s\tremaining: 399ms\n",
      "988:\tlearn: 0.1863024\ttotal: 32.9s\tremaining: 366ms\n",
      "989:\tlearn: 0.1862318\ttotal: 32.9s\tremaining: 332ms\n",
      "990:\tlearn: 0.1862029\ttotal: 32.9s\tremaining: 299ms\n",
      "991:\tlearn: 0.1861822\ttotal: 32.9s\tremaining: 266ms\n",
      "992:\tlearn: 0.1861467\ttotal: 33s\tremaining: 232ms\n",
      "993:\tlearn: 0.1861033\ttotal: 33s\tremaining: 199ms\n",
      "994:\tlearn: 0.1860255\ttotal: 33s\tremaining: 166ms\n",
      "995:\tlearn: 0.1859911\ttotal: 33.1s\tremaining: 133ms\n",
      "996:\tlearn: 0.1859364\ttotal: 33.1s\tremaining: 99.6ms\n",
      "997:\tlearn: 0.1858814\ttotal: 33.1s\tremaining: 66.4ms\n",
      "998:\tlearn: 0.1858640\ttotal: 33.1s\tremaining: 33.2ms\n",
      "999:\tlearn: 0.1858344\ttotal: 33.2s\tremaining: 0us\n"
     ]
    }
   ],
   "source": [
    "clf = CatBoostClassifier(learning_rate=0.04)\n",
    "\n",
    "model = clf.fit(X_train,y_train)\n"
   ]
  },
  {
   "cell_type": "code",
   "execution_count": 1107,
   "metadata": {},
   "outputs": [
    {
     "name": "stdout",
     "output_type": "stream",
     "text": [
      "      0     1\n",
      "0  3756   390\n",
      "1   429  3728\n",
      "Accuracy: 0.9013609538720945\n",
      "Precision: 0.905 / Recall: 0.897\n"
     ]
    }
   ],
   "source": [
    "y_pred = clf.predict(X_test)\n",
    "\n",
    "k = pd.DataFrame(confusion_matrix(y_test,y_pred))\n",
    "print(k)\n",
    "print('Accuracy: ' + str(accuracy_score(y_test, y_pred)))\n",
    "\n",
    "precision, recall, fscore, support = precision_recall_fscore_support(y_test, y_pred,average='binary')\n",
    "\n",
    "print('Precision: {} / Recall: {}'.format(round(precision, 3),\n",
    "                                                        round(recall, 3)))"
   ]
  },
  {
   "cell_type": "markdown",
   "metadata": {},
   "source": [
    "### Finding the best hyperparameters for the models under analysis\n",
    "Just tuning the crutial parameters, not all of them.\n",
    "I intercalate between randomizedSearch and GridSearch to diversify"
   ]
  },
  {
   "cell_type": "code",
   "execution_count": 1108,
   "metadata": {},
   "outputs": [],
   "source": [
    "models = []\n",
    "models.append(('NB', GaussianNB()))\n",
    "tuning_num_folds = 5\n",
    "jobs=4\n",
    "num_random_state=10\n",
    "scoring_criteria='accuracy'"
   ]
  },
  {
   "cell_type": "markdown",
   "metadata": {},
   "source": [
    "** Tuning Logistic Regression **"
   ]
  },
  {
   "cell_type": "code",
   "execution_count": 1109,
   "metadata": {},
   "outputs": [
    {
     "ename": "KeyboardInterrupt",
     "evalue": "",
     "output_type": "error",
     "traceback": [
      "\u001b[1;31m---------------------------------------------------------------------------\u001b[0m",
      "\u001b[1;31mKeyboardInterrupt\u001b[0m                         Traceback (most recent call last)",
      "\u001b[1;32m<ipython-input-1109-432c3ec7ff0d>\u001b[0m in \u001b[0;36m<module>\u001b[1;34m\u001b[0m\n\u001b[0;32m      4\u001b[0m \u001b[1;33m\u001b[0m\u001b[0m\n\u001b[0;32m      5\u001b[0m \u001b[0mgrid\u001b[0m \u001b[1;33m=\u001b[0m \u001b[0mGridSearchCV\u001b[0m\u001b[1;33m(\u001b[0m\u001b[0mLogisticRegression\u001b[0m\u001b[1;33m(\u001b[0m\u001b[1;33m)\u001b[0m\u001b[1;33m,\u001b[0m \u001b[0mparam\u001b[0m\u001b[1;33m,\u001b[0m\u001b[0mverbose\u001b[0m\u001b[1;33m=\u001b[0m\u001b[1;32mFalse\u001b[0m\u001b[1;33m,\u001b[0m \u001b[0mcv\u001b[0m \u001b[1;33m=\u001b[0m \u001b[0mStratifiedKFold\u001b[0m\u001b[1;33m(\u001b[0m\u001b[0mn_splits\u001b[0m\u001b[1;33m=\u001b[0m\u001b[0mtuning_num_folds\u001b[0m\u001b[1;33m,\u001b[0m\u001b[0mrandom_state\u001b[0m\u001b[1;33m=\u001b[0m\u001b[0mnum_random_state\u001b[0m\u001b[1;33m,\u001b[0m\u001b[0mshuffle\u001b[0m\u001b[1;33m=\u001b[0m\u001b[1;32mTrue\u001b[0m\u001b[1;33m)\u001b[0m\u001b[1;33m,\u001b[0m \u001b[0mn_jobs\u001b[0m\u001b[1;33m=\u001b[0m\u001b[0mjobs\u001b[0m\u001b[1;33m,\u001b[0m\u001b[0mscoring\u001b[0m\u001b[1;33m=\u001b[0m\u001b[0mscoring_criteria\u001b[0m\u001b[1;33m)\u001b[0m\u001b[1;33m\u001b[0m\u001b[1;33m\u001b[0m\u001b[0m\n\u001b[1;32m----> 6\u001b[1;33m \u001b[0mgrid\u001b[0m\u001b[1;33m.\u001b[0m\u001b[0mfit\u001b[0m\u001b[1;33m(\u001b[0m\u001b[0mX_train\u001b[0m\u001b[1;33m,\u001b[0m\u001b[0my_train\u001b[0m\u001b[1;33m)\u001b[0m\u001b[1;33m\u001b[0m\u001b[1;33m\u001b[0m\u001b[0m\n\u001b[0m\u001b[0;32m      7\u001b[0m \u001b[1;33m\u001b[0m\u001b[0m\n\u001b[0;32m      8\u001b[0m \u001b[0mmodels\u001b[0m\u001b[1;33m.\u001b[0m\u001b[0mappend\u001b[0m\u001b[1;33m(\u001b[0m\u001b[1;33m(\u001b[0m\u001b[1;34m'LR'\u001b[0m\u001b[1;33m,\u001b[0m \u001b[0mLogisticRegression\u001b[0m\u001b[1;33m(\u001b[0m\u001b[0mpenalty\u001b[0m\u001b[1;33m=\u001b[0m\u001b[0mgrid\u001b[0m\u001b[1;33m.\u001b[0m\u001b[0mbest_params_\u001b[0m\u001b[1;33m[\u001b[0m\u001b[1;34m'penalty'\u001b[0m\u001b[1;33m]\u001b[0m\u001b[1;33m,\u001b[0m \u001b[0mC\u001b[0m\u001b[1;33m=\u001b[0m\u001b[0mgrid\u001b[0m\u001b[1;33m.\u001b[0m\u001b[0mbest_params_\u001b[0m\u001b[1;33m[\u001b[0m\u001b[1;34m'C'\u001b[0m\u001b[1;33m]\u001b[0m\u001b[1;33m)\u001b[0m\u001b[1;33m)\u001b[0m\u001b[1;33m)\u001b[0m\u001b[1;33m\u001b[0m\u001b[1;33m\u001b[0m\u001b[0m\n",
      "\u001b[1;32m~\\AppData\\Roaming\\Python\\Python36\\site-packages\\sklearn\\model_selection\\_search.py\u001b[0m in \u001b[0;36mfit\u001b[1;34m(self, X, y, groups, **fit_params)\u001b[0m\n\u001b[0;32m    708\u001b[0m                 \u001b[1;32mreturn\u001b[0m \u001b[0mresults\u001b[0m\u001b[1;33m\u001b[0m\u001b[1;33m\u001b[0m\u001b[0m\n\u001b[0;32m    709\u001b[0m \u001b[1;33m\u001b[0m\u001b[0m\n\u001b[1;32m--> 710\u001b[1;33m             \u001b[0mself\u001b[0m\u001b[1;33m.\u001b[0m\u001b[0m_run_search\u001b[0m\u001b[1;33m(\u001b[0m\u001b[0mevaluate_candidates\u001b[0m\u001b[1;33m)\u001b[0m\u001b[1;33m\u001b[0m\u001b[1;33m\u001b[0m\u001b[0m\n\u001b[0m\u001b[0;32m    711\u001b[0m \u001b[1;33m\u001b[0m\u001b[0m\n\u001b[0;32m    712\u001b[0m         \u001b[1;31m# For multi-metric evaluation, store the best_index_, best_params_ and\u001b[0m\u001b[1;33m\u001b[0m\u001b[1;33m\u001b[0m\u001b[1;33m\u001b[0m\u001b[0m\n",
      "\u001b[1;32m~\\AppData\\Roaming\\Python\\Python36\\site-packages\\sklearn\\model_selection\\_search.py\u001b[0m in \u001b[0;36m_run_search\u001b[1;34m(self, evaluate_candidates)\u001b[0m\n\u001b[0;32m   1149\u001b[0m     \u001b[1;32mdef\u001b[0m \u001b[0m_run_search\u001b[0m\u001b[1;33m(\u001b[0m\u001b[0mself\u001b[0m\u001b[1;33m,\u001b[0m \u001b[0mevaluate_candidates\u001b[0m\u001b[1;33m)\u001b[0m\u001b[1;33m:\u001b[0m\u001b[1;33m\u001b[0m\u001b[1;33m\u001b[0m\u001b[0m\n\u001b[0;32m   1150\u001b[0m         \u001b[1;34m\"\"\"Search all candidates in param_grid\"\"\"\u001b[0m\u001b[1;33m\u001b[0m\u001b[1;33m\u001b[0m\u001b[0m\n\u001b[1;32m-> 1151\u001b[1;33m         \u001b[0mevaluate_candidates\u001b[0m\u001b[1;33m(\u001b[0m\u001b[0mParameterGrid\u001b[0m\u001b[1;33m(\u001b[0m\u001b[0mself\u001b[0m\u001b[1;33m.\u001b[0m\u001b[0mparam_grid\u001b[0m\u001b[1;33m)\u001b[0m\u001b[1;33m)\u001b[0m\u001b[1;33m\u001b[0m\u001b[1;33m\u001b[0m\u001b[0m\n\u001b[0m\u001b[0;32m   1152\u001b[0m \u001b[1;33m\u001b[0m\u001b[0m\n\u001b[0;32m   1153\u001b[0m \u001b[1;33m\u001b[0m\u001b[0m\n",
      "\u001b[1;32m~\\AppData\\Roaming\\Python\\Python36\\site-packages\\sklearn\\model_selection\\_search.py\u001b[0m in \u001b[0;36mevaluate_candidates\u001b[1;34m(candidate_params)\u001b[0m\n\u001b[0;32m    687\u001b[0m                                \u001b[1;32mfor\u001b[0m \u001b[0mparameters\u001b[0m\u001b[1;33m,\u001b[0m \u001b[1;33m(\u001b[0m\u001b[0mtrain\u001b[0m\u001b[1;33m,\u001b[0m \u001b[0mtest\u001b[0m\u001b[1;33m)\u001b[0m\u001b[1;33m\u001b[0m\u001b[1;33m\u001b[0m\u001b[0m\n\u001b[0;32m    688\u001b[0m                                in product(candidate_params,\n\u001b[1;32m--> 689\u001b[1;33m                                           cv.split(X, y, groups)))\n\u001b[0m\u001b[0;32m    690\u001b[0m \u001b[1;33m\u001b[0m\u001b[0m\n\u001b[0;32m    691\u001b[0m                 \u001b[1;32mif\u001b[0m \u001b[0mlen\u001b[0m\u001b[1;33m(\u001b[0m\u001b[0mout\u001b[0m\u001b[1;33m)\u001b[0m \u001b[1;33m<\u001b[0m \u001b[1;36m1\u001b[0m\u001b[1;33m:\u001b[0m\u001b[1;33m\u001b[0m\u001b[1;33m\u001b[0m\u001b[0m\n",
      "\u001b[1;32m~\\AppData\\Roaming\\Python\\Python36\\site-packages\\joblib\\parallel.py\u001b[0m in \u001b[0;36m__call__\u001b[1;34m(self, iterable)\u001b[0m\n\u001b[0;32m   1015\u001b[0m \u001b[1;33m\u001b[0m\u001b[0m\n\u001b[0;32m   1016\u001b[0m             \u001b[1;32mwith\u001b[0m \u001b[0mself\u001b[0m\u001b[1;33m.\u001b[0m\u001b[0m_backend\u001b[0m\u001b[1;33m.\u001b[0m\u001b[0mretrieval_context\u001b[0m\u001b[1;33m(\u001b[0m\u001b[1;33m)\u001b[0m\u001b[1;33m:\u001b[0m\u001b[1;33m\u001b[0m\u001b[1;33m\u001b[0m\u001b[0m\n\u001b[1;32m-> 1017\u001b[1;33m                 \u001b[0mself\u001b[0m\u001b[1;33m.\u001b[0m\u001b[0mretrieve\u001b[0m\u001b[1;33m(\u001b[0m\u001b[1;33m)\u001b[0m\u001b[1;33m\u001b[0m\u001b[1;33m\u001b[0m\u001b[0m\n\u001b[0m\u001b[0;32m   1018\u001b[0m             \u001b[1;31m# Make sure that we get a last message telling us we are done\u001b[0m\u001b[1;33m\u001b[0m\u001b[1;33m\u001b[0m\u001b[1;33m\u001b[0m\u001b[0m\n\u001b[0;32m   1019\u001b[0m             \u001b[0melapsed_time\u001b[0m \u001b[1;33m=\u001b[0m \u001b[0mtime\u001b[0m\u001b[1;33m.\u001b[0m\u001b[0mtime\u001b[0m\u001b[1;33m(\u001b[0m\u001b[1;33m)\u001b[0m \u001b[1;33m-\u001b[0m \u001b[0mself\u001b[0m\u001b[1;33m.\u001b[0m\u001b[0m_start_time\u001b[0m\u001b[1;33m\u001b[0m\u001b[1;33m\u001b[0m\u001b[0m\n",
      "\u001b[1;32m~\\AppData\\Roaming\\Python\\Python36\\site-packages\\joblib\\parallel.py\u001b[0m in \u001b[0;36mretrieve\u001b[1;34m(self)\u001b[0m\n\u001b[0;32m    907\u001b[0m             \u001b[1;32mtry\u001b[0m\u001b[1;33m:\u001b[0m\u001b[1;33m\u001b[0m\u001b[1;33m\u001b[0m\u001b[0m\n\u001b[0;32m    908\u001b[0m                 \u001b[1;32mif\u001b[0m \u001b[0mgetattr\u001b[0m\u001b[1;33m(\u001b[0m\u001b[0mself\u001b[0m\u001b[1;33m.\u001b[0m\u001b[0m_backend\u001b[0m\u001b[1;33m,\u001b[0m \u001b[1;34m'supports_timeout'\u001b[0m\u001b[1;33m,\u001b[0m \u001b[1;32mFalse\u001b[0m\u001b[1;33m)\u001b[0m\u001b[1;33m:\u001b[0m\u001b[1;33m\u001b[0m\u001b[1;33m\u001b[0m\u001b[0m\n\u001b[1;32m--> 909\u001b[1;33m                     \u001b[0mself\u001b[0m\u001b[1;33m.\u001b[0m\u001b[0m_output\u001b[0m\u001b[1;33m.\u001b[0m\u001b[0mextend\u001b[0m\u001b[1;33m(\u001b[0m\u001b[0mjob\u001b[0m\u001b[1;33m.\u001b[0m\u001b[0mget\u001b[0m\u001b[1;33m(\u001b[0m\u001b[0mtimeout\u001b[0m\u001b[1;33m=\u001b[0m\u001b[0mself\u001b[0m\u001b[1;33m.\u001b[0m\u001b[0mtimeout\u001b[0m\u001b[1;33m)\u001b[0m\u001b[1;33m)\u001b[0m\u001b[1;33m\u001b[0m\u001b[1;33m\u001b[0m\u001b[0m\n\u001b[0m\u001b[0;32m    910\u001b[0m                 \u001b[1;32melse\u001b[0m\u001b[1;33m:\u001b[0m\u001b[1;33m\u001b[0m\u001b[1;33m\u001b[0m\u001b[0m\n\u001b[0;32m    911\u001b[0m                     \u001b[0mself\u001b[0m\u001b[1;33m.\u001b[0m\u001b[0m_output\u001b[0m\u001b[1;33m.\u001b[0m\u001b[0mextend\u001b[0m\u001b[1;33m(\u001b[0m\u001b[0mjob\u001b[0m\u001b[1;33m.\u001b[0m\u001b[0mget\u001b[0m\u001b[1;33m(\u001b[0m\u001b[1;33m)\u001b[0m\u001b[1;33m)\u001b[0m\u001b[1;33m\u001b[0m\u001b[1;33m\u001b[0m\u001b[0m\n",
      "\u001b[1;32m~\\AppData\\Roaming\\Python\\Python36\\site-packages\\joblib\\_parallel_backends.py\u001b[0m in \u001b[0;36mwrap_future_result\u001b[1;34m(future, timeout)\u001b[0m\n\u001b[0;32m    560\u001b[0m         AsyncResults.get from multiprocessing.\"\"\"\n\u001b[0;32m    561\u001b[0m         \u001b[1;32mtry\u001b[0m\u001b[1;33m:\u001b[0m\u001b[1;33m\u001b[0m\u001b[1;33m\u001b[0m\u001b[0m\n\u001b[1;32m--> 562\u001b[1;33m             \u001b[1;32mreturn\u001b[0m \u001b[0mfuture\u001b[0m\u001b[1;33m.\u001b[0m\u001b[0mresult\u001b[0m\u001b[1;33m(\u001b[0m\u001b[0mtimeout\u001b[0m\u001b[1;33m=\u001b[0m\u001b[0mtimeout\u001b[0m\u001b[1;33m)\u001b[0m\u001b[1;33m\u001b[0m\u001b[1;33m\u001b[0m\u001b[0m\n\u001b[0m\u001b[0;32m    563\u001b[0m         \u001b[1;32mexcept\u001b[0m \u001b[0mLokyTimeoutError\u001b[0m\u001b[1;33m:\u001b[0m\u001b[1;33m\u001b[0m\u001b[1;33m\u001b[0m\u001b[0m\n\u001b[0;32m    564\u001b[0m             \u001b[1;32mraise\u001b[0m \u001b[0mTimeoutError\u001b[0m\u001b[1;33m(\u001b[0m\u001b[1;33m)\u001b[0m\u001b[1;33m\u001b[0m\u001b[1;33m\u001b[0m\u001b[0m\n",
      "\u001b[1;32mC:\\Program Files\\Python36\\lib\\concurrent\\futures\\_base.py\u001b[0m in \u001b[0;36mresult\u001b[1;34m(self, timeout)\u001b[0m\n\u001b[0;32m    425\u001b[0m                 \u001b[1;32mreturn\u001b[0m \u001b[0mself\u001b[0m\u001b[1;33m.\u001b[0m\u001b[0m__get_result\u001b[0m\u001b[1;33m(\u001b[0m\u001b[1;33m)\u001b[0m\u001b[1;33m\u001b[0m\u001b[1;33m\u001b[0m\u001b[0m\n\u001b[0;32m    426\u001b[0m \u001b[1;33m\u001b[0m\u001b[0m\n\u001b[1;32m--> 427\u001b[1;33m             \u001b[0mself\u001b[0m\u001b[1;33m.\u001b[0m\u001b[0m_condition\u001b[0m\u001b[1;33m.\u001b[0m\u001b[0mwait\u001b[0m\u001b[1;33m(\u001b[0m\u001b[0mtimeout\u001b[0m\u001b[1;33m)\u001b[0m\u001b[1;33m\u001b[0m\u001b[1;33m\u001b[0m\u001b[0m\n\u001b[0m\u001b[0;32m    428\u001b[0m \u001b[1;33m\u001b[0m\u001b[0m\n\u001b[0;32m    429\u001b[0m             \u001b[1;32mif\u001b[0m \u001b[0mself\u001b[0m\u001b[1;33m.\u001b[0m\u001b[0m_state\u001b[0m \u001b[1;32min\u001b[0m \u001b[1;33m[\u001b[0m\u001b[0mCANCELLED\u001b[0m\u001b[1;33m,\u001b[0m \u001b[0mCANCELLED_AND_NOTIFIED\u001b[0m\u001b[1;33m]\u001b[0m\u001b[1;33m:\u001b[0m\u001b[1;33m\u001b[0m\u001b[1;33m\u001b[0m\u001b[0m\n",
      "\u001b[1;32mC:\\Program Files\\Python36\\lib\\threading.py\u001b[0m in \u001b[0;36mwait\u001b[1;34m(self, timeout)\u001b[0m\n\u001b[0;32m    293\u001b[0m         \u001b[1;32mtry\u001b[0m\u001b[1;33m:\u001b[0m    \u001b[1;31m# restore state no matter what (e.g., KeyboardInterrupt)\u001b[0m\u001b[1;33m\u001b[0m\u001b[1;33m\u001b[0m\u001b[0m\n\u001b[0;32m    294\u001b[0m             \u001b[1;32mif\u001b[0m \u001b[0mtimeout\u001b[0m \u001b[1;32mis\u001b[0m \u001b[1;32mNone\u001b[0m\u001b[1;33m:\u001b[0m\u001b[1;33m\u001b[0m\u001b[1;33m\u001b[0m\u001b[0m\n\u001b[1;32m--> 295\u001b[1;33m                 \u001b[0mwaiter\u001b[0m\u001b[1;33m.\u001b[0m\u001b[0macquire\u001b[0m\u001b[1;33m(\u001b[0m\u001b[1;33m)\u001b[0m\u001b[1;33m\u001b[0m\u001b[1;33m\u001b[0m\u001b[0m\n\u001b[0m\u001b[0;32m    296\u001b[0m                 \u001b[0mgotit\u001b[0m \u001b[1;33m=\u001b[0m \u001b[1;32mTrue\u001b[0m\u001b[1;33m\u001b[0m\u001b[1;33m\u001b[0m\u001b[0m\n\u001b[0;32m    297\u001b[0m             \u001b[1;32melse\u001b[0m\u001b[1;33m:\u001b[0m\u001b[1;33m\u001b[0m\u001b[1;33m\u001b[0m\u001b[0m\n",
      "\u001b[1;31mKeyboardInterrupt\u001b[0m: "
     ]
    }
   ],
   "source": [
    "C_vals = [0.0001, 0.001, 0.01, 0.1,0.13,0.2, .15, .25, .275, .33, 0.5, .66, 0.75, 1.0, 2.5, 4.0,4.5,5.0,5.1,5.5,6.0, 10.0, 100.0, 1000.0]\n",
    "penalties = ['l1','l2']\n",
    "param = {'penalty': penalties, 'C': C_vals}\n",
    "\n",
    "grid = GridSearchCV(LogisticRegression(), param,verbose=False, cv = StratifiedKFold(n_splits=tuning_num_folds,random_state=num_random_state,shuffle=True), n_jobs=jobs,scoring=scoring_criteria)\n",
    "grid.fit(X_train,y_train)\n",
    "\n",
    "models.append(('LR', LogisticRegression(penalty=grid.best_params_['penalty'], C=grid.best_params_['C'])))"
   ]
  },
  {
   "cell_type": "markdown",
   "metadata": {},
   "source": [
    "** CatBoostClassifier Tuning**"
   ]
  },
  {
   "cell_type": "code",
   "execution_count": null,
   "metadata": {},
   "outputs": [],
   "source": [
    "param = {'iterations': [100, 150], 'learning_rate': [0.3, 0.4, 0.5]}\n",
    "\n",
    "grid = GridSearchCV(CatBoostClassifier(), param,verbose=True, cv = StratifiedKFold(n_splits=tuning_num_folds,random_state=num_random_state,shuffle=True), n_jobs=jobs,scoring=scoring_criteria)\n",
    "grid.fit(X_train,y_train)\n",
    "\n",
    "models.append(('CAT', CatBoostClassifier(iterations=grid.best_params_['iterations'], learning_rate=grid.best_params_['learning_rate'])))"
   ]
  },
  {
   "cell_type": "markdown",
   "metadata": {},
   "source": [
    "** Random Forest Tuning **"
   ]
  },
  {
   "cell_type": "code",
   "execution_count": null,
   "metadata": {},
   "outputs": [],
   "source": [
    "params ={\n",
    "             'max_depth': st.randint(3, 11),\n",
    "            'n_estimators': [50,100,150,200,250],\n",
    "             'max_features':[\"sqrt\", \"log2\"],\n",
    "             'max_leaf_nodes':st.randint(6, 10)\n",
    "            }\n",
    "\n",
    "skf = StratifiedKFold(n_splits=tuning_num_folds, shuffle = True)\n",
    "\n",
    "random_search = RandomizedSearchCV(RandomForestClassifier(), param_distributions=params, scoring='roc_auc', n_jobs=jobs, cv=skf.split(X_train,y_train), verbose=3, random_state=num_random_state)\n",
    "random_search.fit(X_train,y_train)\n",
    "\n",
    "models.append(('RF', RandomForestClassifier(n_estimators=random_search.best_params_['n_estimators'], max_features=random_search.best_params_['max_features'], max_leaf_nodes=random_search.best_params_['max_leaf_nodes'], max_depth=random_search.best_params_['max_depth'])))\n"
   ]
  },
  {
   "cell_type": "markdown",
   "metadata": {},
   "source": [
    "** XGBClassifier Tuning **"
   ]
  },
  {
   "cell_type": "code",
   "execution_count": null,
   "metadata": {},
   "outputs": [],
   "source": [
    "params = {\n",
    "        'min_child_weight': [1, 5, 10],\n",
    "        'gamma': [0.5, 1, 1.5, 2, 5],\n",
    "        'subsample': [0.6, 0.8, 1.0],\n",
    "        'colsample_bytree': [0.6, 0.8, 1.0],\n",
    "        'max_depth': [3, 4, 5]\n",
    "        }\n",
    "\n",
    "skf = StratifiedKFold(n_splits=tuning_num_folds, shuffle = True)\n",
    "\n",
    "random_search = RandomizedSearchCV(XGBClassifier(), param_distributions=params, scoring='roc_auc', n_jobs=jobs, cv=skf.split(X_train,y_train), verbose=3, random_state=num_random_state)\n",
    "random_search.fit(X_train,y_train)\n",
    "\n",
    "models.append(('XGB', XGBClassifier(colsample_bytree=random_search.best_params_['colsample_bytree'], gamma=random_search.best_params_['gamma'], max_depth=random_search.best_params_['max_depth'], min_child_weight=random_search.best_params_['min_child_weight'], subsample=random_search.best_params_['subsample'])))\n"
   ]
  },
  {
   "cell_type": "markdown",
   "metadata": {},
   "source": [
    "** MLPClassifier tuning **\n"
   ]
  },
  {
   "cell_type": "code",
   "execution_count": null,
   "metadata": {},
   "outputs": [],
   "source": [
    "param ={'max_iter': np.logspace(1, 5, 10).astype(\"int32\"),\n",
    "             'hidden_layer_sizes': np.logspace(2, 3, 4).astype(\"int32\"),\n",
    "             'activation':['identity', 'logistic', 'tanh', 'relu'],\n",
    "             'learning_rate': ['adaptive'],\n",
    "             'early_stopping': [True],\n",
    "             'alpha': np.logspace(2, 3, 4).astype(\"int32\")\n",
    "            }\n",
    "\n",
    "grid = GridSearchCV(MLPClassifier(), param,verbose=False, cv = StratifiedKFold(n_splits=tuning_num_folds,random_state=num_random_state,shuffle=True), n_jobs=jobs,scoring=scoring_criteria)\n",
    "grid.fit(X_train,y_train)\n",
    "\n",
    "models.append(('MLP', MLPClassifier(max_iter=grid.best_params_['max_iter'], hidden_layer_sizes=grid.best_params_['hidden_layer_sizes'], activation=grid.best_params_['activation'], early_stopping=grid.best_params_['early_stopping'], learning_rate=grid.best_params_['learning_rate'], alpha=grid.best_params_['alpha'])))"
   ]
  },
  {
   "cell_type": "markdown",
   "metadata": {},
   "source": [
    "** KNeighborsClassifier tuning **"
   ]
  },
  {
   "cell_type": "code",
   "execution_count": null,
   "metadata": {},
   "outputs": [],
   "source": [
    "params ={'n_neighbors': st.randint(1,40),\n",
    "            'weights':['uniform','distance']\n",
    "            }\n",
    "\n",
    "skf = StratifiedKFold(n_splits=tuning_num_folds, shuffle = True)\n",
    "\n",
    "random_search = RandomizedSearchCV(KNeighborsClassifier(), param_distributions=params, scoring='roc_auc', n_jobs=jobs, cv=skf.split(X_train,y_train), verbose=3, random_state=num_random_state)\n",
    "random_search.fit(X_train,y_train)\n",
    "\n",
    "models.append(('KNN', KNeighborsClassifier(n_neighbors=random_search.best_params_['n_neighbors'], weights=random_search.best_params_['weights'])))\n"
   ]
  },
  {
   "cell_type": "markdown",
   "metadata": {},
   "source": [
    "** Linear Discriminant tuning **"
   ]
  },
  {
   "cell_type": "code",
   "execution_count": null,
   "metadata": {},
   "outputs": [],
   "source": [
    "param={'solver': ['svd', 'lsqr', 'eigen']}\n",
    "\n",
    "grid = GridSearchCV(LinearDiscriminantAnalysis(), param,verbose=True, cv = StratifiedKFold(n_splits=tuning_num_folds,random_state=num_random_state,shuffle=True), n_jobs=jobs,scoring=scoring_criteria)\n",
    "grid.fit(X_train,y_train)\n",
    "\n",
    "models.append(('LDA', LinearDiscriminantAnalysis(solver=grid.best_params_['solver'])))"
   ]
  },
  {
   "cell_type": "markdown",
   "metadata": {},
   "source": [
    "** DecisionTreeClassifier tuning **"
   ]
  },
  {
   "cell_type": "code",
   "execution_count": null,
   "metadata": {},
   "outputs": [],
   "source": [
    "param = {'min_samples_split': [4,7,10,12]}\n",
    "\n",
    "grid = GridSearchCV(DecisionTreeClassifier(), param,verbose=True, cv = StratifiedKFold(n_splits=tuning_num_folds,random_state=num_random_state,shuffle=True), n_jobs=jobs,scoring=scoring_criteria)\n",
    "grid.fit(X_train,y_train)\n",
    "\n",
    "models.append(('DTC', DecisionTreeClassifier(min_samples_split=grid.best_params_['min_samples_split'])))"
   ]
  },
  {
   "cell_type": "markdown",
   "metadata": {},
   "source": [
    "** SVC tuning **"
   ]
  },
  {
   "cell_type": "code",
   "execution_count": null,
   "metadata": {},
   "outputs": [],
   "source": [
    "param={'C':[0.1,0.8,0.9,1,1.1,1.2,1.3,1.4,1.5],\n",
    "      'kernel': [\"linear\",\"rbf\"]\n",
    "      }\n",
    "\n",
    "grid = GridSearchCV(SVC(), param,verbose=True, cv = StratifiedKFold(n_splits=tuning_num_folds,random_state=num_random_state,shuffle=True), n_jobs=jobs,scoring=scoring_criteria)\n",
    "grid.fit(X_train,y_train)\n",
    "\n",
    "models.append(('SVC', SVC(C=grid.best_params_['C'], kernel=grid.best_params_['kernel'])))\n"
   ]
  },
  {
   "cell_type": "markdown",
   "metadata": {},
   "source": [
    "** SGDClassifier tuning **"
   ]
  },
  {
   "cell_type": "code",
   "execution_count": null,
   "metadata": {},
   "outputs": [],
   "source": [
    "param ={'loss':[\"hinge\",\"log\",\"modified_huber\",\"epsilon_insensitive\",\"squared_epsilon_insensitive\"]}\n",
    "\n",
    "grid = GridSearchCV(SGDClassifier(), param,verbose=False, cv = StratifiedKFold(n_splits=tuning_num_folds,random_state=num_random_state,shuffle=True), n_jobs=jobs,scoring=scoring_criteria)\n",
    "grid.fit(X_train,y_train)\n",
    "\n",
    "models.append(('SGD', SGDClassifier(loss=grid.best_params_['loss'])))"
   ]
  },
  {
   "cell_type": "markdown",
   "metadata": {},
   "source": [
    "** GradientBoostingClassifier tuning **"
   ]
  },
  {
   "cell_type": "code",
   "execution_count": null,
   "metadata": {},
   "outputs": [],
   "source": [
    "param_grid ={'n_estimators': st.randint(100, 800),\n",
    "            'loss': ['deviance', 'exponential'],\n",
    "            'learning_rate': [0.1, 0.01,0.05,0.001],\n",
    "            'max_depth': np.arange(2, 12, 1)}\n",
    "\n",
    "\n",
    "random_search = RandomizedSearchCV(GradientBoostingClassifier(), param_distributions=params, scoring='roc_auc', n_jobs=jobs, cv=skf.split(X_train,y_train), verbose=3, random_state=num_random_state)\n",
    "random_search.fit(X_train,y_train)\n",
    "\n",
    "models.append(('GraBoost', GradientBoostingClassifier(n_estimators=random_search.best_params_['n_estimators'], loss=random_search.best_params_['loss'], max_depth=random_search.best_params_['max_depth'], learning_rate=random_search.best_params_['learning_rate'])))"
   ]
  },
  {
   "cell_type": "markdown",
   "metadata": {},
   "source": [
    "** AdaBoostClassifier tuning **"
   ]
  },
  {
   "cell_type": "code",
   "execution_count": null,
   "metadata": {},
   "outputs": [],
   "source": [
    "params ={'n_estimators':st.randint(100, 800),\n",
    "        'learning_rate':np.arange(.1, 4, .5)}\n",
    "\n",
    "\n",
    "random_search = RandomizedSearchCV(AdaBoostClassifier(), param_distributions=params, scoring='roc_auc', n_jobs=jobs, cv=skf.split(X_train,y_train), verbose=3, random_state=num_random_state)\n",
    "random_search.fit(X_train,y_train)\n",
    "\n",
    "models.append(('Ada', AdaBoostClassifier(n_estimators=random_search.best_params_['n_estimators'], learning_rate=random_search.best_params_['learning_rate'])))"
   ]
  },
  {
   "cell_type": "markdown",
   "metadata": {},
   "source": [
    "# Find the best Model"
   ]
  },
  {
   "cell_type": "code",
   "execution_count": null,
   "metadata": {},
   "outputs": [],
   "source": [
    "validation_size = 0.20\n",
    "seed = 7\n",
    "num_folds = 10\n",
    "scoring = 'accuracy'\n",
    "X_train, X_validation, Y_train, Y_validation = train_test_split(X,Y,\n",
    "    test_size=validation_size,random_state=seed)\n",
    "\n",
    "\n",
    "# evalutate each model in turn\n",
    "results = []\n",
    "names = []\n",
    "for name, model in models:\n",
    "    kfold = KFold(n_splits=10, random_state=seed)\n",
    "    cv_results = cross_val_score(model, X_train, Y_train, cv=kfold, scoring='accuracy')\n",
    "    results.append(cv_results)\n",
    "    names.append(name)\n",
    "    msg = \"%s: %f (%f)\" % (name, cv_results.mean(), cv_results.std())\n",
    "    print(msg)"
   ]
  },
  {
   "cell_type": "markdown",
   "metadata": {},
   "source": [
    "Ensemble, voting, bagging, boosting, etc"
   ]
  },
  {
   "cell_type": "code",
   "execution_count": null,
   "metadata": {},
   "outputs": [],
   "source": []
  },
  {
   "cell_type": "code",
   "execution_count": null,
   "metadata": {},
   "outputs": [],
   "source": []
  },
  {
   "cell_type": "markdown",
   "metadata": {},
   "source": [
    "Statistical tests, Comparing, Ranking, etc"
   ]
  },
  {
   "cell_type": "code",
   "execution_count": null,
   "metadata": {},
   "outputs": [],
   "source": [
    "fig = plt.figure()\n",
    "fig.suptitle('Algorith Comparison')\n",
    "ax = fig.add_subplot(111)\n",
    "plt.boxplot(results)\n",
    "ax.set_xticklabels(names)\n",
    "plt.show()"
   ]
  },
  {
   "cell_type": "code",
   "execution_count": null,
   "metadata": {},
   "outputs": [],
   "source": []
  },
  {
   "cell_type": "markdown",
   "metadata": {},
   "source": [
    "## Checking overfitting/underfiiting. Another Interation on Feature Selection/Reduction"
   ]
  },
  {
   "cell_type": "markdown",
   "metadata": {},
   "source": [
    "Filter Method - easiest but not the best way"
   ]
  },
  {
   "cell_type": "code",
   "execution_count": null,
   "metadata": {},
   "outputs": [],
   "source": [
    "\"\"\"\n",
    "#Filter Method - easiest but not the best way\n",
    "print(X[[\"sex\",\"relationship\"]].corr())\n",
    "\n",
    "X = X.drop('relationship',axis=1)\n",
    "\"\"\""
   ]
  },
  {
   "cell_type": "markdown",
   "metadata": {},
   "source": [
    "### BACKWARD ELIMINATION (wrapper method 1)\n",
    "\n",
    "- 1) We select a significance level (SL) to stay in the model\n",
    "- 2) Fit the full model with all possible predictors\n",
    "- 3) Loop (while p-value < SL)\n",
    "    - 4) Consider the predictor with highest p-value. \n",
    "    - 5) Remove the predictor\n",
    "    - 6) Fit model without this variable\n",
    "    \n",
    "So basically we are feeding all the possible features to the model and then proceed to iteratively remove \n",
    "the worst performing features one by one. The metric to evaluate feature performance is pvalue above 0.05 (to keep the feature).\n"
   ]
  },
  {
   "cell_type": "code",
   "execution_count": null,
   "metadata": {},
   "outputs": [],
   "source": [
    "pmax = 1\n",
    "SL = 0.05 # the smaller the SL, the more features will be removed\n",
    "\n",
    "while (len(X.columns) > 0):\n",
    "    \n",
    "    p_values = []\n",
    "    \n",
    "    Xtemp = X[X.columns]\n",
    "    Xtemp = sm.add_constant(Xtemp)\n",
    "    model = sm.OLS(Y,Xtemp).fit()\n",
    "    \n",
    "    p = pd.Series(model.pvalues.values[1:],index = cols)      \n",
    "    p_max = max(p)\n",
    "    feature_pmax = p.idxmax()\n",
    "    \n",
    "    if(p_max > SL):\n",
    "        cols.remove(feature_pmax)\n",
    "    else:\n",
    "        break\n",
    "\n",
    "print('Features Selected: ', cols)\n",
    "\n",
    "X = X[cols]\n",
    "\n",
    "\"\"\"\n",
    "#If we just want to perform OLS regression to find out interesting stats:\n",
    "X1 = sm.add_constant(X)\n",
    "model = sm.OLS(Y, X1).fit()\n",
    "display(model.summary())\n",
    "print(model.pvalues)\n",
    "\"\"\""
   ]
  },
  {
   "cell_type": "markdown",
   "metadata": {},
   "source": [
    "So, in our case, backward elimination is telling us that we should remain with all the features. No need to drop any of them :)"
   ]
  },
  {
   "cell_type": "markdown",
   "metadata": {},
   "source": [
    "### FORWARD SELECTION (wrapper method 2)\n",
    "\n",
    "Forward selection is an iterative method in which we start with having no feature in the model. In each iteration, we keep adding the feature which best improves our model till an addition of a new variable does not improve the performance of the model."
   ]
  },
  {
   "cell_type": "code",
   "execution_count": null,
   "metadata": {},
   "outputs": [],
   "source": [
    "sfs1 = sfs(LinearRegression(), k_features=len(X.columns) , forward=True , scoring='r2')\n",
    "sfs1 = sfs1.fit(X,Y)\n",
    "fig = plot_sfs(sfs1.get_metric_dict())\n",
    "plt.grid(True)\n",
    "plt.show()\n",
    "\n",
    "print(sfs1.k_feature_names_)\n",
    "\n",
    "\"\"\"\n",
    "X_train, X_test, y_train, y_test = train_test_split(X,Y, test_size = 0.3, random_state = 0)\n",
    "\n",
    "sfs1 = sfs(model_1 , k_features=9 , forward=True , scoring='r2')\n",
    "sfs1 = sfs1.fit(X_train,y_train)\n",
    "sfs1.k_feature_names_\n",
    "\n",
    "lr=LinearRegression().fit(X_train,y_train)\n",
    "y_pred_fs=lr.predict(X_test)\n",
    "r2_score(y_test,y_pred_fs)\n",
    "\"\"\""
   ]
  },
  {
   "cell_type": "markdown",
   "metadata": {},
   "source": [
    "### RECURSIVE FEATURE ELIMINATION (wrapper method 3)\n",
    "\n",
    "It is a greedy optimization algorithm which aims to find the best performing feature subset. It repeatedly creates models and keeps aside the best or the worst performing feature at each iteration. It constructs the next model with the left features until all the features are exhausted. We need to find the optimum number of features, \n",
    "for which the accuracy is the highest. It then ranks the features based on the order of their elimination."
   ]
  },
  {
   "cell_type": "code",
   "execution_count": null,
   "metadata": {},
   "outputs": [],
   "source": [
    "nof_list=np.arange(1,len(df.columns)+1)            \n",
    "high_score=0\n",
    "\n",
    "nof=0           \n",
    "score_list =[]\n",
    "for n in range(len(nof_list)):\n",
    "    X_train, X_test, y_train, y_test = train_test_split(X,Y, test_size = 0.3, random_state = 0)\n",
    "    model = LogisticRegression()\n",
    "    rfe = RFE(model,nof_list[n])\n",
    "    X_train_rfe = rfe.fit_transform(X_train,y_train)\n",
    "    X_test_rfe = rfe.transform(X_test)\n",
    "    model.fit(X_train_rfe,y_train)\n",
    "    score = model.score(X_test_rfe,y_test)\n",
    "    score_list.append(score)\n",
    "    if(score>high_score):\n",
    "        high_score = score\n",
    "        nof = nof_list[n]\n",
    "\n",
    "print(\"Optimum number of features: %d\" %nof)\n",
    "print(\"Score with %d features: %f\" % (nof, high_score))"
   ]
  },
  {
   "cell_type": "code",
   "execution_count": null,
   "metadata": {},
   "outputs": [],
   "source": [
    "#Now that we now the perfect number of features, we feed them to a RFE and get the final set of features given by RFE:'''\n",
    "cols = list(X.columns)\n",
    "model = LogisticRegression()\n",
    "\n",
    "rfe = RFE(model, nof)             \n",
    "\n",
    "X_rfe = rfe.fit_transform(X,Y)  \n",
    "\n",
    "model.fit(X_rfe,Y)              \n",
    "temp = pd.Series(rfe.support_,index = cols)\n",
    "selected_features_rfe = temp[temp==True].index\n",
    "\n",
    "X = X[selected_features_rfe]\n",
    "\n",
    "print(rfe.support_)\n",
    "print(rfe.ranking_)"
   ]
  },
  {
   "cell_type": "markdown",
   "metadata": {},
   "source": [
    "FEATURE SELECTION - EMBEDDED METHOD"
   ]
  },
  {
   "cell_type": "code",
   "execution_count": null,
   "metadata": {},
   "outputs": [],
   "source": [
    "'''We iterate over the model training process and carefully \n",
    "extract those features which contribute the most \n",
    "to the training for a particular iteration, \n",
    "penalizing a feature given a threshold.\n",
    "Here we will do feature selection using Lasso regularization. \n",
    "If the feature is irrelevant, lasso penalizes its coefficient making it 0. \n",
    "Features with coefficient = 0 are removed.'''\n",
    "\n",
    "reg = LassoCV()\n",
    "reg.fit(X, y)\n",
    "print(\"Best alpha using built-in LassoCV: %f\" % reg.alpha_)\n",
    "print(\"Best score using built-in LassoCV: %f\" %reg.score(X,y))\n",
    "coef = pd.Series(reg.coef_, index = X.columns)"
   ]
  },
  {
   "cell_type": "code",
   "execution_count": null,
   "metadata": {},
   "outputs": [],
   "source": [
    "print(\"Lasso picked \" + str(sum(coef != 0)) + \" variables and eliminated the other \" +  str(sum(coef == 0)) + \" variables\")\n",
    "\n",
    "imp_coef = coef.sort_values()\n",
    "import matplotlib\n",
    "matplotlib.rcParams['figure.figsize'] = (8.0, 10.0)\n",
    "imp_coef.plot(kind = \"barh\")\n",
    "plt.title(\"Feature importance using Lasso Model\");plt.show()\n",
    "\n",
    "#Here Lasso model has taken all the features except NOX, CHAS and INDUS."
   ]
  },
  {
   "cell_type": "markdown",
   "metadata": {},
   "source": [
    "Example of SelectKBest (chi2)"
   ]
  },
  {
   "cell_type": "code",
   "execution_count": null,
   "metadata": {},
   "outputs": [],
   "source": [
    "#EXAMPLE OF USING SICKIT LEARN TO SELECT THE TWO BEST FEATURES\n",
    "#https://github.com/knathanieltucker/bit-of-data-science-and-scikit-learn/blob/master/notebooks/FeatureSelection.ipynb\n",
    "#https://towardsdatascience.com/feature-selection-techniques-in-machine-learning-with-python-f24e7da3f36e\n",
    "\n",
    "from sklearn.feature_selection import SelectKBest\n",
    "from sklearn.feature_selection import chi2\n",
    "\n",
    "#apply SelectKBest class to extract top 10 best features\n",
    "bestfeatures = SelectKBest(score_func=chi2, k=10)\n",
    "\n",
    "fit = bestfeatures.fit(X,np.ravel(y))\n",
    "dfscores = pd.DataFrame(fit.scores_)\n",
    "dfcolumns = pd.DataFrame(X.columns)\n",
    "\n",
    "#concat two dataframes for better visualization \n",
    "featureScores = pd.concat([dfcolumns,dfscores],axis=1)\n",
    "featureScores.columns = ['Specs','Score']  #naming the dataframe columns\n",
    "print(featureScores.nlargest(10,'Score'))  #print 10 best features"
   ]
  },
  {
   "cell_type": "markdown",
   "metadata": {},
   "source": [
    "** Example of ExtRaTreesClassifier() **"
   ]
  },
  {
   "cell_type": "code",
   "execution_count": null,
   "metadata": {},
   "outputs": [],
   "source": [
    "#FEATURE SELECTION USING EXTRA TREES CLASSIFIER\n",
    "from sklearn.ensemble import ExtraTreesClassifier\n",
    "model = ExtraTreesClassifier()\n",
    "model.fit(X,y)\n",
    "print(model.feature_importances_)\n",
    "feat_importances = pd.Series(model.feature_importances_, index = X.columns)\n",
    "feat_importances.nlargest(10).plot(kind = 'barh')\n",
    "plt.show()"
   ]
  },
  {
   "cell_type": "markdown",
   "metadata": {},
   "source": [
    "** Example of RFECV(RandomForestClassifier()) **"
   ]
  },
  {
   "cell_type": "code",
   "execution_count": null,
   "metadata": {},
   "outputs": [],
   "source": [
    "#RECURSIVE FEATURE ELIMINATION with cross validation (using Random Forest)\n",
    "'''Assigns weights to features (e.g., the coefficients of a linear model). \n",
    "Features whose weights are the smallest are pruned out.'''\n",
    "\n",
    "from sklearn.ensemble import RandomForestClassifier\n",
    "from sklearn.feature_selection import RFECV\n",
    "\n",
    "m = RFECV(RandomForestClassifier(), scoring = 'accuracy')\n",
    "m.fit(X,y)\n",
    "m.score(X,y)"
   ]
  },
  {
   "cell_type": "markdown",
   "metadata": {},
   "source": [
    "Example of SelectFromModel (LinearSVC)"
   ]
  },
  {
   "cell_type": "code",
   "execution_count": null,
   "metadata": {},
   "outputs": [],
   "source": [
    "#FEATURE SELECTION USING SelectFromModel AND SVC\n",
    "\n",
    "'''features are considered unimportant and removed, \n",
    "if the corresponding coef_ or featureimportances values \n",
    "are below the provided threshold parameter.\n",
    "Available heuristics are “mean”, “median” \n",
    "and float multiples of these like “0.1*mean”.'''\n",
    "\n",
    "from sklearn.svm import LinearSVC\n",
    "from sklearn.feature_selection import SelectFromModel\n",
    "\n",
    "m = SelectFromModel(LinearSVC(C=0.01, penalty='l1', dual=False))\n",
    "m.fit(X, y)"
   ]
  },
  {
   "cell_type": "markdown",
   "metadata": {},
   "source": [
    "** Example of SelectFromModel (LassoCV) **"
   ]
  },
  {
   "cell_type": "code",
   "execution_count": null,
   "metadata": {},
   "outputs": [],
   "source": [
    "#FEATURE SELECTION USING SelectFromModel AND LASSO\n",
    "\n",
    "from sklearn.linear_model import LassoCV\n",
    "\n",
    "m = SelectFromModel(LassoCV(cv = 5))\n",
    "m.fit(X,y)\n",
    "#m.transform(X).shape"
   ]
  },
  {
   "cell_type": "markdown",
   "metadata": {},
   "source": [
    "PCA"
   ]
  },
  {
   "cell_type": "code",
   "execution_count": null,
   "metadata": {},
   "outputs": [],
   "source": [
    "sklearn_pca = PCA(n_components=len(X.columns))\n",
    "Y_sklearn = sklearn_pca.fit_transform(X)\n",
    "\n",
    "cum_sum = sklearn_pca.explained_variance_ratio_.cumsum()\n",
    "\n",
    "sklearn_pca.explained_variance_ratio_[:10].sum()\n",
    "\n",
    "cum_sum = cum_sum*100"
   ]
  },
  {
   "cell_type": "code",
   "execution_count": null,
   "metadata": {},
   "outputs": [],
   "source": [
    "fig, ax = plt.subplots(figsize=(8,8))\n",
    "plt.bar(range(len(X.columns)), cum_sum, label='Cumulative _Sum_of_Explained _Varaince', color = 'b',alpha=0.5)"
   ]
  },
  {
   "cell_type": "code",
   "execution_count": null,
   "metadata": {},
   "outputs": [],
   "source": [
    "In this case every feature adds significant variance to the data, so it's not a good idea to make dimensionality reduction"
   ]
  },
  {
   "cell_type": "markdown",
   "metadata": {},
   "source": [
    "## Save models and ML pipeline"
   ]
  },
  {
   "cell_type": "code",
   "execution_count": null,
   "metadata": {},
   "outputs": [],
   "source": []
  },
  {
   "cell_type": "markdown",
   "metadata": {},
   "source": [
    "## Load models, to make predictions\n"
   ]
  },
  {
   "cell_type": "code",
   "execution_count": null,
   "metadata": {},
   "outputs": [],
   "source": []
  },
  {
   "cell_type": "markdown",
   "metadata": {},
   "source": [
    "FULL DATA CLEANSING AND CLASSIFICATION PIPELINE¶"
   ]
  },
  {
   "cell_type": "code",
   "execution_count": null,
   "metadata": {},
   "outputs": [],
   "source": [
    "#https://scikit-learn.org/stable/auto_examples/compose/plot_column_transformer_mixed_types.html#sphx-glr-auto-examples-compose-plot-column-transformer-mixed-types-py\n",
    "from sklearn.compose import ColumnTransformer\n",
    "from sklearn.pipeline import Pipeline\n",
    "from sklearn.impute import SimpleImputer\n",
    "from sklearn.preprocessing import StandardScaler, OneHotEncoder\n",
    "from sklearn.linear_model import LogisticRegression\n",
    "from sklearn.model_selection import train_test_split\n",
    "\n",
    "np.random.seed(0)\n",
    "\n",
    "# Read data from Titanic dataset.\n",
    "df = pd.read_csv('https://raw.githubusercontent.com/amueller/'\n",
    "               'scipy-2017-sklearn/091d371/notebooks/datasets/titanic3.csv')\n",
    "\n",
    "#We create the preprocessing pipelines for both numeric and categorical data\n",
    "numeric_features = ['age','fare']\n",
    "\n",
    "numeric_transformer = Pipeline(steps = [\n",
    "    ('imputer', SimpleImputer(strategy = 'constant', fill_value = 'missing')),\n",
    "    ('onehot', OneHotEncoder(handle_unknown = 'ignore'))\n",
    "])\n",
    "\n",
    "preprocessor = ColumnTransformer(transformers = [\n",
    "        ('num', numeric_transformer, numeric_features),\n",
    "        ('cat', categorical_transformer, categorical_features)\n",
    "    ])\n",
    "\n",
    "#Append classifier to preprocessing pipeline\n",
    "#Now we have a full prediction pipeline\n",
    "clf = Pipeline(steps=[('preprocessor', preprocessor),\n",
    "                      ('classifier', LogisticRegression(solver='lbfgs'))])\n",
    "\n",
    "X = df.drop('survived', axis = 1)\n",
    "y = df['survived']\n",
    "\n",
    "X_train, X_test, y_train, y_test = model_selection.train_test_split(X, y, test_size = 0.2)\n",
    "clf.fit(X_train, y_train)\n",
    "print(\"model score: %.3f\" % clf.score(X_test, y_test))"
   ]
  },
  {
   "cell_type": "markdown",
   "metadata": {},
   "source": [
    "Format to get predictions from new data"
   ]
  },
  {
   "cell_type": "code",
   "execution_count": null,
   "metadata": {},
   "outputs": [],
   "source": [
    "DIMENSIONALITY REDUCTION - PCA"
   ]
  },
  {
   "cell_type": "code",
   "execution_count": null,
   "metadata": {},
   "outputs": [],
   "source": [
    "#EXAMPLE OF DIM REDUCTION WITH PCA\n",
    "#We first scale the data\n",
    "\n",
    "from sklearn.preprocessing import StandardScaler\n",
    "scaler = StandardScaler()\n",
    "scaler.fit(df)\n",
    "scaled_data = scaler.transform(df)\n",
    "#scaled_data.shape\n",
    "\n",
    "#Apply PCA\n",
    "from sklearn.decomposition import PCA\n",
    "pca = PCA(n_components = 2) #2 is the number of dimension we want\n",
    "pca.fit(scaled_data)\n",
    "x_pca = pca.transform(scaled_data)\n",
    "#scaled_data.shape\n",
    "\n",
    "plt.figure(figsize = (8,6))\n",
    "plt.scatter(x_pca[:,0], x_pca[:,1],c=df['target_col'])\n",
    "plt.xlabel('First principal component')\n",
    "plt.ylabel('Second principal component')"
   ]
  },
  {
   "cell_type": "markdown",
   "metadata": {},
   "source": [
    "A typical ML implementation for a classification problem"
   ]
  },
  {
   "cell_type": "code",
   "execution_count": null,
   "metadata": {},
   "outputs": [],
   "source": [
    "\n",
    "#https://www.andreagrandi.it/2018/04/14/machine-learning-pima-indians-diabetes/\n",
    "# Import all the algorithms we want to test\n",
    "from sklearn import linear_model\n",
    "from sklearn.tree import DecisionTreeClassifier\n",
    "from sklearn.discriminant_analysis import LinearDiscriminantAnalysis\n",
    "from sklearn.svm import SVC\n",
    "from sklearn.svm import LinearSVC\n",
    "from sklearn.ensemble import RandomForestClassifier\n",
    "\n",
    "from sklearn.linear_model import LogisticRegression\n",
    "from sklearn.neighbors import KNeighborsClassifier\n",
    "from sklearn.naive_bayes import GaussianNB\n",
    "from sklearn.tree import DecisionTreeRegressor\n",
    "\n",
    "from sklearn import model_selection\n",
    "\n",
    "# Prepare an array with all the algorithms\n",
    "models = []\n",
    "models.append(('CART', DecisionTreeClassifier()))\n",
    "models.append(('KNN', KNeighborsClassifier()))\n",
    "models.append(('LDA', LinearDiscriminantAnalysis()))\n",
    "models.append(('LSVC', LinearSVC()))\n",
    "models.append(('NB', GaussianNB()))\n",
    "models.append(('RFC', RandomForestClassifier()))\n",
    "models.append(('SVM', SVC(gamma = 'auto')))\n",
    "\n",
    "#REGRESSION ALGORITHMS\n",
    "#models.append(('LR', LogisticRegression()))\n",
    "#models.append(('DTR', DecisionTreeRegressor()))\n",
    "#models.append(('SGDRegressor', linear_model.SGDRegressor())) \n",
    "#models.append(('BayesianRidge', linear_model.BayesianRidge()))\n",
    "#models.append(('LassoLars', linear_model.LassoLars())) \n",
    "#models.append(('ARDRegression', linear_model.ARDRegression())) \n",
    "#models.append(('PassiveAggressiveRegressor', linear_model.PassiveAggressiveRegressor())) \n",
    "#models.append(('TheilSenRegressor', linear_model.TheilSenRegressor()))\n",
    "#models.append(('LinearRegression', linear_model.LinearRegression())) \n",
    "\n",
    "\n",
    "from sklearn.model_selection import train_test_split\n",
    "from sklearn.model_selection import KFold\n",
    "from sklearn.model_selection import GridSearchCV\n",
    "num_folds = 3\n",
    "scoring = 'accuracy'\n",
    "\n",
    "# Prepare the configuration to run the test\n",
    "seed = 7\n",
    "results = []\n",
    "names = []\n",
    "X = train_set_scaled\n",
    "y = train_set_labels\n",
    "\n",
    "# Every algorithm is tested and results are\n",
    "# collected and printed\n",
    "for name, model in models:\n",
    "    kfold = model_selection.KFold(\n",
    "        n_splits=3, random_state=seed)\n",
    "    cv_results = model_selection.cross_val_score(\n",
    "        model, X, y, cv=kfold, scoring='accuracy')\n",
    "    results.append(cv_results)\n",
    "    names.append(name)\n",
    "    msg = \"%s: %f (%f)\" % (\n",
    "        name, cv_results.mean(), cv_results.std())\n",
    "    print(msg)\n",
    "    \n",
    "    \n",
    "# boxplot algorithm comparison\n",
    "fig = plt.figure()\n",
    "fig.suptitle('Algorithm Comparison')\n",
    "ax = fig.add_subplot(111)\n",
    "plt.boxplot(results)\n",
    "ax.set_xticklabels(names)\n",
    "plt.show()\n",
    "\n",
    "#ONCE CHOSEN THE ALGORITHM, WE DO SCALING, PARAM GRID K FOLD AND GRID SEARCH #################\n",
    "# Build a scaler\n",
    "scaler = StandardScaler().fit(X_train)\n",
    "rescaledX = scaler.transform(X_train)\n",
    "\n",
    "# Build parameter grid\n",
    "c_values = [0.1, 0.3, 0.5, 0.7, 0.9, 1.0, 1.3, 1.5, 1.7, 2.0]\n",
    "kernel_values = ['linear', 'poly', 'rbf', 'sigmoid']\n",
    "param_grid = dict(C=c_values, kernel=kernel_values)\n",
    "\n",
    "# Build the model\n",
    "model = SVC()\n",
    "kfold = KFold(n_splits = num_folds, random_state = seed)\n",
    "grid = GridSearchCV(estimator = model, param_grid = param_grid, scoring = scoring, cv = kfold)\n",
    "grid_result = grid.fit(rescaledX, y_train)\n",
    "\n",
    "# Show the results\n",
    "print(\"Best: %f using %s\" % (grid_result.best_score_, grid_result.best_params_))\n",
    "means = grid_result.cv_results_['mean_test_score']\n",
    "stds = grid_result.cv_results_['std_test_score']\n",
    "params = grid_result.cv_results_['params']\n",
    "\n",
    "for mean, stdev, param in zip(means, stds, params):\n",
    "    print(\"%f (%f) with: %r\" % (mean, stdev, param))\n",
    "    \n",
    "#MODEL IS NOW READY TO BE SAVED AND USED\n",
    "##############################################################################################"
   ]
  },
  {
   "cell_type": "markdown",
   "metadata": {},
   "source": [
    "Finding best parameters with GridSearchCV"
   ]
  },
  {
   "cell_type": "code",
   "execution_count": null,
   "metadata": {},
   "outputs": [],
   "source": [
    "#https://scikit-learn.org/stable/auto_examples/compose/plot_column_transformer_mixed_types.html#sphx-glr-auto-examples-compose-plot-column-transformer-mixed-types-py\n",
    "\n",
    "from sklearn.model_selection import GridSearchCV\n",
    "\n",
    "param_grid = {\n",
    "    'preprocessor__num__imputer__strategy': ['mean', 'median'],\n",
    "    'classifier__C': [0.1, 1.0, 10, 100]\n",
    "}\n",
    "\n",
    "grid_search = GridSearchCV(clf, param_grid, cv=10, iid=False)\n",
    "grid_search.fit(X_train, y_train)\n",
    "\n",
    "print((\"best logistic regression from grid search: %.3f\"\n",
    "       % grid_search.score(X_test, y_test)))"
   ]
  },
  {
   "cell_type": "code",
   "execution_count": null,
   "metadata": {},
   "outputs": [],
   "source": [
    "#GRADIENT DESCENT = iterative technique to minimize complex loss function\n",
    "\n",
    "'''Two ways to combat overfitting:\n",
    "1. Use more training data. The more you have, the harder it is to overfit\n",
    "the data by learning too much from any single training example.\n",
    "\n",
    "2. Use regularization. Add in a penalty in the loss function for building\n",
    "a model that assigns too much explanatory power to any one feature or\n",
    "allows too many features to be taken into account.'''\n",
    "\n",
    "'''Regularization loss: how much we penalize the model \n",
    "for having large parameters that heavily weight certain features'''"
   ]
  },
  {
   "cell_type": "code",
   "execution_count": null,
   "metadata": {},
   "outputs": [],
   "source": [
    "\n",
    "#Basic Keras neural network\n",
    "#Source: https://machinelearningmastery.com/tutorial-first-neural-network-python-keras/\n",
    "\n",
    "from numpy import loadtxt\n",
    "from keras.models import Sequential\n",
    "from keras.layers import Dense\n",
    "import pandas as pd\n",
    "\n",
    "# load the dataset\n",
    "dataset = loadtxt(r'D:\\Downloads\\DATASETS\\general\\pima_indian_dataset.csv', delimiter=',')\n",
    "\n",
    "# split into input (X) and output (y) variables\n",
    "X = dataset[:,0:8]\n",
    "y = dataset[:,8]\n",
    "\n",
    "# define the keras model\n",
    "model = Sequential()\n",
    "model.add(Dense(12, input_dim=8, activation='relu'))\n",
    "model.add(Dense(8, activation='relu'))\n",
    "model.add(Dense(1, activation='sigmoid'))\n",
    "\n",
    "# compile the keras model\n",
    "model.compile(loss='binary_crossentropy', optimizer='adam', metrics=['accuracy'])\n",
    "\n",
    "# fit the keras model on the dataset\n",
    "model.fit(X, y, epochs=20, batch_size=40)\n",
    "\n",
    "# evaluate the keras model\n",
    "_, accuracy = model.evaluate(X, y)\n",
    "print('Accuracy: %.2f' % (accuracy*100))"
   ]
  }
 ],
 "metadata": {
  "kernelspec": {
   "display_name": "Python 3",
   "language": "python",
   "name": "python3"
  },
  "language_info": {
   "codemirror_mode": {
    "name": "ipython",
    "version": 3
   },
   "file_extension": ".py",
   "mimetype": "text/x-python",
   "name": "python",
   "nbconvert_exporter": "python",
   "pygments_lexer": "ipython3",
   "version": "3.6.7"
  }
 },
 "nbformat": 4,
 "nbformat_minor": 1
}
